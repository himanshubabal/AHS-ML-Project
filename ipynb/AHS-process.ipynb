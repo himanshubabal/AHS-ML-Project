{
 "cells": [
  {
   "cell_type": "code",
   "execution_count": 1,
   "metadata": {
    "collapsed": false,
    "deletable": true,
    "editable": true
   },
   "outputs": [
    {
     "name": "stderr",
     "output_type": "stream",
     "text": [
      "Using TensorFlow backend.\n"
     ]
    }
   ],
   "source": [
    "import pandas as pd\n",
    "import numpy as np\n",
    "import h5py\n",
    "import matplotlib.pyplot as plt\n",
    "import matplotlib.mlab as mlab\n",
    "import tensorflow as tf\n",
    "import math\n",
    "import os\n",
    "from keras.models import Sequential\n",
    "from keras.layers import Dense, Dropout, Activation\n",
    "from keras.optimizers import SGD\n",
    "from keras.utils.np_utils import to_categorical"
   ]
  },
  {
   "cell_type": "code",
   "execution_count": 2,
   "metadata": {
    "collapsed": true,
    "deletable": true,
    "editable": true
   },
   "outputs": [],
   "source": [
    "data_path = 'data/'"
   ]
  },
  {
   "cell_type": "code",
   "execution_count": 11,
   "metadata": {
    "collapsed": false,
    "deletable": true,
    "editable": true
   },
   "outputs": [
    {
     "name": "stderr",
     "output_type": "stream",
     "text": [
      "/Users/himanshubabal/anaconda3/lib/python3.6/site-packages/IPython/core/interactiveshell.py:2717: DtypeWarning: Columns (49) have mixed types. Specify dtype option on import or set low_memory=False.\n",
      "  interactivity=interactivity, compiler=compiler, result=result)\n"
     ]
    },
    {
     "data": {
      "text/plain": [
       "(4155187, 99)"
      ]
     },
     "execution_count": 11,
     "metadata": {},
     "output_type": "execute_result"
    }
   ],
   "source": [
    "AHS_comb = pd.read_csv(data_path + \"22_AHS_COMB.csv\", sep=\"|\")\n",
    "AHS_comb.shape"
   ]
  },
  {
   "cell_type": "code",
   "execution_count": 5,
   "metadata": {
    "collapsed": true,
    "deletable": true,
    "editable": true
   },
   "outputs": [],
   "source": [
    "def get_frequency(dataframe, colname, single_col_df=False) :\n",
    "    # Get the specific column for which we need frequency\n",
    "    if not single_col_df :\n",
    "        dataframe = dataframe[[colname]]\n",
    "    # Get the frequency in unsorted manner\n",
    "    value_df = dataframe.apply(pd.value_counts)\n",
    "    # Sort it\n",
    "    sorted_values = pd.DataFrame.sort(value_df)\n",
    "    return (sorted_values)"
   ]
  },
  {
   "cell_type": "code",
   "execution_count": 3,
   "metadata": {
    "collapsed": false,
    "deletable": true,
    "editable": true
   },
   "outputs": [
    {
     "name": "stderr",
     "output_type": "stream",
     "text": [
      "/Users/himanshubabal/anaconda3/lib/python3.6/site-packages/IPython/core/interactiveshell.py:2717: DtypeWarning: Columns (41) have mixed types. Specify dtype option on import or set low_memory=False.\n",
      "  interactivity=interactivity, compiler=compiler, result=result)\n"
     ]
    }
   ],
   "source": [
    "dist = pd.read_csv(data_path + '22_AHS_COMB_Clean.csv')"
   ]
  },
  {
   "cell_type": "code",
   "execution_count": 4,
   "metadata": {
    "collapsed": true,
    "deletable": true,
    "editable": true
   },
   "outputs": [],
   "source": [
    "diagnosed_c = dist[['diagnosed_for']]"
   ]
  },
  {
   "cell_type": "code",
   "execution_count": 9,
   "metadata": {
    "collapsed": false,
    "deletable": true,
    "editable": true
   },
   "outputs": [
    {
     "data": {
      "text/plain": [
       "(4155187, 78)"
      ]
     },
     "execution_count": 9,
     "metadata": {},
     "output_type": "execute_result"
    }
   ],
   "source": [
    "dist.shape"
   ]
  },
  {
   "cell_type": "code",
   "execution_count": 6,
   "metadata": {
    "collapsed": false,
    "deletable": true,
    "editable": true
   },
   "outputs": [
    {
     "data": {
      "text/plain": [
       "(4155187, 1)"
      ]
     },
     "execution_count": 6,
     "metadata": {},
     "output_type": "execute_result"
    }
   ],
   "source": [
    "diagnosed_c.shape"
   ]
  },
  {
   "cell_type": "code",
   "execution_count": 7,
   "metadata": {
    "collapsed": false,
    "deletable": true,
    "editable": true
   },
   "outputs": [
    {
     "name": "stderr",
     "output_type": "stream",
     "text": [
      "/Users/himanshubabal/anaconda3/lib/python3.6/site-packages/ipykernel/__main__.py:8: FutureWarning: sort(....) is deprecated, use sort_index(.....)\n"
     ]
    },
    {
     "data": {
      "image/png": "[encoded data removed]",
      "text/plain": [
       "<matplotlib.figure.Figure at 0x11a638208>"
      ]
     },
     "metadata": {},
     "output_type": "display_data"
    }
   ],
   "source": [
    "fig, ax = plt.subplots()\n",
    "get_frequency(diagnosed_c, 'diagnosed_for').plot(ax=ax, kind='bar')\n",
    "plt.show()"
   ]
  },
  {
   "cell_type": "code",
   "execution_count": null,
   "metadata": {
    "collapsed": true,
    "deletable": true,
    "editable": true
   },
   "outputs": [],
   "source": []
  },
  {
   "cell_type": "code",
   "execution_count": 3,
   "metadata": {
    "collapsed": false,
    "deletable": true,
    "editable": true
   },
   "outputs": [
    {
     "name": "stdout",
     "output_type": "stream",
     "text": [
      "   \n",
      "Splitting train and test data in ratio 85:15\n"
     ]
    }
   ],
   "source": [
    "diagnosed_data = pd.read_csv(data_path + '22_COMB_diag_hotData.csv', low_memory=False)\n",
    "diagnosed_col = pd.read_csv(data_path + '22_COMB_diag_col.csv', low_memory=False)\n",
    "\n",
    "if 'Unnamed: 0' in list(diagnosed_col):\n",
    "\tdiagnosed_col = diagnosed_col.drop('Unnamed: 0',axis=1,errors='ignore')\n",
    "\n",
    "assert (diagnosed_data.shape[0] == diagnosed_col.shape[0])\n",
    "split_index = int(diagnosed_data.shape[0] * 0.85)\n",
    "\n",
    "print('   ')\n",
    "print('Splitting train and test data in ratio 85:15')\n",
    "train_data = np.array(diagnosed_data.astype(float))[:split_index]\n",
    "train_label = np.array(diagnosed_col.astype(float))[:split_index][:,0]\n",
    "\n",
    "test_data = np.array(diagnosed_data.astype(float))[split_index:]\n",
    "test_label = np.array(diagnosed_col.astype(float))[split_index:][:,0]"
   ]
  },
  {
   "cell_type": "code",
   "execution_count": 4,
   "metadata": {
    "collapsed": false,
    "deletable": true,
    "editable": true
   },
   "outputs": [
    {
     "data": {
      "text/plain": [
       "(158036, 303)"
      ]
     },
     "execution_count": 4,
     "metadata": {},
     "output_type": "execute_result"
    }
   ],
   "source": [
    "diagnosed_data.shape"
   ]
  },
  {
   "cell_type": "code",
   "execution_count": null,
   "metadata": {
    "collapsed": true,
    "deletable": true,
    "editable": true
   },
   "outputs": [],
   "source": []
  },
  {
   "cell_type": "code",
   "execution_count": 5,
   "metadata": {
    "collapsed": false,
    "deletable": true,
    "editable": true
   },
   "outputs": [
    {
     "ename": "NameError",
     "evalue": "name 'get_frequency' is not defined",
     "output_type": "error",
     "traceback": [
      "\u001b[0;31m\u001b[0m",
      "\u001b[0;31mNameError\u001b[0mTraceback (most recent call last)",
      "\u001b[0;32m<ipython-input-5-e1491ac97e75>\u001b[0m in \u001b[0;36m<module>\u001b[0;34m()\u001b[0m\n\u001b[1;32m      1\u001b[0m \u001b[0mfig\u001b[0m\u001b[0;34m,\u001b[0m \u001b[0max\u001b[0m \u001b[0;34m=\u001b[0m \u001b[0mplt\u001b[0m\u001b[0;34m.\u001b[0m\u001b[0msubplots\u001b[0m\u001b[0;34m(\u001b[0m\u001b[0;34m)\u001b[0m\u001b[0;34m\u001b[0m\u001b[0m\n\u001b[0;32m----> 2\u001b[0;31m \u001b[0mget_frequency\u001b[0m\u001b[0;34m(\u001b[0m\u001b[0mdiagnosed_col\u001b[0m\u001b[0;34m,\u001b[0m \u001b[0;34m'diagnosed_for'\u001b[0m\u001b[0;34m)\u001b[0m\u001b[0;34m.\u001b[0m\u001b[0mplot\u001b[0m\u001b[0;34m(\u001b[0m\u001b[0max\u001b[0m\u001b[0;34m=\u001b[0m\u001b[0max\u001b[0m\u001b[0;34m,\u001b[0m \u001b[0mkind\u001b[0m\u001b[0;34m=\u001b[0m\u001b[0;34m'bar'\u001b[0m\u001b[0;34m)\u001b[0m\u001b[0;34m\u001b[0m\u001b[0m\n\u001b[0m\u001b[1;32m      3\u001b[0m \u001b[0mplt\u001b[0m\u001b[0;34m.\u001b[0m\u001b[0mshow\u001b[0m\u001b[0;34m(\u001b[0m\u001b[0;34m)\u001b[0m\u001b[0;34m\u001b[0m\u001b[0m\n",
      "\u001b[0;31mNameError\u001b[0m: name 'get_frequency' is not defined"
     ]
    }
   ],
   "source": [
    "fig, ax = plt.subplots()\n",
    "get_frequency(diagnosed_col, 'diagnosed_for').plot(ax=ax, kind='bar')\n",
    "plt.show()"
   ]
  },
  {
   "cell_type": "code",
   "execution_count": 6,
   "metadata": {
    "collapsed": true,
    "deletable": true,
    "editable": true
   },
   "outputs": [],
   "source": [
    "# To predict -> 1,2,3,7,9,19,21,99"
   ]
  },
  {
   "cell_type": "code",
   "execution_count": 7,
   "metadata": {
    "collapsed": true,
    "deletable": true,
    "editable": true
   },
   "outputs": [],
   "source": [
    "pred_list = [1.0,2.0,3.0,7.0,9.0,19.0,21.0,99.0]\n",
    "new_list = [1,2,3,4,5,6,7,8]"
   ]
  },
  {
   "cell_type": "code",
   "execution_count": 8,
   "metadata": {
    "collapsed": false,
    "deletable": true,
    "editable": true
   },
   "outputs": [],
   "source": [
    "\n",
    "# Replace Label No 99 by 32\n",
    "# Label No 99 causes 'to_categorical' to make 100 one-hot values\n",
    "# Replacing it by 33 leads to only 33 values\n",
    "def replace_99_labes(label_data):\n",
    "    for i in range(len(label_data)):\n",
    "        e = label_data[i]\n",
    "        if e in pred_list:\n",
    "            ind = pred_list.index(label_data[i])\n",
    "            new_element = new_list[ind]\n",
    "            label_data[i] = new_element\n",
    "        else:\n",
    "            label_data[i] = 0\n",
    "# \t\tif label_data[i] == 99.0 :\n",
    "# \t\t\tlabel_data[i] = 32.0\n",
    "    return label_data\n",
    "\n",
    "train_rep = replace_99_labes(train_label)\n",
    "test_rep = replace_99_labes(test_label)"
   ]
  },
  {
   "cell_type": "code",
   "execution_count": 9,
   "metadata": {
    "collapsed": true,
    "deletable": true,
    "editable": true
   },
   "outputs": [],
   "source": [
    "train_label = to_categorical(train_rep.astype('int32'), nb_classes=None)\n",
    "test_label = to_categorical(test_rep.astype('int32'), nb_classes=None)"
   ]
  },
  {
   "cell_type": "code",
   "execution_count": 10,
   "metadata": {
    "collapsed": false,
    "deletable": true,
    "editable": true
   },
   "outputs": [
    {
     "data": {
      "text/plain": [
       "(134330, 303)"
      ]
     },
     "execution_count": 10,
     "metadata": {},
     "output_type": "execute_result"
    }
   ],
   "source": [
    "train_data.shape"
   ]
  },
  {
   "cell_type": "code",
   "execution_count": 11,
   "metadata": {
    "collapsed": false,
    "deletable": true,
    "editable": true
   },
   "outputs": [
    {
     "data": {
      "text/plain": [
       "(23706, 9)"
      ]
     },
     "execution_count": 11,
     "metadata": {},
     "output_type": "execute_result"
    }
   ],
   "source": [
    "test_label.shape"
   ]
  },
  {
   "cell_type": "code",
   "execution_count": 12,
   "metadata": {
    "collapsed": true,
    "deletable": true,
    "editable": true
   },
   "outputs": [],
   "source": [
    "# Fully-Connected Neural network with 4 Hidden layers\n",
    "model = Sequential()\n",
    "# Input Layer\n",
    "model.add(Dense(50, input_dim=test_data.shape[1], init='uniform'))\n",
    "model.add(Activation('relu'))\n",
    "# model.add(Dropout(0.5))\n",
    "# Hidden Layer - 1\n",
    "\n",
    "model.add(Dense(200, init='uniform'))\n",
    "model.add(Activation('relu'))\n",
    "\n",
    "model.add(Dense(400, init='uniform'))\n",
    "model.add(Activation('relu'))\n",
    "\n",
    "model.add(Dense(750, init='uniform'))\n",
    "model.add(Activation('relu'))\n",
    "# model.add(Dropout(0.5))\n",
    "# Hidden Layer - 2\n",
    "model.add(Dense(500, init='uniform'))\n",
    "model.add(Activation('relu'))\n",
    "# model.add(Dropout(0.5))\n",
    "# Hidden Layer - 3\n",
    "model.add(Dense(250, init='uniform'))\n",
    "model.add(Activation('relu'))\n",
    "# model.add(Dropout(0.5))\n",
    "# Hidden Layer - 4\n",
    "model.add(Dense(100, init='uniform'))\n",
    "model.add(Activation('relu'))\n",
    "model.add(Dropout(0.3))\n",
    "# Output Layer\n",
    "model.add(Dense(test_label.shape[1], init='uniform'))\n",
    "model.add(Activation('softmax'))"
   ]
  },
  {
   "cell_type": "code",
   "execution_count": 13,
   "metadata": {
    "collapsed": true,
    "deletable": true,
    "editable": true
   },
   "outputs": [],
   "source": [
    "from keras.optimizers import Adagrad"
   ]
  },
  {
   "cell_type": "code",
   "execution_count": 14,
   "metadata": {
    "collapsed": false,
    "deletable": true,
    "editable": true
   },
   "outputs": [],
   "source": [
    "sgd = SGD(lr=0.0001, decay=1e-3, momentum=0.9, nesterov=True)\n",
    "\n",
    "adag = Adagrad(lr=0.001, epsilon=1e-08, decay=0.0)\n",
    "\n",
    "model.compile(loss='categorical_crossentropy',\n",
    "              optimizer=adag,\n",
    "              metrics=['accuracy'])"
   ]
  },
  {
   "cell_type": "code",
   "execution_count": 20,
   "metadata": {
    "collapsed": false,
    "deletable": true,
    "editable": true,
    "scrolled": true
   },
   "outputs": [
    {
     "name": "stdout",
     "output_type": "stream",
     "text": [
      "Epoch 1/100\n",
      "2s - loss: 1.8956 - acc: 0.3066\n",
      "Epoch 2/100\n",
      "2s - loss: 1.8967 - acc: 0.3071\n",
      "Epoch 3/100\n",
      "2s - loss: 1.8938 - acc: 0.3074\n",
      "Epoch 4/100\n",
      "2s - loss: 1.8955 - acc: 0.3074\n",
      "Epoch 5/100\n",
      "2s - loss: 1.8986 - acc: 0.3063\n",
      "Epoch 6/100\n",
      "2s - loss: 1.8948 - acc: 0.3087\n",
      "Epoch 7/100\n",
      "2s - loss: 1.8905 - acc: 0.3091\n",
      "Epoch 8/100\n",
      "2s - loss: 1.8954 - acc: 0.3075\n",
      "Epoch 9/100\n",
      "2s - loss: 1.8900 - acc: 0.3094\n",
      "Epoch 10/100\n",
      "2s - loss: 1.8956 - acc: 0.3067\n",
      "Epoch 11/100\n",
      "2s - loss: 1.8905 - acc: 0.3109\n",
      "Epoch 12/100\n",
      "2s - loss: 1.8935 - acc: 0.3079\n",
      "Epoch 13/100\n",
      "2s - loss: 1.8870 - acc: 0.3113\n",
      "Epoch 14/100\n",
      "2s - loss: 1.8922 - acc: 0.3077\n",
      "Epoch 15/100\n",
      "2s - loss: 1.8906 - acc: 0.3097\n",
      "Epoch 16/100\n",
      "2s - loss: 1.8865 - acc: 0.3116\n",
      "Epoch 17/100\n",
      "2s - loss: 1.8887 - acc: 0.3124\n",
      "Epoch 18/100\n",
      "2s - loss: 1.8856 - acc: 0.3122\n",
      "Epoch 19/100\n",
      "2s - loss: 1.8851 - acc: 0.3132\n",
      "Epoch 20/100\n",
      "2s - loss: 1.8839 - acc: 0.3114\n",
      "Epoch 21/100\n",
      "2s - loss: 1.8848 - acc: 0.3113\n",
      "Epoch 22/100\n",
      "2s - loss: 1.8845 - acc: 0.3128\n",
      "Epoch 23/100\n",
      "2s - loss: 1.8849 - acc: 0.3124\n",
      "Epoch 24/100\n",
      "2s - loss: 1.8794 - acc: 0.3148\n",
      "Epoch 25/100\n",
      "2s - loss: 1.8821 - acc: 0.3121\n",
      "Epoch 26/100\n",
      "2s - loss: 1.8781 - acc: 0.3163\n",
      "Epoch 27/100\n",
      "2s - loss: 1.8782 - acc: 0.3163\n",
      "Epoch 28/100\n",
      "2s - loss: 1.8810 - acc: 0.3131\n",
      "Epoch 29/100\n",
      "2s - loss: 1.8798 - acc: 0.3150\n",
      "Epoch 30/100\n",
      "2s - loss: 1.8776 - acc: 0.3154\n",
      "Epoch 31/100\n",
      "2s - loss: 1.8772 - acc: 0.3147\n",
      "Epoch 32/100\n",
      "2s - loss: 1.8769 - acc: 0.3165\n",
      "Epoch 33/100\n",
      "2s - loss: 1.8783 - acc: 0.3167\n",
      "Epoch 34/100\n",
      "2s - loss: 1.8770 - acc: 0.3172\n",
      "Epoch 35/100\n",
      "2s - loss: 1.8768 - acc: 0.3165\n",
      "Epoch 36/100\n",
      "2s - loss: 1.8727 - acc: 0.3186\n",
      "Epoch 37/100\n",
      "2s - loss: 1.8737 - acc: 0.3181\n",
      "Epoch 38/100\n",
      "2s - loss: 1.8738 - acc: 0.3174\n",
      "Epoch 39/100\n",
      "2s - loss: 1.8723 - acc: 0.3181\n",
      "Epoch 40/100\n",
      "2s - loss: 1.8720 - acc: 0.3188\n",
      "Epoch 41/100\n",
      "2s - loss: 1.8706 - acc: 0.3193\n",
      "Epoch 42/100\n",
      "2s - loss: 1.8707 - acc: 0.3181\n",
      "Epoch 43/100\n",
      "3s - loss: 1.8715 - acc: 0.3180\n",
      "Epoch 44/100\n",
      "3s - loss: 1.8715 - acc: 0.3199\n",
      "Epoch 45/100\n",
      "3s - loss: 1.8669 - acc: 0.3208\n",
      "Epoch 46/100\n",
      "3s - loss: 1.8684 - acc: 0.3203\n",
      "Epoch 47/100\n",
      "4s - loss: 1.8680 - acc: 0.3210\n",
      "Epoch 48/100\n",
      "3s - loss: 1.8674 - acc: 0.3209\n",
      "Epoch 49/100\n",
      "3s - loss: 1.8636 - acc: 0.3220\n",
      "Epoch 50/100\n",
      "2s - loss: 1.8673 - acc: 0.3200\n",
      "Epoch 51/100\n",
      "2s - loss: 1.8626 - acc: 0.3236\n",
      "Epoch 52/100\n",
      "3s - loss: 1.8653 - acc: 0.3229\n",
      "Epoch 53/100\n",
      "2s - loss: 1.8640 - acc: 0.3214\n",
      "Epoch 54/100\n",
      "2s - loss: 1.8620 - acc: 0.3232\n",
      "Epoch 55/100\n",
      "2s - loss: 1.8617 - acc: 0.3229\n",
      "Epoch 56/100\n",
      "2s - loss: 1.8587 - acc: 0.3237\n",
      "Epoch 57/100\n",
      "3s - loss: 1.8630 - acc: 0.3232\n",
      "Epoch 58/100\n",
      "3s - loss: 1.8598 - acc: 0.3239\n",
      "Epoch 59/100\n",
      "2s - loss: 1.8614 - acc: 0.3233\n",
      "Epoch 60/100\n",
      "2s - loss: 1.8603 - acc: 0.3239\n",
      "Epoch 61/100\n",
      "2s - loss: 1.8569 - acc: 0.3259\n",
      "Epoch 62/100\n",
      "2s - loss: 1.8571 - acc: 0.3261\n",
      "Epoch 63/100\n",
      "2s - loss: 1.8581 - acc: 0.3250\n",
      "Epoch 64/100\n",
      "2s - loss: 1.8574 - acc: 0.3244\n",
      "Epoch 65/100\n",
      "2s - loss: 1.8523 - acc: 0.3266\n",
      "Epoch 66/100\n",
      "2s - loss: 1.8555 - acc: 0.3259\n",
      "Epoch 67/100\n",
      "2s - loss: 1.8542 - acc: 0.3257\n",
      "Epoch 68/100\n",
      "3s - loss: 1.8570 - acc: 0.3264\n",
      "Epoch 69/100\n",
      "3s - loss: 1.8503 - acc: 0.3281\n",
      "Epoch 70/100\n",
      "2s - loss: 1.8504 - acc: 0.3279\n",
      "Epoch 71/100\n",
      "3s - loss: 1.8511 - acc: 0.3286\n",
      "Epoch 72/100\n",
      "3s - loss: 1.8501 - acc: 0.3281\n",
      "Epoch 73/100\n",
      "3s - loss: 1.8472 - acc: 0.3301\n",
      "Epoch 74/100\n",
      "3s - loss: 1.8517 - acc: 0.3283\n",
      "Epoch 75/100\n",
      "2s - loss: 1.8465 - acc: 0.3313\n",
      "Epoch 76/100\n",
      "2s - loss: 1.8466 - acc: 0.3306\n",
      "Epoch 77/100\n",
      "2s - loss: 1.8483 - acc: 0.3295\n",
      "Epoch 78/100\n",
      "2s - loss: 1.8464 - acc: 0.3308\n",
      "Epoch 79/100\n",
      "2s - loss: 1.8462 - acc: 0.3299\n",
      "Epoch 80/100\n",
      "3s - loss: 1.8467 - acc: 0.3296\n",
      "Epoch 81/100\n",
      "3s - loss: 1.8450 - acc: 0.3302\n",
      "Epoch 82/100\n",
      "3s - loss: 1.8460 - acc: 0.3298\n",
      "Epoch 83/100\n",
      "3s - loss: 1.8456 - acc: 0.3316\n",
      "Epoch 84/100\n",
      "2s - loss: 1.8433 - acc: 0.3309\n",
      "Epoch 85/100\n",
      "2s - loss: 1.8405 - acc: 0.3325\n",
      "Epoch 86/100\n",
      "2s - loss: 1.8425 - acc: 0.3318\n",
      "Epoch 87/100\n",
      "2s - loss: 1.8394 - acc: 0.3332\n",
      "Epoch 88/100\n",
      "2s - loss: 1.8407 - acc: 0.3320\n",
      "Epoch 89/100\n",
      "2s - loss: 1.8399 - acc: 0.3332\n",
      "Epoch 90/100\n",
      "3s - loss: 1.8389 - acc: 0.3327\n",
      "Epoch 91/100\n",
      "2s - loss: 1.8388 - acc: 0.3339\n",
      "Epoch 92/100\n",
      "2s - loss: 1.8370 - acc: 0.3345\n",
      "Epoch 93/100\n",
      "2s - loss: 1.8402 - acc: 0.3329\n",
      "Epoch 94/100\n",
      "2s - loss: 1.8384 - acc: 0.3339\n",
      "Epoch 95/100\n",
      "2s - loss: 1.8356 - acc: 0.3358\n",
      "Epoch 96/100\n",
      "2s - loss: 1.8358 - acc: 0.3346\n",
      "Epoch 97/100\n",
      "2s - loss: 1.8359 - acc: 0.3350\n",
      "Epoch 98/100\n",
      "2s - loss: 1.8341 - acc: 0.3346\n",
      "Epoch 99/100\n",
      "3s - loss: 1.8364 - acc: 0.3352\n",
      "Epoch 100/100\n",
      "2s - loss: 1.8327 - acc: 0.3351\n"
     ]
    },
    {
     "data": {
      "text/plain": [
       "<keras.callbacks.History at 0x7f896c10de50>"
      ]
     },
     "execution_count": 20,
     "metadata": {},
     "output_type": "execute_result"
    }
   ],
   "source": [
    "model.fit(train_data, train_label,\n",
    "          nb_epoch=100,\n",
    "          batch_size=512,\n",
    "          verbose=2)\n"
   ]
  },
  {
   "cell_type": "code",
   "execution_count": 21,
   "metadata": {
    "collapsed": false,
    "deletable": true,
    "editable": true
   },
   "outputs": [
    {
     "name": "stdout",
     "output_type": "stream",
     "text": [
      "20480/23706 [========================>.....] - ETA: 0s\b\b\b\b\b\b\b\b\b\b\b\b\b\b\b\b\b\b\b\b\b\b\b\b\b\b\b\b\b\b\b\b\b\b\b\b\b\b\b\b\b\b\b\b\b\b\b\b\b\b\b\b\b\b\b\b\b\b\b\b\b\b\b\b\b\b\b\b\b\b\b\b\b\b\b\b\b\b\b\b\b\b\b\b\b\b\b\b\b\b\b\b\b\b\b\b\b\b\b\b\b\b\b\b\b\b\b\b\b\b\b\b\b\b\b\b\b\b\b\b\b\b\b\b\b\b\b\b\b\b\b\b\b\b\b\b\b\b\b\b\b\b\b\b\b\b\b\b\b\b\b\b\b\b\b\b\b\b\b\b\b\b\b\b\b\b\b\b\b\b\b\b\b\b\b\b\b\b\b\b\b\b\b\b\b\b\b\b\b\b\b\b\b\b\b\b\b\b\b\b\b\b\b\b\b\b\b\b\b\b\b\b\b\b\b\b\b\b\b\b\b\b\b\b\b\b\b\b\b\b\b\b\b\b\b\b\b\b\b\b\b\b\b\b\b\b\b\b\b\b\b\b\b\b\b\b\b\b\b\b\b\b\b\b\b\b\b\b\b\b\b\b\b\b\b\b\b\b\b\b\b\b\b\b\b\b\b\b\b\b\b\b\b\b\b\b\b\b\b\b\b\b\b\b\b\b\b\b\b\b\b\b\b\b\b\b\b\b\b\b\b\b\b\b"
     ]
    },
    {
     "data": {
      "text/plain": [
       "[1.8325787096056547, 0.3432042521182509]"
      ]
     },
     "execution_count": 21,
     "metadata": {},
     "output_type": "execute_result"
    }
   ],
   "source": [
    "model.evaluate(test_data, test_label, batch_size=128)"
   ]
  },
  {
   "cell_type": "code",
   "execution_count": 22,
   "metadata": {
    "collapsed": true,
    "deletable": true,
    "editable": true
   },
   "outputs": [],
   "source": [
    "model.save('models/keras/try-1.h5')"
   ]
  },
  {
   "cell_type": "code",
   "execution_count": null,
   "metadata": {
    "collapsed": true
   },
   "outputs": [],
   "source": []
  }
 ],
 "metadata": {
  "kernelspec": {
   "display_name": "Python 2",
   "language": "python",
   "name": "python2"
  },
  "language_info": {
   "codemirror_mode": {
    "name": "ipython",
    "version": 2
   },
   "file_extension": ".py",
   "mimetype": "text/x-python",
   "name": "python",
   "nbconvert_exporter": "python",
   "pygments_lexer": "ipython2",
   "version": "2.7.13"
  }
 },
 "nbformat": 4,
 "nbformat_minor": 2
}
