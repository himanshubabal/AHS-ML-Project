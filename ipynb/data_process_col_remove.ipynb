{
 "cells": [
  {
   "cell_type": "code",
   "execution_count": null,
   "metadata": {
    "collapsed": true
   },
   "outputs": [],
   "source": [
    "import pandas as pd\n",
    "import numpy as np\n",
    "import h5py\n",
    "import math\n",
    "import os"
   ]
  },
  {
   "cell_type": "code",
   "execution_count": null,
   "metadata": {
    "collapsed": true
   },
   "outputs": [],
   "source": [
    "data_path = '/home/physics/btech/ph1140797/AHS-ML-Project/data/'"
   ]
  },
  {
   "cell_type": "code",
   "execution_count": null,
   "metadata": {
    "collapsed": true
   },
   "outputs": [],
   "source": [
    "from python_helper.sort_clean_data import lowercase_32Char_list\n",
    "from python_helper.sort_clean_data import get_sheet_field_names\n",
    "from python_helper.sort_clean_data import remove_yellow_fields\n",
    "from python_helper.sort_clean_data import sort_dataset_state_dist_house\n",
    "from python_helper.sort_clean_data import create_balanced_classes"
   ]
  },
  {
   "cell_type": "code",
   "execution_count": null,
   "metadata": {
    "collapsed": true
   },
   "outputs": [],
   "source": [
    "def remove_yellow_df():\n",
    "\tAHS_struct_workbook = pd.ExcelFile(data_path + \"Data_structure_AHS.xlsx\")\n",
    "\tAHS_struct_sheets_names = AHS_struct_workbook.sheet_names\n",
    "\n",
    "\t# ---- Uncomment these lines for processing other datasets as well ----\n",
    "\t# mort_field_list = lowercase_32Char_list(get_sheet_field_names(AHS_struct_workbook, \"MORT\"))\n",
    "\t# wps_field_list = lowercase_32Char_list(get_sheet_field_names(AHS_struct_workbook, \"WPS\"))\n",
    "\t# women_field_list = lowercase_32Char_list(get_sheet_field_names(AHS_struct_workbook, \"WOMAN\"))\n",
    "\t#\n",
    "\t# AHS_mort = pd.read_csv(data_path + \"22_AHS_MORT.csv\", sep=\"|\")\n",
    "\t# AHS_wps = pd.read_csv(data_path + \"22_AHS_WPS.csv\", sep=\"|\")\n",
    "\t# AHS_women = pd.read_csv(data_path + \"22_AHS_WOMEN.csv\", sep=\"|\")\n",
    "\t#\n",
    "\t# mort_clean = remove_yellow_fields(AHS_mort, mort_field_list[0])\n",
    "\t# wps_clean = remove_yellow_fields(AHS_wps, wps_field_list[0])\n",
    "\t# women_clean = remove_yellow_fields(AHS_women, women_field_list[0])\n",
    "\t#\n",
    "\t# mort_clean.to_csv(data_path + '22_AHS_MORT_Clean.csv')\n",
    "\t# wps_clean.to_csv(data_path + '22_AHS_WPS_Clean.csv')\n",
    "\t# women_clean.to_csv(data_path + '22_AHS_WOMEN_Clean.csv')\n",
    "\n",
    "\tcomb_field_list = lowercase_32Char_list(get_sheet_field_names(AHS_struct_workbook, \"COMB\"))\n",
    "\tAHS_comb = pd.read_csv(data_path + \"22_AHS_COMB.csv\", sep=\"|\")\n",
    "\n",
    "\tprint('    ')\n",
    "\tprint('Removing Yellow Fields from COMB Data')\n",
    "\tdata_clean = remove_yellow_fields(AHS_comb, comb_field_list[0])\n",
    "\n",
    "\tprint('Saving Clean Data to data/22_AHS_COMB_Clean.csv')\n",
    "\tdata_clean.to_csv(data_path + '22_AHS_COMB_Clean.csv')\n",
    "\n",
    "\tdel AHS_struct_workbook, AHS_struct_sheets_names\n",
    "\tdel AHS_comb, data_clean, comb_field_list"
   ]
  },
  {
   "cell_type": "code",
   "execution_count": null,
   "metadata": {
    "collapsed": false
   },
   "outputs": [],
   "source": [
    "def check_if_exists(force=False):\n",
    "\tfile_path = data_path + '22_AHS_COMB_Clean.csv'\n",
    "\tif not os.path.exists(file_path):\n",
    "\t\tremove_yellow_df()\n",
    "\telse:\n",
    "\t\tif force:\n",
    "\t\t\tremove_yellow_df()\n",
    "\t\telse:\n",
    "\t\t\tprint('Yellow Fields already removed. Proceeding further')\n",
    "\n",
    "# Set force = True  to force it to redo even if it exists\n",
    "check_if_exists()"
   ]
  },
  {
   "cell_type": "code",
   "execution_count": null,
   "metadata": {
    "collapsed": false
   },
   "outputs": [],
   "source": [
    "print('PART - 2 : Preparing Data for the analysis')\n",
    "\n",
    "def one_hot_df(data_frame, one_hot_colnames=list()) :\n",
    "    if len(one_hot_colnames) != 0:\n",
    "        colnames = list(data_frame)\n",
    "        hot_col = list()\n",
    "\n",
    "        for hot in one_hot_colnames :\n",
    "            if hot in colnames :\n",
    "                hot_col.append(hot)\n",
    "    else:\n",
    "        hot_col = list(data_frame)\n",
    "        \n",
    "    if 'district' in hot_col :\n",
    "        hot_col.remove('district')\n",
    "    if 'state' in hot_col :\n",
    "        hot_col.remove('state')\n",
    "    if 'age' in hot_col:\n",
    "        hot_col.remove('age')\n",
    "            \n",
    "    data_frame = pd.get_dummies(data_frame, columns=hot_col)\n",
    "    return (data_frame)\n",
    "\n",
    "\n",
    "# These are the columns which I think are irrelevant in the analysis\n",
    "# Feel free to add or remove entries \n",
    "col_to_be_removed = [\n",
    "    'state',\n",
    "    'Unnamed: 0',\n",
    "    'psu_id',\n",
    "    'house_no',\n",
    "    'house_hold_no',\n",
    "    'member_identity',\n",
    "    'father_serial_no',\n",
    "    'mother_serial_no',\n",
    "    'date_of_birth',\n",
    "    'month_of_birth',\n",
    "    'year_of_birth',\n",
    "    'date_of_marriage',\n",
    "    'month_of_marriage',\n",
    "    'year_of_marriage',\n",
    "    'building_no',\n",
    "    'no_of_dwelling_rooms',\n",
    "    'rural_1',\n",
    "    'rural_2',\n",
    "    'stratum_code',\n",
    "    'relation_to_head',\n",
    "    'member_identity',\n",
    "    'father_serial_no',\n",
    "    'mother_serial_no',\n",
    "    'date_of_birth',\n",
    "    'month_of_birth',\n",
    "    'year_of_birth',\n",
    "    'date_of_marriage',\n",
    "    'month_of_marriage',\n",
    "    'year_of_marriage',\n",
    "    'isheadchanged',\n",
    "    'year'\n",
    "]"
   ]
  },
  {
   "cell_type": "code",
   "execution_count": null,
   "metadata": {
    "collapsed": false
   },
   "outputs": [],
   "source": [
    "dist = pd.read_csv(data_path + '22_AHS_COMB_Clean.csv')"
   ]
  },
  {
   "cell_type": "code",
   "execution_count": null,
   "metadata": {
    "collapsed": false
   },
   "outputs": [],
   "source": [
    "dist.shape"
   ]
  },
  {
   "cell_type": "code",
   "execution_count": null,
   "metadata": {
    "collapsed": true
   },
   "outputs": [],
   "source": [
    "dist_p = dist[np.isfinite(dist['diagnosed_for'])]"
   ]
  },
  {
   "cell_type": "code",
   "execution_count": null,
   "metadata": {
    "collapsed": false
   },
   "outputs": [],
   "source": [
    "dist_p.shape"
   ]
  },
  {
   "cell_type": "code",
   "execution_count": null,
   "metadata": {
    "collapsed": true
   },
   "outputs": [],
   "source": [
    "diagnosed_col = dist_p[['diagnosed_for']]\n",
    "diagnosed_data = dist_p.drop(['diagnosed_for'], inplace=False, axis=1, errors='ignore')"
   ]
  },
  {
   "cell_type": "code",
   "execution_count": null,
   "metadata": {
    "collapsed": true
   },
   "outputs": [],
   "source": [
    "size_threshold = 30000\n",
    "no_of_df = int(diagnosed_data.shape[0]/size_threshold)\n",
    "# List of splitted datasets\n",
    "splitted_dataset = np.array_split(diagnosed_data, no_of_df)\n",
    "df_list = list()\n",
    "for df in splitted_dataset:\n",
    "    df_list.append(pd.DataFrame(df))\n",
    "\n",
    "hot_df_list = list()\n",
    "for df in df_list:\n",
    "    hot_df_list.append(one_hot_df(df))\n",
    "\n",
    "diagnosed_data = pd.concat(hot_df_list)"
   ]
  },
  {
   "cell_type": "code",
   "execution_count": null,
   "metadata": {
    "collapsed": true
   },
   "outputs": [],
   "source": [
    "diagnosed_data = diagnosed_data.fillna(0)"
   ]
  },
  {
   "cell_type": "code",
   "execution_count": null,
   "metadata": {
    "collapsed": true
   },
   "outputs": [],
   "source": []
  },
  {
   "cell_type": "code",
   "execution_count": null,
   "metadata": {
    "collapsed": true
   },
   "outputs": [],
   "source": []
  },
  {
   "cell_type": "code",
   "execution_count": null,
   "metadata": {
    "collapsed": true
   },
   "outputs": [],
   "source": []
  },
  {
   "cell_type": "code",
   "execution_count": null,
   "metadata": {
    "collapsed": true
   },
   "outputs": [],
   "source": []
  }
 ],
 "metadata": {
  "kernelspec": {
   "display_name": "Python 2",
   "language": "python",
   "name": "python2"
  },
  "language_info": {
   "codemirror_mode": {
    "name": "ipython",
    "version": 2
   },
   "file_extension": ".py",
   "mimetype": "text/x-python",
   "name": "python",
   "nbconvert_exporter": "python",
   "pygments_lexer": "ipython2",
   "version": "2.7.13"
  }
 },
 "nbformat": 4,
 "nbformat_minor": 2
}
