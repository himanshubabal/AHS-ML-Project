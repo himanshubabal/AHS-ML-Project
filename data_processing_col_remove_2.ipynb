{
 "cells": [
  {
   "cell_type": "code",
   "execution_count": 1,
   "metadata": {
    "collapsed": false
   },
   "outputs": [
    {
     "name": "stderr",
     "output_type": "stream",
     "text": [
      "Using TensorFlow backend.\n"
     ]
    }
   ],
   "source": [
    "import pandas as pd\n",
    "import numpy as np\n",
    "import h5py\n",
    "import matplotlib.pyplot as plt\n",
    "\n",
    "import math\n",
    "import os\n",
    "from keras.utils.np_utils import to_categorical"
   ]
  },
  {
   "cell_type": "code",
   "execution_count": 2,
   "metadata": {
    "collapsed": true
   },
   "outputs": [],
   "source": [
    "data_path = 'data/'"
   ]
  },
  {
   "cell_type": "code",
   "execution_count": 4,
   "metadata": {
    "collapsed": true
   },
   "outputs": [],
   "source": [
    "def replace_labes(label_data):\n",
    "\t    dict_map = {0.0 : 0.0, 1.0 : 1.0, 2.0 : 2.0, 3.0 : 3.0, 7.0 : 4.0, 9.0 : 5.0,\n",
    "\t                19.0 : 6.0, 21.0 : 7.0, 99.0 : 7.0}\n",
    "\t    for i in range(len(label_data)):\n",
    "\t        if label_data[i] in dict_map:\n",
    "\t            label_data[i] = dict_map[label_data[i]]-1\n",
    "\t        else :\n",
    "\t            label_data[i] = 0.0\n",
    "\t    return label_data\n",
    "\n",
    "def check_unnamed(dataframe):\n",
    "\tif 'Unnamed: 0' in list(dataframe):\n",
    "\t\tdataframe = dataframe.drop('Unnamed: 0',axis=1,errors='ignore')\n",
    "\treturn dataframe"
   ]
  },
  {
   "cell_type": "code",
   "execution_count": 5,
   "metadata": {
    "collapsed": true
   },
   "outputs": [],
   "source": [
    "diagnosed_data = pd.read_csv(data_path + '22_COMB_diag_hotData.csv', low_memory=False)\n",
    "diagnosed_col = pd.read_csv(data_path + '22_COMB_diag_col.csv', low_memory=False)"
   ]
  },
  {
   "cell_type": "code",
   "execution_count": 6,
   "metadata": {
    "collapsed": false
   },
   "outputs": [],
   "source": [
    "cold_col_names_list = pd.read_csv(data_path + 'diagnosed_for_col_names.csv', low_memory=False)\n",
    "cold_col_names_list = check_unnamed(cold_col_names_list)\n",
    "cold_col_names_list = cold_col_names_list[cold_col_names_list.columns[0]].tolist()"
   ]
  },
  {
   "cell_type": "code",
   "execution_count": 7,
   "metadata": {
    "collapsed": false
   },
   "outputs": [
    {
     "data": {
      "text/plain": [
       "'highest_qualification'"
      ]
     },
     "execution_count": 7,
     "metadata": {},
     "output_type": "execute_result"
    }
   ],
   "source": [
    "cold_col_names_list[10]"
   ]
  },
  {
   "cell_type": "code",
   "execution_count": 14,
   "metadata": {
    "collapsed": true
   },
   "outputs": [],
   "source": [
    "def find_hot_matches(col_index_list_to_remove, hot_col_names_list):\n",
    "    hot_index_list = list()\n",
    "\n",
    "    for cold in col_index_list_to_remove:\n",
    "        for hot in hot_col_names_list:\n",
    "            if cold in hot:\n",
    "                index = hot_col_names_list.index(hot)\n",
    "                if index not in hot_index_list :\n",
    "                    hot_index_list.append(index)\n",
    "    return (hot_index_list)"
   ]
  },
  {
   "cell_type": "code",
   "execution_count": 15,
   "metadata": {
    "collapsed": false
   },
   "outputs": [],
   "source": [
    "def split_data(diagnosed_data, diagnosed_col, col_index_list_to_remove):\n",
    "\t# Checking if column 'Unnamed : 0' is in the dataframe\n",
    "\t# If present, remove it\n",
    "\tdiagnosed_col = check_unnamed(diagnosed_col)\n",
    "\tdiagnosed_data = check_unnamed(diagnosed_data)\n",
    "\n",
    "\thot_col_names_list = list(diagnosed_data)\n",
    "\tto_remove_hot_col = find_hot_matches(col_index_list_to_remove, hot_col_names_list)\n",
    "\n",
    "\tdiagnosed_data.drop(diagnosed_data.columns[to_remove_hot_col],axis=1,inplace=True,errors='ignore')\n",
    "\tnew_hot_col_list = list(diagnosed_data)\n",
    "\n",
    "\tassert (diagnosed_data.shape[0] == diagnosed_col.shape[0])\n",
    "\tsplit_train = int(diagnosed_data.shape[0] * 0.60)\n",
    "\tsplit_test = split_train + int(diagnosed_data.shape[0] * 0.25)\n",
    "\n",
    "\tdiagnosed_data = np.array(diagnosed_data.astype(float))\n",
    "\tdiagnosed_col = np.array(diagnosed_col.astype(float))[:,0]\n",
    "\n",
    "\tdiagnosed_col = replace_labes(diagnosed_col)\n",
    "\tdiagnosed_col = to_categorical(diagnosed_col.astype('int32'), nb_classes=None)\n",
    "\n",
    "\ttrain_data = diagnosed_data[:split_train]\n",
    "\ttrain_label = diagnosed_col[:split_train]\n",
    "\n",
    "\ttest_data = diagnosed_data[split_train:split_test]\n",
    "\ttest_label = diagnosed_col[split_train:split_test]\n",
    "\n",
    "\tvalid_data = diagnosed_data[split_test:]\n",
    "\tvalid_label = diagnosed_col[split_test:]\n",
    "\n",
    "\tprint('Features Removed : ', col_index_list_to_remove)\n",
    "\tprint('Train dataset : ', train_data.shape, train_label.shape)\n",
    "\tprint('Test dataset : ', test_data.shape, test_label.shape)\n",
    "\tprint('Validation Dataset : ', valid_data.shape, valid_label.shape)\n",
    "\n",
    "\treturn(train_data, train_label, test_data, test_label, valid_data, valid_label)"
   ]
  },
  {
   "cell_type": "code",
   "execution_count": 16,
   "metadata": {
    "collapsed": false,
    "scrolled": true
   },
   "outputs": [
    {
     "name": "stdout",
     "output_type": "stream",
     "text": [
      "Features Removed :  ['highest_qualification']\n",
      "Train dataset :  (94821, 292) (94821, 7)\n",
      "Test dataset :  (39509, 292) (39509, 7)\n",
      "Validation Dataset :  (23706, 292) (23706, 7)\n"
     ]
    }
   ],
   "source": [
    "tr, trl, ts, tsl, v, vl = split_data(diagnosed_data, diagnosed_col, [cold_col_names_list[10]])"
   ]
  },
  {
   "cell_type": "code",
   "execution_count": 17,
   "metadata": {
    "collapsed": false
   },
   "outputs": [
    {
     "data": {
      "text/plain": [
       "58"
      ]
     },
     "execution_count": 17,
     "metadata": {},
     "output_type": "execute_result"
    }
   ],
   "source": [
    "len(cold_col_names_list)"
   ]
  },
  {
   "cell_type": "code",
   "execution_count": null,
   "metadata": {
    "collapsed": true
   },
   "outputs": [],
   "source": []
  }
 ],
 "metadata": {
  "kernelspec": {
   "display_name": "Python 3",
   "language": "python",
   "name": "python3"
  },
  "language_info": {
   "codemirror_mode": {
    "name": "ipython",
    "version": 3
   },
   "file_extension": ".py",
   "mimetype": "text/x-python",
   "name": "python",
   "nbconvert_exporter": "python",
   "pygments_lexer": "ipython3",
   "version": "3.6.0"
  }
 },
 "nbformat": 4,
 "nbformat_minor": 2
}
