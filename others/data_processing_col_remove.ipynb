{
 "cells": [
  {
   "cell_type": "code",
   "execution_count": 2,
   "metadata": {
    "collapsed": true
   },
   "outputs": [],
   "source": [
    "import pandas as pd\n",
    "import numpy as np\n",
    "import h5py\n",
    "import matplotlib.pyplot as plt\n",
    "\n",
    "import math\n",
    "import os"
   ]
  },
  {
   "cell_type": "code",
   "execution_count": 57,
   "metadata": {
    "collapsed": false
   },
   "outputs": [
    {
     "name": "stderr",
     "output_type": "stream",
     "text": [
      "Using TensorFlow backend.\n"
     ]
    }
   ],
   "source": [
    "from keras.utils.np_utils import to_categorical"
   ]
  },
  {
   "cell_type": "code",
   "execution_count": 3,
   "metadata": {
    "collapsed": true
   },
   "outputs": [],
   "source": [
    "data_path = 'data/'"
   ]
  },
  {
   "cell_type": "code",
   "execution_count": 4,
   "metadata": {
    "collapsed": true
   },
   "outputs": [],
   "source": [
    "def one_hot_df(data_frame, one_hot_colnames=list()) :\n",
    "    if len(one_hot_colnames) != 0:\n",
    "        colnames = list(data_frame)\n",
    "        hot_col = list()\n",
    "        for hot in one_hot_colnames :\n",
    "            if hot in colnames :\n",
    "                hot_col.append(hot)\n",
    "    else:\n",
    "        hot_col = list(data_frame)\n",
    "    if 'district' in hot_col :\n",
    "        hot_col.remove('district')\n",
    "    if 'state' in hot_col :\n",
    "        hot_col.remove('state')\n",
    "    if 'age' in hot_col:\n",
    "        hot_col.remove('age')     \n",
    "    data_frame = pd.get_dummies(data_frame, columns=hot_col)\n",
    "    return (data_frame)"
   ]
  },
  {
   "cell_type": "code",
   "execution_count": 5,
   "metadata": {
    "collapsed": false
   },
   "outputs": [],
   "source": [
    "diagnosed_data = pd.read_csv(data_path + '22_COMB_diag_hotData.csv', low_memory=False)\n",
    "diagnosed_col = pd.read_csv(data_path + '22_COMB_diag_col.csv', low_memory=False)"
   ]
  },
  {
   "cell_type": "code",
   "execution_count": 11,
   "metadata": {
    "collapsed": true
   },
   "outputs": [],
   "source": [
    "def check_unnamed(dataframe):\n",
    "    if 'Unnamed: 0' in list(dataframe):\n",
    "        dataframe = dataframe.drop('Unnamed: 0',axis=1,errors='ignore')\n",
    "    return dataframe\n",
    "\n",
    "diagnosed_col = check_unnamed(diagnosed_col)\n",
    "diagnosed_data = check_unnamed(diagnosed_data)"
   ]
  },
  {
   "cell_type": "code",
   "execution_count": 12,
   "metadata": {
    "collapsed": false
   },
   "outputs": [
    {
     "data": {
      "text/plain": [
       "['diagnosed_for']"
      ]
     },
     "execution_count": 12,
     "metadata": {},
     "output_type": "execute_result"
    }
   ],
   "source": [
    "list(diagnosed_col)"
   ]
  },
  {
   "cell_type": "code",
   "execution_count": 13,
   "metadata": {
    "collapsed": true
   },
   "outputs": [
    {
     "data": {
      "text/plain": [
       "['age',\n",
       " 'alcohol_1.0',\n",
       " 'alcohol_2.0',\n",
       " 'alcohol_3.0',\n",
       " 'alcohol_4.0',\n",
       " 'as_binned_1.0',\n",
       " 'as_binned_2.0',\n",
       " 'as_binned_3.0',\n",
       " 'as_binned_4.0',\n",
       " 'as_binned_5.0',\n",
       " 'cart_1.0',\n",
       " 'cart_2.0',\n",
       " 'cart_3.0',\n",
       " 'cart_4.0',\n",
       " 'chew_1.0',\n",
       " 'chew_2.0',\n",
       " 'chew_3.0',\n",
       " 'chew_4.0',\n",
       " 'chew_5.0',\n",
       " 'chew_6.0',\n",
       " 'chew_7.0',\n",
       " 'cooking_fuel_0.0',\n",
       " 'cooking_fuel_1.0',\n",
       " 'cooking_fuel_2.0',\n",
       " 'cooking_fuel_3.0',\n",
       " 'cooking_fuel_4.0',\n",
       " 'cooking_fuel_5.0',\n",
       " 'cooking_fuel_6.0',\n",
       " 'cooking_fuel_7.0',\n",
       " 'cooking_fuel_8.0',\n",
       " 'cooking_fuel_9.0',\n",
       " 'currently_attending_school_1.0',\n",
       " 'currently_attending_school_2.0',\n",
       " 'currently_attending_school_3.0',\n",
       " 'diagnosis_source_0.0',\n",
       " 'diagnosis_source_1.0',\n",
       " 'diagnosis_source_10.0',\n",
       " 'diagnosis_source_11.0',\n",
       " 'diagnosis_source_13.0',\n",
       " 'diagnosis_source_2.0',\n",
       " 'diagnosis_source_3.0',\n",
       " 'diagnosis_source_4.0',\n",
       " 'diagnosis_source_5.0',\n",
       " 'diagnosis_source_6.0',\n",
       " 'diagnosis_source_7.0',\n",
       " 'diagnosis_source_8.0',\n",
       " 'diagnosis_source_9.0',\n",
       " 'diagnosis_source_99.0',\n",
       " 'disability_status_0.0',\n",
       " 'disability_status_1.0',\n",
       " 'disability_status_2.0',\n",
       " 'disability_status_3.0',\n",
       " 'disability_status_4.0',\n",
       " 'disability_status_5.0',\n",
       " 'disability_status_6.0',\n",
       " 'disability_status_7.0',\n",
       " 'district',\n",
       " 'drinking_water_source_1.0',\n",
       " 'drinking_water_source_2.0',\n",
       " 'drinking_water_source_3.0',\n",
       " 'drinking_water_source_4.0',\n",
       " 'drinking_water_source_5.0',\n",
       " 'drinking_water_source_6.0',\n",
       " 'drinking_water_source_7.0',\n",
       " 'drinking_water_source_8.0',\n",
       " 'drinking_water_source_9.0',\n",
       " 'healthscheme_1_1.0',\n",
       " 'healthscheme_1_2.0',\n",
       " 'healthscheme_1_3.0',\n",
       " 'healthscheme_1_4.0',\n",
       " 'healthscheme_1_5.0',\n",
       " 'healthscheme_1_6.0',\n",
       " 'healthscheme_1_7.0',\n",
       " 'healthscheme_2_1.0',\n",
       " 'healthscheme_2_2.0',\n",
       " 'healthscheme_2_3.0',\n",
       " 'healthscheme_2_4.0',\n",
       " 'healthscheme_2_5.0',\n",
       " 'healthscheme_2_6.0',\n",
       " 'healthscheme_2_7.0',\n",
       " 'highest_qualification_0.0',\n",
       " 'highest_qualification_1.0',\n",
       " 'highest_qualification_2.0',\n",
       " 'highest_qualification_3.0',\n",
       " 'highest_qualification_4.0',\n",
       " 'highest_qualification_5.0',\n",
       " 'highest_qualification_6.0',\n",
       " 'highest_qualification_7.0',\n",
       " 'highest_qualification_8.0',\n",
       " 'highest_qualification_9.0',\n",
       " 'house_status_1.0',\n",
       " 'house_status_2.0',\n",
       " 'house_status_3.0',\n",
       " 'house_status_4.0',\n",
       " 'house_structure_1.0',\n",
       " 'house_structure_2.0',\n",
       " 'house_structure_3.0',\n",
       " 'house_structure_4.0',\n",
       " 'household_have_electricity_1.0',\n",
       " 'household_have_electricity_2.0',\n",
       " 'householdstatus_1.0',\n",
       " 'householdstatus_2.0',\n",
       " 'householdstatus_3.0',\n",
       " 'householdstatus_4.0',\n",
       " 'householdstatus_5.0',\n",
       " 'householdstatus_6.0',\n",
       " 'housestatus_1.0',\n",
       " 'housestatus_3.0',\n",
       " 'illness_type_0.0',\n",
       " 'illness_type_1.0',\n",
       " 'illness_type_2.0',\n",
       " 'illness_type_3.0',\n",
       " 'illness_type_4.0',\n",
       " 'illness_type_5.0',\n",
       " 'illness_type_6.0',\n",
       " 'illness_type_7.0',\n",
       " 'illness_type_8.0',\n",
       " 'illness_type_9.0',\n",
       " 'injury_treatment_type_0.0',\n",
       " 'injury_treatment_type_1.0',\n",
       " 'injury_treatment_type_2.0',\n",
       " 'injury_treatment_type_3.0',\n",
       " 'injury_treatment_type_4.0',\n",
       " 'injury_treatment_type_5.0',\n",
       " 'injury_treatment_type_6.0',\n",
       " 'injury_treatment_type_7.0',\n",
       " 'is_bicycle_1.0',\n",
       " 'is_bicycle_2.0',\n",
       " 'is_car_1.0',\n",
       " 'is_car_2.0',\n",
       " 'is_computer_1.0',\n",
       " 'is_computer_2.0',\n",
       " 'is_computer_3.0',\n",
       " 'is_radio_1.0',\n",
       " 'is_radio_2.0',\n",
       " 'is_refrigerator_1.0',\n",
       " 'is_refrigerator_2.0',\n",
       " 'is_scooter_1.0',\n",
       " 'is_scooter_2.0',\n",
       " 'is_sewing_machine_1.0',\n",
       " 'is_sewing_machine_2.0',\n",
       " 'is_telephone_1.0',\n",
       " 'is_telephone_2.0',\n",
       " 'is_telephone_3.0',\n",
       " 'is_telephone_4.0',\n",
       " 'is_television_1.0',\n",
       " 'is_television_2.0',\n",
       " 'is_toilet_shared_1.0',\n",
       " 'is_toilet_shared_2.0',\n",
       " 'is_tractor_1.0',\n",
       " 'is_tractor_2.0',\n",
       " 'is_washing_machine_1.0',\n",
       " 'is_washing_machine_2.0',\n",
       " 'is_water_filter_1.0',\n",
       " 'is_water_filter_2.0',\n",
       " 'is_water_pump_1.0',\n",
       " 'is_water_pump_2.0',\n",
       " 'iscoveredbyhealthscheme_1.0',\n",
       " 'iscoveredbyhealthscheme_2.0',\n",
       " 'iscoveredbyhealthscheme_3.0',\n",
       " 'kitchen_availability_1.0',\n",
       " 'kitchen_availability_2.0',\n",
       " 'kitchen_availability_3.0',\n",
       " 'kitchen_availability_4.0',\n",
       " 'kitchen_availability_5.0',\n",
       " 'land_possessed_1.0',\n",
       " 'land_possessed_2.0',\n",
       " 'land_possessed_3.0',\n",
       " 'land_possessed_4.0',\n",
       " 'land_possessed_5.0',\n",
       " 'land_possessed_6.0',\n",
       " 'lighting_source_1.0',\n",
       " 'lighting_source_2.0',\n",
       " 'lighting_source_3.0',\n",
       " 'lighting_source_4.0',\n",
       " 'lighting_source_5.0',\n",
       " 'lighting_source_6.0',\n",
       " 'marital_status_1.0',\n",
       " 'marital_status_2.0',\n",
       " 'marital_status_3.0',\n",
       " 'marital_status_4.0',\n",
       " 'marital_status_5.0',\n",
       " 'marital_status_6.0',\n",
       " 'marital_status_7.0',\n",
       " 'marital_status_8.0',\n",
       " 'occupation_status_1.0',\n",
       " 'occupation_status_10.0',\n",
       " 'occupation_status_11.0',\n",
       " 'occupation_status_13.0',\n",
       " 'occupation_status_14.0',\n",
       " 'occupation_status_15.0',\n",
       " 'occupation_status_16.0',\n",
       " 'occupation_status_2.0',\n",
       " 'occupation_status_3.0',\n",
       " 'occupation_status_4.0',\n",
       " 'occupation_status_5.0',\n",
       " 'occupation_status_6.0',\n",
       " 'occupation_status_7.0',\n",
       " 'occupation_status_8.0',\n",
       " 'occupation_status_9.0',\n",
       " 'owner_status_1.0',\n",
       " 'owner_status_2.0',\n",
       " 'owner_status_3.0',\n",
       " 'reason_for_not_attending_school_1.0',\n",
       " 'reason_for_not_attending_school_2.0',\n",
       " 'reason_for_not_attending_school_3.0',\n",
       " 'reason_for_not_attending_school_4.0',\n",
       " 'reason_for_not_attending_school_5.0',\n",
       " 'reason_for_not_attending_school_6.0',\n",
       " 'reason_for_not_attending_school_7.0',\n",
       " 'reason_for_not_attending_school_8.0',\n",
       " 'reason_for_not_attending_school_9.0',\n",
       " 'regular_treatment_1.0',\n",
       " 'regular_treatment_2.0',\n",
       " 'regular_treatment_3.0',\n",
       " 'regular_treatment_source_0.0',\n",
       " 'regular_treatment_source_1.0',\n",
       " 'regular_treatment_source_10.0',\n",
       " 'regular_treatment_source_11.0',\n",
       " 'regular_treatment_source_12.0',\n",
       " 'regular_treatment_source_13.0',\n",
       " 'regular_treatment_source_2.0',\n",
       " 'regular_treatment_source_3.0',\n",
       " 'regular_treatment_source_4.0',\n",
       " 'regular_treatment_source_5.0',\n",
       " 'regular_treatment_source_6.0',\n",
       " 'regular_treatment_source_7.0',\n",
       " 'regular_treatment_source_8.0',\n",
       " 'regular_treatment_source_9.0',\n",
       " 'regular_treatment_source_99.0',\n",
       " 'religion_1.0',\n",
       " 'religion_2.0',\n",
       " 'religion_3.0',\n",
       " 'religion_4.0',\n",
       " 'religion_5.0',\n",
       " 'religion_6.0',\n",
       " 'religion_7.0',\n",
       " 'residancial_status_1.0',\n",
       " 'residancial_status_3.0',\n",
       " 'residancial_status_4.0',\n",
       " 'residancial_status_5.0',\n",
       " 'rural_1',\n",
       " 'rural_2',\n",
       " 'sex_1',\n",
       " 'sex_2',\n",
       " 'smoke_1.0',\n",
       " 'smoke_2.0',\n",
       " 'smoke_3.0',\n",
       " 'smoke_4.0',\n",
       " 'social_group_code_1.0',\n",
       " 'social_group_code_2.0',\n",
       " 'social_group_code_3.0',\n",
       " 'sought_medical_care_1.0',\n",
       " 'sought_medical_care_2.0',\n",
       " 'sought_medical_care_3.0',\n",
       " 'symptoms_pertaining_illness_1.0',\n",
       " 'symptoms_pertaining_illness_10.0',\n",
       " 'symptoms_pertaining_illness_11.0',\n",
       " 'symptoms_pertaining_illness_12.0',\n",
       " 'symptoms_pertaining_illness_13.0',\n",
       " 'symptoms_pertaining_illness_2.0',\n",
       " 'symptoms_pertaining_illness_3.0',\n",
       " 'symptoms_pertaining_illness_4.0',\n",
       " 'symptoms_pertaining_illness_5.0',\n",
       " 'symptoms_pertaining_illness_6.0',\n",
       " 'symptoms_pertaining_illness_7.0',\n",
       " 'symptoms_pertaining_illness_8.0',\n",
       " 'symptoms_pertaining_illness_9.0',\n",
       " 'symptoms_pertaining_illness_99.0',\n",
       " 'toilet_used_0.0',\n",
       " 'toilet_used_1.0',\n",
       " 'toilet_used_2.0',\n",
       " 'toilet_used_3.0',\n",
       " 'toilet_used_4.0',\n",
       " 'toilet_used_5.0',\n",
       " 'toilet_used_6.0',\n",
       " 'toilet_used_7.0',\n",
       " 'toilet_used_8.0',\n",
       " 'toilet_used_9.0',\n",
       " 'treatment_source_0.0',\n",
       " 'treatment_source_1.0',\n",
       " 'treatment_source_10.0',\n",
       " 'treatment_source_11.0',\n",
       " 'treatment_source_13.0',\n",
       " 'treatment_source_2.0',\n",
       " 'treatment_source_3.0',\n",
       " 'treatment_source_4.0',\n",
       " 'treatment_source_5.0',\n",
       " 'treatment_source_6.0',\n",
       " 'treatment_source_7.0',\n",
       " 'treatment_source_8.0',\n",
       " 'treatment_source_9.0',\n",
       " 'treatment_source_99.0',\n",
       " 'usual_residance_1.0',\n",
       " 'water_filteration_1.0',\n",
       " 'water_filteration_2.0',\n",
       " 'water_filteration_3.0',\n",
       " 'water_filteration_4.0',\n",
       " 'water_filteration_5.0',\n",
       " 'water_filteration_6.0',\n",
       " 'water_filteration_7.0',\n",
       " 'water_filteration_8.0']"
      ]
     },
     "execution_count": 13,
     "metadata": {},
     "output_type": "execute_result"
    }
   ],
   "source": [
    "list(diagnosed_data)"
   ]
  },
  {
   "cell_type": "code",
   "execution_count": 32,
   "metadata": {
    "collapsed": true
   },
   "outputs": [],
   "source": [
    "cold_col_names = pd.read_csv(data_path + 'diagnosed_for_col_names.csv')\n",
    "cold_col_names = cold_col_names[cold_col_names.columns[0]].tolist()"
   ]
  },
  {
   "cell_type": "code",
   "execution_count": 33,
   "metadata": {
    "collapsed": true
   },
   "outputs": [
    {
     "data": {
      "text/plain": [
       "['district',\n",
       " 'rural',\n",
       " 'sex',\n",
       " 'usual_residance',\n",
       " 'age',\n",
       " 'religion',\n",
       " 'social_group_code',\n",
       " 'marital_status',\n",
       " 'currently_attending_school',\n",
       " 'reason_for_not_attending_school',\n",
       " 'highest_qualification',\n",
       " 'occupation_status',\n",
       " 'disability_status',\n",
       " 'injury_treatment_type',\n",
       " 'illness_type',\n",
       " 'treatment_source',\n",
       " 'symptoms_pertaining_illness',\n",
       " 'sought_medical_care',\n",
       " 'diagnosed_for',\n",
       " 'diagnosis_source',\n",
       " 'regular_treatment',\n",
       " 'regular_treatment_source',\n",
       " 'chew',\n",
       " 'smoke',\n",
       " 'alcohol',\n",
       " 'house_status',\n",
       " 'house_structure',\n",
       " 'owner_status',\n",
       " 'drinking_water_source',\n",
       " 'is_water_filter',\n",
       " 'water_filteration',\n",
       " 'toilet_used',\n",
       " 'is_toilet_shared',\n",
       " 'household_have_electricity',\n",
       " 'lighting_source',\n",
       " 'cooking_fuel',\n",
       " 'kitchen_availability',\n",
       " 'is_radio',\n",
       " 'is_television',\n",
       " 'is_computer',\n",
       " 'is_telephone',\n",
       " 'is_washing_machine',\n",
       " 'is_refrigerator',\n",
       " 'is_sewing_machine',\n",
       " 'is_bicycle',\n",
       " 'is_scooter',\n",
       " 'is_car',\n",
       " 'is_tractor',\n",
       " 'is_water_pump',\n",
       " 'cart',\n",
       " 'land_possessed',\n",
       " 'residancial_status',\n",
       " 'iscoveredbyhealthscheme',\n",
       " 'healthscheme_1',\n",
       " 'healthscheme_2',\n",
       " 'housestatus',\n",
       " 'householdstatus',\n",
       " 'as_binned']"
      ]
     },
     "execution_count": 33,
     "metadata": {},
     "output_type": "execute_result"
    }
   ],
   "source": [
    "cold_col_names"
   ]
  },
  {
   "cell_type": "code",
   "execution_count": 34,
   "metadata": {
    "collapsed": true
   },
   "outputs": [],
   "source": [
    "hot_col_names = list(diagnosed_data)"
   ]
  },
  {
   "cell_type": "code",
   "execution_count": 35,
   "metadata": {
    "collapsed": true
   },
   "outputs": [
    {
     "data": {
      "text/plain": [
       "['age',\n",
       " 'alcohol_1.0',\n",
       " 'alcohol_2.0',\n",
       " 'alcohol_3.0',\n",
       " 'alcohol_4.0',\n",
       " 'as_binned_1.0',\n",
       " 'as_binned_2.0',\n",
       " 'as_binned_3.0',\n",
       " 'as_binned_4.0',\n",
       " 'as_binned_5.0',\n",
       " 'cart_1.0',\n",
       " 'cart_2.0',\n",
       " 'cart_3.0',\n",
       " 'cart_4.0',\n",
       " 'chew_1.0',\n",
       " 'chew_2.0',\n",
       " 'chew_3.0',\n",
       " 'chew_4.0',\n",
       " 'chew_5.0',\n",
       " 'chew_6.0',\n",
       " 'chew_7.0',\n",
       " 'cooking_fuel_0.0',\n",
       " 'cooking_fuel_1.0',\n",
       " 'cooking_fuel_2.0',\n",
       " 'cooking_fuel_3.0',\n",
       " 'cooking_fuel_4.0',\n",
       " 'cooking_fuel_5.0',\n",
       " 'cooking_fuel_6.0',\n",
       " 'cooking_fuel_7.0',\n",
       " 'cooking_fuel_8.0',\n",
       " 'cooking_fuel_9.0',\n",
       " 'currently_attending_school_1.0',\n",
       " 'currently_attending_school_2.0',\n",
       " 'currently_attending_school_3.0',\n",
       " 'diagnosis_source_0.0',\n",
       " 'diagnosis_source_1.0',\n",
       " 'diagnosis_source_10.0',\n",
       " 'diagnosis_source_11.0',\n",
       " 'diagnosis_source_13.0',\n",
       " 'diagnosis_source_2.0',\n",
       " 'diagnosis_source_3.0',\n",
       " 'diagnosis_source_4.0',\n",
       " 'diagnosis_source_5.0',\n",
       " 'diagnosis_source_6.0',\n",
       " 'diagnosis_source_7.0',\n",
       " 'diagnosis_source_8.0',\n",
       " 'diagnosis_source_9.0',\n",
       " 'diagnosis_source_99.0',\n",
       " 'disability_status_0.0',\n",
       " 'disability_status_1.0',\n",
       " 'disability_status_2.0',\n",
       " 'disability_status_3.0',\n",
       " 'disability_status_4.0',\n",
       " 'disability_status_5.0',\n",
       " 'disability_status_6.0',\n",
       " 'disability_status_7.0',\n",
       " 'district',\n",
       " 'drinking_water_source_1.0',\n",
       " 'drinking_water_source_2.0',\n",
       " 'drinking_water_source_3.0',\n",
       " 'drinking_water_source_4.0',\n",
       " 'drinking_water_source_5.0',\n",
       " 'drinking_water_source_6.0',\n",
       " 'drinking_water_source_7.0',\n",
       " 'drinking_water_source_8.0',\n",
       " 'drinking_water_source_9.0',\n",
       " 'healthscheme_1_1.0',\n",
       " 'healthscheme_1_2.0',\n",
       " 'healthscheme_1_3.0',\n",
       " 'healthscheme_1_4.0',\n",
       " 'healthscheme_1_5.0',\n",
       " 'healthscheme_1_6.0',\n",
       " 'healthscheme_1_7.0',\n",
       " 'healthscheme_2_1.0',\n",
       " 'healthscheme_2_2.0',\n",
       " 'healthscheme_2_3.0',\n",
       " 'healthscheme_2_4.0',\n",
       " 'healthscheme_2_5.0',\n",
       " 'healthscheme_2_6.0',\n",
       " 'healthscheme_2_7.0',\n",
       " 'highest_qualification_0.0',\n",
       " 'highest_qualification_1.0',\n",
       " 'highest_qualification_2.0',\n",
       " 'highest_qualification_3.0',\n",
       " 'highest_qualification_4.0',\n",
       " 'highest_qualification_5.0',\n",
       " 'highest_qualification_6.0',\n",
       " 'highest_qualification_7.0',\n",
       " 'highest_qualification_8.0',\n",
       " 'highest_qualification_9.0',\n",
       " 'house_status_1.0',\n",
       " 'house_status_2.0',\n",
       " 'house_status_3.0',\n",
       " 'house_status_4.0',\n",
       " 'house_structure_1.0',\n",
       " 'house_structure_2.0',\n",
       " 'house_structure_3.0',\n",
       " 'house_structure_4.0',\n",
       " 'household_have_electricity_1.0',\n",
       " 'household_have_electricity_2.0',\n",
       " 'householdstatus_1.0',\n",
       " 'householdstatus_2.0',\n",
       " 'householdstatus_3.0',\n",
       " 'householdstatus_4.0',\n",
       " 'householdstatus_5.0',\n",
       " 'householdstatus_6.0',\n",
       " 'housestatus_1.0',\n",
       " 'housestatus_3.0',\n",
       " 'illness_type_0.0',\n",
       " 'illness_type_1.0',\n",
       " 'illness_type_2.0',\n",
       " 'illness_type_3.0',\n",
       " 'illness_type_4.0',\n",
       " 'illness_type_5.0',\n",
       " 'illness_type_6.0',\n",
       " 'illness_type_7.0',\n",
       " 'illness_type_8.0',\n",
       " 'illness_type_9.0',\n",
       " 'injury_treatment_type_0.0',\n",
       " 'injury_treatment_type_1.0',\n",
       " 'injury_treatment_type_2.0',\n",
       " 'injury_treatment_type_3.0',\n",
       " 'injury_treatment_type_4.0',\n",
       " 'injury_treatment_type_5.0',\n",
       " 'injury_treatment_type_6.0',\n",
       " 'injury_treatment_type_7.0',\n",
       " 'is_bicycle_1.0',\n",
       " 'is_bicycle_2.0',\n",
       " 'is_car_1.0',\n",
       " 'is_car_2.0',\n",
       " 'is_computer_1.0',\n",
       " 'is_computer_2.0',\n",
       " 'is_computer_3.0',\n",
       " 'is_radio_1.0',\n",
       " 'is_radio_2.0',\n",
       " 'is_refrigerator_1.0',\n",
       " 'is_refrigerator_2.0',\n",
       " 'is_scooter_1.0',\n",
       " 'is_scooter_2.0',\n",
       " 'is_sewing_machine_1.0',\n",
       " 'is_sewing_machine_2.0',\n",
       " 'is_telephone_1.0',\n",
       " 'is_telephone_2.0',\n",
       " 'is_telephone_3.0',\n",
       " 'is_telephone_4.0',\n",
       " 'is_television_1.0',\n",
       " 'is_television_2.0',\n",
       " 'is_toilet_shared_1.0',\n",
       " 'is_toilet_shared_2.0',\n",
       " 'is_tractor_1.0',\n",
       " 'is_tractor_2.0',\n",
       " 'is_washing_machine_1.0',\n",
       " 'is_washing_machine_2.0',\n",
       " 'is_water_filter_1.0',\n",
       " 'is_water_filter_2.0',\n",
       " 'is_water_pump_1.0',\n",
       " 'is_water_pump_2.0',\n",
       " 'iscoveredbyhealthscheme_1.0',\n",
       " 'iscoveredbyhealthscheme_2.0',\n",
       " 'iscoveredbyhealthscheme_3.0',\n",
       " 'kitchen_availability_1.0',\n",
       " 'kitchen_availability_2.0',\n",
       " 'kitchen_availability_3.0',\n",
       " 'kitchen_availability_4.0',\n",
       " 'kitchen_availability_5.0',\n",
       " 'land_possessed_1.0',\n",
       " 'land_possessed_2.0',\n",
       " 'land_possessed_3.0',\n",
       " 'land_possessed_4.0',\n",
       " 'land_possessed_5.0',\n",
       " 'land_possessed_6.0',\n",
       " 'lighting_source_1.0',\n",
       " 'lighting_source_2.0',\n",
       " 'lighting_source_3.0',\n",
       " 'lighting_source_4.0',\n",
       " 'lighting_source_5.0',\n",
       " 'lighting_source_6.0',\n",
       " 'marital_status_1.0',\n",
       " 'marital_status_2.0',\n",
       " 'marital_status_3.0',\n",
       " 'marital_status_4.0',\n",
       " 'marital_status_5.0',\n",
       " 'marital_status_6.0',\n",
       " 'marital_status_7.0',\n",
       " 'marital_status_8.0',\n",
       " 'occupation_status_1.0',\n",
       " 'occupation_status_10.0',\n",
       " 'occupation_status_11.0',\n",
       " 'occupation_status_13.0',\n",
       " 'occupation_status_14.0',\n",
       " 'occupation_status_15.0',\n",
       " 'occupation_status_16.0',\n",
       " 'occupation_status_2.0',\n",
       " 'occupation_status_3.0',\n",
       " 'occupation_status_4.0',\n",
       " 'occupation_status_5.0',\n",
       " 'occupation_status_6.0',\n",
       " 'occupation_status_7.0',\n",
       " 'occupation_status_8.0',\n",
       " 'occupation_status_9.0',\n",
       " 'owner_status_1.0',\n",
       " 'owner_status_2.0',\n",
       " 'owner_status_3.0',\n",
       " 'reason_for_not_attending_school_1.0',\n",
       " 'reason_for_not_attending_school_2.0',\n",
       " 'reason_for_not_attending_school_3.0',\n",
       " 'reason_for_not_attending_school_4.0',\n",
       " 'reason_for_not_attending_school_5.0',\n",
       " 'reason_for_not_attending_school_6.0',\n",
       " 'reason_for_not_attending_school_7.0',\n",
       " 'reason_for_not_attending_school_8.0',\n",
       " 'reason_for_not_attending_school_9.0',\n",
       " 'regular_treatment_1.0',\n",
       " 'regular_treatment_2.0',\n",
       " 'regular_treatment_3.0',\n",
       " 'regular_treatment_source_0.0',\n",
       " 'regular_treatment_source_1.0',\n",
       " 'regular_treatment_source_10.0',\n",
       " 'regular_treatment_source_11.0',\n",
       " 'regular_treatment_source_12.0',\n",
       " 'regular_treatment_source_13.0',\n",
       " 'regular_treatment_source_2.0',\n",
       " 'regular_treatment_source_3.0',\n",
       " 'regular_treatment_source_4.0',\n",
       " 'regular_treatment_source_5.0',\n",
       " 'regular_treatment_source_6.0',\n",
       " 'regular_treatment_source_7.0',\n",
       " 'regular_treatment_source_8.0',\n",
       " 'regular_treatment_source_9.0',\n",
       " 'regular_treatment_source_99.0',\n",
       " 'religion_1.0',\n",
       " 'religion_2.0',\n",
       " 'religion_3.0',\n",
       " 'religion_4.0',\n",
       " 'religion_5.0',\n",
       " 'religion_6.0',\n",
       " 'religion_7.0',\n",
       " 'residancial_status_1.0',\n",
       " 'residancial_status_3.0',\n",
       " 'residancial_status_4.0',\n",
       " 'residancial_status_5.0',\n",
       " 'rural_1',\n",
       " 'rural_2',\n",
       " 'sex_1',\n",
       " 'sex_2',\n",
       " 'smoke_1.0',\n",
       " 'smoke_2.0',\n",
       " 'smoke_3.0',\n",
       " 'smoke_4.0',\n",
       " 'social_group_code_1.0',\n",
       " 'social_group_code_2.0',\n",
       " 'social_group_code_3.0',\n",
       " 'sought_medical_care_1.0',\n",
       " 'sought_medical_care_2.0',\n",
       " 'sought_medical_care_3.0',\n",
       " 'symptoms_pertaining_illness_1.0',\n",
       " 'symptoms_pertaining_illness_10.0',\n",
       " 'symptoms_pertaining_illness_11.0',\n",
       " 'symptoms_pertaining_illness_12.0',\n",
       " 'symptoms_pertaining_illness_13.0',\n",
       " 'symptoms_pertaining_illness_2.0',\n",
       " 'symptoms_pertaining_illness_3.0',\n",
       " 'symptoms_pertaining_illness_4.0',\n",
       " 'symptoms_pertaining_illness_5.0',\n",
       " 'symptoms_pertaining_illness_6.0',\n",
       " 'symptoms_pertaining_illness_7.0',\n",
       " 'symptoms_pertaining_illness_8.0',\n",
       " 'symptoms_pertaining_illness_9.0',\n",
       " 'symptoms_pertaining_illness_99.0',\n",
       " 'toilet_used_0.0',\n",
       " 'toilet_used_1.0',\n",
       " 'toilet_used_2.0',\n",
       " 'toilet_used_3.0',\n",
       " 'toilet_used_4.0',\n",
       " 'toilet_used_5.0',\n",
       " 'toilet_used_6.0',\n",
       " 'toilet_used_7.0',\n",
       " 'toilet_used_8.0',\n",
       " 'toilet_used_9.0',\n",
       " 'treatment_source_0.0',\n",
       " 'treatment_source_1.0',\n",
       " 'treatment_source_10.0',\n",
       " 'treatment_source_11.0',\n",
       " 'treatment_source_13.0',\n",
       " 'treatment_source_2.0',\n",
       " 'treatment_source_3.0',\n",
       " 'treatment_source_4.0',\n",
       " 'treatment_source_5.0',\n",
       " 'treatment_source_6.0',\n",
       " 'treatment_source_7.0',\n",
       " 'treatment_source_8.0',\n",
       " 'treatment_source_9.0',\n",
       " 'treatment_source_99.0',\n",
       " 'usual_residance_1.0',\n",
       " 'water_filteration_1.0',\n",
       " 'water_filteration_2.0',\n",
       " 'water_filteration_3.0',\n",
       " 'water_filteration_4.0',\n",
       " 'water_filteration_5.0',\n",
       " 'water_filteration_6.0',\n",
       " 'water_filteration_7.0',\n",
       " 'water_filteration_8.0']"
      ]
     },
     "execution_count": 35,
     "metadata": {},
     "output_type": "execute_result"
    }
   ],
   "source": [
    "hot_col_names"
   ]
  },
  {
   "cell_type": "code",
   "execution_count": 37,
   "metadata": {
    "collapsed": false
   },
   "outputs": [
    {
     "data": {
      "text/plain": [
       "'highest_qualification'"
      ]
     },
     "execution_count": 37,
     "metadata": {},
     "output_type": "execute_result"
    }
   ],
   "source": [
    "col_to_be_removed = cold_col_names[10]\n",
    "col_to_be_removed"
   ]
  },
  {
   "cell_type": "code",
   "execution_count": 49,
   "metadata": {
    "collapsed": true
   },
   "outputs": [],
   "source": [
    "def find_hot_matches(col_to_be_removed_list):\n",
    "    hot_index_list = list()\n",
    "\n",
    "    for cold in col_to_be_removed_list:\n",
    "        for hot in hot_col_names:\n",
    "            if cold in hot:\n",
    "                index = hot_col_names.index(hot)\n",
    "                if index not in hot_index_list :\n",
    "                    hot_index_list.append(index)\n",
    "    return (hot_index_list)"
   ]
  },
  {
   "cell_type": "code",
   "execution_count": 75,
   "metadata": {
    "collapsed": true
   },
   "outputs": [],
   "source": [
    "to_remove_hot_col = find_hot_matches([col_to_be_removed])"
   ]
  },
  {
   "cell_type": "code",
   "execution_count": null,
   "metadata": {
    "collapsed": true
   },
   "outputs": [],
   "source": [
    "cols = [1,2,4,5,12]\n",
    "df.drop(df.columns[cols],axis=1,inplace=False)"
   ]
  },
  {
   "cell_type": "code",
   "execution_count": 58,
   "metadata": {
    "collapsed": false
   },
   "outputs": [],
   "source": [
    "diagnosed_data.drop(diagnosed_data.columns[to_remove_hot_col],axis=1,inplace=True,errors='ignore') "
   ]
  },
  {
   "cell_type": "code",
   "execution_count": 59,
   "metadata": {
    "collapsed": false
   },
   "outputs": [
    {
     "name": "stdout",
     "output_type": "stream",
     "text": [
      "(158036, 292)\n"
     ]
    }
   ],
   "source": [
    "print(diagnosed_data.shape)"
   ]
  },
  {
   "cell_type": "code",
   "execution_count": 50,
   "metadata": {
    "collapsed": false
   },
   "outputs": [
    {
     "data": {
      "text/plain": [
       "[80, 81, 82, 83, 84, 85, 86, 87, 88, 89]"
      ]
     },
     "execution_count": 50,
     "metadata": {},
     "output_type": "execute_result"
    }
   ],
   "source": []
  },
  {
   "cell_type": "code",
   "execution_count": 52,
   "metadata": {
    "collapsed": false
   },
   "outputs": [
    {
     "data": {
      "text/plain": [
       "'highest_qualification_9.0'"
      ]
     },
     "execution_count": 52,
     "metadata": {},
     "output_type": "execute_result"
    }
   ],
   "source": [
    "hot_col_names[89]"
   ]
  },
  {
   "cell_type": "code",
   "execution_count": 60,
   "metadata": {
    "collapsed": true
   },
   "outputs": [],
   "source": [
    "def replace_labes(label_data):\n",
    "\t    dict_map = {0.0 : 0.0, 1.0 : 1.0, 2.0 : 2.0, 3.0 : 3.0, 7.0 : 4.0, 9.0 : 5.0,\n",
    "\t                19.0 : 6.0, 21.0 : 7.0, 99.0 : 7.0}\n",
    "\t    for i in range(len(label_data)):\n",
    "\t        if label_data[i] in dict_map:\n",
    "\t            label_data[i] = dict_map[label_data[i]]-1\n",
    "\t        else :\n",
    "\t            label_data[i] = 0.0\n",
    "\t    return label_data"
   ]
  },
  {
   "cell_type": "code",
   "execution_count": 63,
   "metadata": {
    "collapsed": false
   },
   "outputs": [
    {
     "name": "stdout",
     "output_type": "stream",
     "text": [
      "   \n",
      "Splitting train, test and validation in ratio 60:25:15\n"
     ]
    }
   ],
   "source": [
    "split_train = int(diagnosed_data.shape[0] * 0.60)\n",
    "split_test = split_train + int(diagnosed_data.shape[0] * 0.25)\n",
    "\n",
    "print('   ')\n",
    "print('Splitting train, test and validation in ratio 60:25:15')\n",
    "train_data = np.array(diagnosed_data.astype(float))[:split_train]\n",
    "train_label = np.array(diagnosed_col.astype(float))[:split_train][:,0]\n",
    "\n",
    "test_data = np.array(diagnosed_data.astype(float))[split_train:split_test]\n",
    "test_label = np.array(diagnosed_col.astype(float))[split_train:split_test][:,0]\n",
    "\n",
    "valid_data = np.array(diagnosed_data.astype(float))[split_test:]\n",
    "valid_label = np.array(diagnosed_col.astype(float))[split_test:][:,0]\n",
    "\n",
    "train_rep = replace_labes(train_label)\n",
    "test_rep = replace_labes(test_label)\n",
    "valid_rep = replace_labes(valid_label)\n",
    "\n",
    "train_label = to_categorical(train_rep.astype('int32'), nb_classes=None)\n",
    "test_label = to_categorical(test_rep.astype('int32'), nb_classes=None)\n",
    "valid_label = to_categorical(valid_rep.astype('int32'), nb_classes=None)"
   ]
  },
  {
   "cell_type": "code",
   "execution_count": 66,
   "metadata": {
    "collapsed": false
   },
   "outputs": [
    {
     "name": "stdout",
     "output_type": "stream",
     "text": [
      "(94821, 292) (94821, 7) (39509, 292) (39509, 7)\n",
      "(23706, 292) (23706, 7)\n"
     ]
    }
   ],
   "source": [
    "print(train_data.shape, train_label.shape, test_data.shape, test_label.shape)\n",
    "print(valid_data.shape, valid_label.shape)"
   ]
  },
  {
   "cell_type": "code",
   "execution_count": 67,
   "metadata": {
    "collapsed": false
   },
   "outputs": [
    {
     "data": {
      "text/plain": [
       "(158036, 1)"
      ]
     },
     "execution_count": 67,
     "metadata": {},
     "output_type": "execute_result"
    }
   ],
   "source": [
    "diagnosed_col.shape"
   ]
  },
  {
   "cell_type": "code",
   "execution_count": 71,
   "metadata": {
    "collapsed": false
   },
   "outputs": [
    {
     "data": {
      "text/plain": [
       "(158036,)"
      ]
     },
     "execution_count": 71,
     "metadata": {},
     "output_type": "execute_result"
    }
   ],
   "source": [
    "diagnosed_col = check_unnamed(diagnosed_col)\n",
    "diagnosed_col_1 = np.array(diagnosed_col.astype(float))[:,0]\n",
    "diagnosed_col_1 = replace_labes(diagnosed_col_1)\n",
    "diagnosed_col_1.shape"
   ]
  },
  {
   "cell_type": "code",
   "execution_count": 74,
   "metadata": {
    "collapsed": false
   },
   "outputs": [
    {
     "data": {
      "text/plain": [
       "(158036, 7)"
      ]
     },
     "execution_count": 74,
     "metadata": {},
     "output_type": "execute_result"
    }
   ],
   "source": [
    "diagnosed_col_2 = to_categorical(diagnosed_col_1.astype('int32'), nb_classes=None)\n",
    "diagnosed_col_2.shape"
   ]
  },
  {
   "cell_type": "code",
   "execution_count": null,
   "metadata": {
    "collapsed": true
   },
   "outputs": [],
   "source": []
  },
  {
   "cell_type": "code",
   "execution_count": null,
   "metadata": {
    "collapsed": true
   },
   "outputs": [],
   "source": []
  }
 ],
 "metadata": {
  "kernelspec": {
   "display_name": "Python 3",
   "language": "python",
   "name": "python3"
  },
  "language_info": {
   "codemirror_mode": {
    "name": "ipython",
    "version": 3
   },
   "file_extension": ".py",
   "mimetype": "text/x-python",
   "name": "python",
   "nbconvert_exporter": "python",
   "pygments_lexer": "ipython3",
   "version": "3.6.0"
  }
 },
 "nbformat": 4,
 "nbformat_minor": 2
}
