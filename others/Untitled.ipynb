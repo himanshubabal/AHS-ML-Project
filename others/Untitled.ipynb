{
 "cells": [
  {
   "cell_type": "code",
   "execution_count": 2,
   "metadata": {
    "collapsed": false
   },
   "outputs": [
    {
     "name": "stderr",
     "output_type": "stream",
     "text": [
      "Using TensorFlow backend.\n"
     ]
    }
   ],
   "source": [
    "import pandas as pd\n",
    "import numpy as np\n",
    "import h5py\n",
    "import matplotlib.pyplot as plt\n",
    "import tensorflow as tf\n",
    "import math\n",
    "from keras.models import Sequential\n",
    "from keras.layers import Dense, Dropout, Activation\n",
    "from keras.optimizers import SGD\n",
    "from keras.utils.np_utils import to_categorical"
   ]
  },
  {
   "cell_type": "code",
   "execution_count": 3,
   "metadata": {
    "collapsed": true
   },
   "outputs": [],
   "source": [
    "data_path = 'data/'"
   ]
  },
  {
   "cell_type": "code",
   "execution_count": 4,
   "metadata": {
    "collapsed": false
   },
   "outputs": [
    {
     "name": "stdout",
     "output_type": "stream",
     "text": [
      "PART - 2 : Preparing Data for the analysis\n"
     ]
    }
   ],
   "source": [
    "################### PART - 2 : Prepare COMB Data for the analysis ###################\n",
    "#####################################################################################\n",
    "\n",
    "print('PART - 2 : Preparing Data for the analysis')\n",
    "\n",
    "def one_hot_df(data_frame, one_hot_colnames=list()) :\n",
    "    if len(one_hot_colnames) != 0:\n",
    "        colnames = list(data_frame)\n",
    "        hot_col = list()\n",
    "\n",
    "        for hot in one_hot_colnames :\n",
    "            if hot in colnames :\n",
    "                hot_col.append(hot)\n",
    "    else:\n",
    "        hot_col = list(data_frame)\n",
    "        \n",
    "    if 'district' in hot_col :\n",
    "        hot_col.remove('district')\n",
    "    if 'state' in hot_col :\n",
    "        hot_col.remove('state')\n",
    "    if 'age' in hot_col:\n",
    "        hot_col.remove('age')\n",
    "            \n",
    "    data_frame = pd.get_dummies(data_frame, columns=hot_col, sparse=True)\n",
    "    return (data_frame)"
   ]
  },
  {
   "cell_type": "code",
   "execution_count": 15,
   "metadata": {
    "collapsed": true
   },
   "outputs": [],
   "source": [
    "# These are the columns which I think are irrelevant in the analysis\n",
    "# Feel free to add or remove entries \n",
    "col_to_be_removed = [\n",
    "    'state',\n",
    "    'Unnamed: 0',\n",
    "    'psu_id',\n",
    "    'house_no',\n",
    "    'house_hold_no',\n",
    "    'member_identity',\n",
    "    'father_serial_no',\n",
    "    'mother_serial_no',\n",
    "    'date_of_birth',\n",
    "    'month_of_birth',\n",
    "    'year_of_birth',\n",
    "    'date_of_marriage',\n",
    "    'month_of_marriage',\n",
    "    'year_of_marriage',\n",
    "    'building_no',\n",
    "    'no_of_dwelling_rooms',\n",
    "    'rural_1',\n",
    "    'rural_2',\n",
    "    'stratum_code',\n",
    "    'relation_to_head',\n",
    "    'member_identity',\n",
    "    'father_serial_no',\n",
    "    'mother_serial_no',\n",
    "    'date_of_birth',\n",
    "    'month_of_birth',\n",
    "    'year_of_birth',\n",
    "    'date_of_marriage',\n",
    "    'month_of_marriage',\n",
    "    'year_of_marriage',\n",
    "    'isheadchanged',\n",
    "    'year'\n",
    "]"
   ]
  },
  {
   "cell_type": "code",
   "execution_count": 5,
   "metadata": {
    "collapsed": false
   },
   "outputs": [
    {
     "data": {
      "text/plain": [
       "u'0.19.2'"
      ]
     },
     "execution_count": 5,
     "metadata": {},
     "output_type": "execute_result"
    }
   ],
   "source": [
    "pd.__version__"
   ]
  },
  {
   "cell_type": "code",
   "execution_count": 6,
   "metadata": {
    "collapsed": false
   },
   "outputs": [
    {
     "name": "stderr",
     "output_type": "stream",
     "text": [
      "//anaconda/lib/python2.7/site-packages/IPython/core/interactiveshell.py:2717: DtypeWarning: Columns (41) have mixed types. Specify dtype option on import or set low_memory=False.\n",
      "  interactivity=interactivity, compiler=compiler, result=result)\n"
     ]
    }
   ],
   "source": [
    "dist = pd.read_csv(data_path + '22_AHS_COMB_Clean.csv')"
   ]
  },
  {
   "cell_type": "code",
   "execution_count": 7,
   "metadata": {
    "collapsed": true
   },
   "outputs": [
    {
     "name": "stdout",
     "output_type": "stream",
     "text": [
      "<class 'pandas.core.frame.DataFrame'>\n",
      "RangeIndex: 4155187 entries, 0 to 4155186\n",
      "Data columns (total 78 columns):\n",
      "Unnamed: 0                         int64\n",
      "state                              int64\n",
      "district                           int64\n",
      "rural                              int64\n",
      "stratum_code                       int64\n",
      "psu_id                             int64\n",
      "house_no                           int64\n",
      "house_hold_no                      int64\n",
      "sex                                int64\n",
      "usual_residance                    float64\n",
      "relation_to_head                   float64\n",
      "member_identity                    float64\n",
      "father_serial_no                   float64\n",
      "mother_serial_no                   float64\n",
      "date_of_birth                      float64\n",
      "month_of_birth                     float64\n",
      "year_of_birth                      float64\n",
      "age                                float64\n",
      "religion                           float64\n",
      "social_group_code                  float64\n",
      "marital_status                     float64\n",
      "date_of_marriage                   float64\n",
      "month_of_marriage                  float64\n",
      "year_of_marriage                   float64\n",
      "currently_attending_school         float64\n",
      "reason_for_not_attending_school    float64\n",
      "highest_qualification              float64\n",
      "occupation_status                  float64\n",
      "disability_status                  float64\n",
      "injury_treatment_type              float64\n",
      "illness_type                       float64\n",
      "treatment_source                   float64\n",
      "symptoms_pertaining_illness        float64\n",
      "sought_medical_care                float64\n",
      "diagnosed_for                      float64\n",
      "diagnosis_source                   float64\n",
      "regular_treatment                  float64\n",
      "regular_treatment_source           float64\n",
      "chew                               float64\n",
      "smoke                              float64\n",
      "alcohol                            float64\n",
      "building_no                        object\n",
      "house_status                       float64\n",
      "house_structure                    float64\n",
      "owner_status                       float64\n",
      "drinking_water_source              float64\n",
      "is_water_filter                    float64\n",
      "water_filteration                  float64\n",
      "toilet_used                        float64\n",
      "is_toilet_shared                   float64\n",
      "household_have_electricity         float64\n",
      "lighting_source                    float64\n",
      "cooking_fuel                       float64\n",
      "no_of_dwelling_rooms               float64\n",
      "kitchen_availability               float64\n",
      "is_radio                           float64\n",
      "is_television                      float64\n",
      "is_computer                        float64\n",
      "is_telephone                       float64\n",
      "is_washing_machine                 float64\n",
      "is_refrigerator                    float64\n",
      "is_sewing_machine                  float64\n",
      "is_bicycle                         float64\n",
      "is_scooter                         float64\n",
      "is_car                             float64\n",
      "is_tractor                         float64\n",
      "is_water_pump                      float64\n",
      "cart                               float64\n",
      "land_possessed                     float64\n",
      "residancial_status                 float64\n",
      "iscoveredbyhealthscheme            float64\n",
      "healthscheme_1                     float64\n",
      "healthscheme_2                     float64\n",
      "housestatus                        float64\n",
      "householdstatus                    float64\n",
      "isheadchanged                      float64\n",
      "as_binned                          float64\n",
      "year                               float64\n",
      "dtypes: float64(68), int64(9), object(1)\n",
      "memory usage: 2.4+ GB\n"
     ]
    }
   ],
   "source": [
    "dist.info()"
   ]
  },
  {
   "cell_type": "code",
   "execution_count": 16,
   "metadata": {
    "collapsed": false
   },
   "outputs": [
    {
     "name": "stdout",
     "output_type": "stream",
     "text": [
      "  \n",
      "Removing not-so-useful columns\n"
     ]
    }
   ],
   "source": [
    "print('  ')\n",
    "print('Removing not-so-useful columns')\n",
    "# Dropping the above columns\n",
    "dist = dist.drop(col_to_be_removed,axis=1,errors='ignore')\n",
    "\n",
    "# As we need to calculate for variable 'diagnosed_for'\n",
    "# So, we drop the rows where 'diagnosed_for' == NaN\n",
    "dist_p = dist[np.isfinite(dist['diagnosed_for'])]"
   ]
  },
  {
   "cell_type": "code",
   "execution_count": 17,
   "metadata": {
    "collapsed": true
   },
   "outputs": [
    {
     "name": "stdout",
     "output_type": "stream",
     "text": [
      "<class 'pandas.core.frame.DataFrame'>\n",
      "RangeIndex: 4155187 entries, 0 to 4155186\n",
      "Data columns (total 58 columns):\n",
      "district                           int64\n",
      "rural                              int64\n",
      "sex                                int64\n",
      "usual_residance                    float64\n",
      "age                                float64\n",
      "religion                           float64\n",
      "social_group_code                  float64\n",
      "marital_status                     float64\n",
      "currently_attending_school         float64\n",
      "reason_for_not_attending_school    float64\n",
      "highest_qualification              float64\n",
      "occupation_status                  float64\n",
      "disability_status                  float64\n",
      "injury_treatment_type              float64\n",
      "illness_type                       float64\n",
      "treatment_source                   float64\n",
      "symptoms_pertaining_illness        float64\n",
      "sought_medical_care                float64\n",
      "diagnosed_for                      float64\n",
      "diagnosis_source                   float64\n",
      "regular_treatment                  float64\n",
      "regular_treatment_source           float64\n",
      "chew                               float64\n",
      "smoke                              float64\n",
      "alcohol                            float64\n",
      "house_status                       float64\n",
      "house_structure                    float64\n",
      "owner_status                       float64\n",
      "drinking_water_source              float64\n",
      "is_water_filter                    float64\n",
      "water_filteration                  float64\n",
      "toilet_used                        float64\n",
      "is_toilet_shared                   float64\n",
      "household_have_electricity         float64\n",
      "lighting_source                    float64\n",
      "cooking_fuel                       float64\n",
      "kitchen_availability               float64\n",
      "is_radio                           float64\n",
      "is_television                      float64\n",
      "is_computer                        float64\n",
      "is_telephone                       float64\n",
      "is_washing_machine                 float64\n",
      "is_refrigerator                    float64\n",
      "is_sewing_machine                  float64\n",
      "is_bicycle                         float64\n",
      "is_scooter                         float64\n",
      "is_car                             float64\n",
      "is_tractor                         float64\n",
      "is_water_pump                      float64\n",
      "cart                               float64\n",
      "land_possessed                     float64\n",
      "residancial_status                 float64\n",
      "iscoveredbyhealthscheme            float64\n",
      "healthscheme_1                     float64\n",
      "healthscheme_2                     float64\n",
      "housestatus                        float64\n",
      "householdstatus                    float64\n",
      "as_binned                          float64\n",
      "dtypes: float64(55), int64(3)\n",
      "memory usage: 1.8 GB\n"
     ]
    }
   ],
   "source": [
    "dist.info()"
   ]
  },
  {
   "cell_type": "code",
   "execution_count": 9,
   "metadata": {
    "collapsed": true
   },
   "outputs": [
    {
     "data": {
      "text/html": [
       "<div>\n",
       "<table border=\"1\" class=\"dataframe\">\n",
       "  <thead>\n",
       "    <tr style=\"text-align: right;\">\n",
       "      <th></th>\n",
       "      <th>Unnamed: 0</th>\n",
       "      <th>district</th>\n",
       "      <th>rural</th>\n",
       "      <th>psu_id</th>\n",
       "      <th>house_no</th>\n",
       "      <th>sex</th>\n",
       "      <th>usual_residance</th>\n",
       "      <th>age</th>\n",
       "      <th>religion</th>\n",
       "      <th>social_group_code</th>\n",
       "      <th>...</th>\n",
       "      <th>is_water_pump</th>\n",
       "      <th>cart</th>\n",
       "      <th>land_possessed</th>\n",
       "      <th>residancial_status</th>\n",
       "      <th>iscoveredbyhealthscheme</th>\n",
       "      <th>healthscheme_1</th>\n",
       "      <th>healthscheme_2</th>\n",
       "      <th>housestatus</th>\n",
       "      <th>householdstatus</th>\n",
       "      <th>as_binned</th>\n",
       "    </tr>\n",
       "  </thead>\n",
       "  <tbody>\n",
       "    <tr>\n",
       "      <th>0</th>\n",
       "      <td>0</td>\n",
       "      <td>3</td>\n",
       "      <td>1</td>\n",
       "      <td>157280582</td>\n",
       "      <td>633</td>\n",
       "      <td>1</td>\n",
       "      <td>1.0</td>\n",
       "      <td>30.0</td>\n",
       "      <td>1.0</td>\n",
       "      <td>3.0</td>\n",
       "      <td>...</td>\n",
       "      <td>2.0</td>\n",
       "      <td>4.0</td>\n",
       "      <td>6.0</td>\n",
       "      <td>1.0</td>\n",
       "      <td>2.0</td>\n",
       "      <td>NaN</td>\n",
       "      <td>NaN</td>\n",
       "      <td>1.0</td>\n",
       "      <td>1.0</td>\n",
       "      <td>NaN</td>\n",
       "    </tr>\n",
       "    <tr>\n",
       "      <th>1</th>\n",
       "      <td>1</td>\n",
       "      <td>3</td>\n",
       "      <td>1</td>\n",
       "      <td>157278213</td>\n",
       "      <td>634</td>\n",
       "      <td>1</td>\n",
       "      <td>1.0</td>\n",
       "      <td>49.0</td>\n",
       "      <td>1.0</td>\n",
       "      <td>3.0</td>\n",
       "      <td>...</td>\n",
       "      <td>2.0</td>\n",
       "      <td>4.0</td>\n",
       "      <td>6.0</td>\n",
       "      <td>1.0</td>\n",
       "      <td>2.0</td>\n",
       "      <td>NaN</td>\n",
       "      <td>NaN</td>\n",
       "      <td>1.0</td>\n",
       "      <td>1.0</td>\n",
       "      <td>NaN</td>\n",
       "    </tr>\n",
       "    <tr>\n",
       "      <th>2</th>\n",
       "      <td>2</td>\n",
       "      <td>3</td>\n",
       "      <td>1</td>\n",
       "      <td>157278379</td>\n",
       "      <td>634</td>\n",
       "      <td>2</td>\n",
       "      <td>1.0</td>\n",
       "      <td>47.0</td>\n",
       "      <td>1.0</td>\n",
       "      <td>3.0</td>\n",
       "      <td>...</td>\n",
       "      <td>2.0</td>\n",
       "      <td>4.0</td>\n",
       "      <td>6.0</td>\n",
       "      <td>1.0</td>\n",
       "      <td>2.0</td>\n",
       "      <td>NaN</td>\n",
       "      <td>NaN</td>\n",
       "      <td>1.0</td>\n",
       "      <td>1.0</td>\n",
       "      <td>NaN</td>\n",
       "    </tr>\n",
       "    <tr>\n",
       "      <th>3</th>\n",
       "      <td>3</td>\n",
       "      <td>3</td>\n",
       "      <td>1</td>\n",
       "      <td>157281242</td>\n",
       "      <td>634</td>\n",
       "      <td>1</td>\n",
       "      <td>1.0</td>\n",
       "      <td>25.0</td>\n",
       "      <td>1.0</td>\n",
       "      <td>3.0</td>\n",
       "      <td>...</td>\n",
       "      <td>2.0</td>\n",
       "      <td>4.0</td>\n",
       "      <td>6.0</td>\n",
       "      <td>1.0</td>\n",
       "      <td>2.0</td>\n",
       "      <td>NaN</td>\n",
       "      <td>NaN</td>\n",
       "      <td>1.0</td>\n",
       "      <td>1.0</td>\n",
       "      <td>NaN</td>\n",
       "    </tr>\n",
       "    <tr>\n",
       "      <th>4</th>\n",
       "      <td>4</td>\n",
       "      <td>3</td>\n",
       "      <td>1</td>\n",
       "      <td>157280945</td>\n",
       "      <td>634</td>\n",
       "      <td>1</td>\n",
       "      <td>1.0</td>\n",
       "      <td>27.0</td>\n",
       "      <td>1.0</td>\n",
       "      <td>3.0</td>\n",
       "      <td>...</td>\n",
       "      <td>2.0</td>\n",
       "      <td>4.0</td>\n",
       "      <td>6.0</td>\n",
       "      <td>1.0</td>\n",
       "      <td>2.0</td>\n",
       "      <td>NaN</td>\n",
       "      <td>NaN</td>\n",
       "      <td>1.0</td>\n",
       "      <td>1.0</td>\n",
       "      <td>NaN</td>\n",
       "    </tr>\n",
       "  </tbody>\n",
       "</table>\n",
       "<p>5 rows × 61 columns</p>\n",
       "</div>"
      ],
      "text/plain": [
       "   Unnamed: 0  district  rural     psu_id  house_no  sex  usual_residance  \\\n",
       "0           0         3      1  157280582       633    1              1.0   \n",
       "1           1         3      1  157278213       634    1              1.0   \n",
       "2           2         3      1  157278379       634    2              1.0   \n",
       "3           3         3      1  157281242       634    1              1.0   \n",
       "4           4         3      1  157280945       634    1              1.0   \n",
       "\n",
       "    age  religion  social_group_code    ...      is_water_pump  cart  \\\n",
       "0  30.0       1.0                3.0    ...                2.0   4.0   \n",
       "1  49.0       1.0                3.0    ...                2.0   4.0   \n",
       "2  47.0       1.0                3.0    ...                2.0   4.0   \n",
       "3  25.0       1.0                3.0    ...                2.0   4.0   \n",
       "4  27.0       1.0                3.0    ...                2.0   4.0   \n",
       "\n",
       "   land_possessed  residancial_status  iscoveredbyhealthscheme  \\\n",
       "0             6.0                 1.0                      2.0   \n",
       "1             6.0                 1.0                      2.0   \n",
       "2             6.0                 1.0                      2.0   \n",
       "3             6.0                 1.0                      2.0   \n",
       "4             6.0                 1.0                      2.0   \n",
       "\n",
       "   healthscheme_1  healthscheme_2  housestatus  householdstatus  as_binned  \n",
       "0             NaN             NaN          1.0              1.0        NaN  \n",
       "1             NaN             NaN          1.0              1.0        NaN  \n",
       "2             NaN             NaN          1.0              1.0        NaN  \n",
       "3             NaN             NaN          1.0              1.0        NaN  \n",
       "4             NaN             NaN          1.0              1.0        NaN  \n",
       "\n",
       "[5 rows x 61 columns]"
      ]
     },
     "execution_count": 9,
     "metadata": {},
     "output_type": "execute_result"
    }
   ],
   "source": [
    "dist.head()"
   ]
  },
  {
   "cell_type": "code",
   "execution_count": 19,
   "metadata": {
    "collapsed": false
   },
   "outputs": [],
   "source": [
    "del dist\n",
    "# dist_p = dist_p.reset_index(drop=True)\n",
    "\n",
    "# Removing rows with 'diagnosed_for' = 0.0\n",
    "dist_p = dist_p[dist_p['diagnosed_for'] != 0.0]\n",
    "# dist_p = dist_p.reset_index(drop=True)"
   ]
  },
  {
   "cell_type": "code",
   "execution_count": 20,
   "metadata": {
    "collapsed": false
   },
   "outputs": [
    {
     "data": {
      "text/html": [
       "<div>\n",
       "<table border=\"1\" class=\"dataframe\">\n",
       "  <thead>\n",
       "    <tr style=\"text-align: right;\">\n",
       "      <th></th>\n",
       "      <th>district</th>\n",
       "      <th>rural</th>\n",
       "      <th>sex</th>\n",
       "      <th>usual_residance</th>\n",
       "      <th>age</th>\n",
       "      <th>religion</th>\n",
       "      <th>social_group_code</th>\n",
       "      <th>marital_status</th>\n",
       "      <th>currently_attending_school</th>\n",
       "      <th>reason_for_not_attending_school</th>\n",
       "      <th>...</th>\n",
       "      <th>is_water_pump</th>\n",
       "      <th>cart</th>\n",
       "      <th>land_possessed</th>\n",
       "      <th>residancial_status</th>\n",
       "      <th>iscoveredbyhealthscheme</th>\n",
       "      <th>healthscheme_1</th>\n",
       "      <th>healthscheme_2</th>\n",
       "      <th>housestatus</th>\n",
       "      <th>householdstatus</th>\n",
       "      <th>as_binned</th>\n",
       "    </tr>\n",
       "  </thead>\n",
       "  <tbody>\n",
       "    <tr>\n",
       "      <th>98</th>\n",
       "      <td>3</td>\n",
       "      <td>1</td>\n",
       "      <td>1</td>\n",
       "      <td>1.0</td>\n",
       "      <td>42.0</td>\n",
       "      <td>1.0</td>\n",
       "      <td>2.0</td>\n",
       "      <td>4.0</td>\n",
       "      <td>NaN</td>\n",
       "      <td>NaN</td>\n",
       "      <td>...</td>\n",
       "      <td>2.0</td>\n",
       "      <td>4.0</td>\n",
       "      <td>3.0</td>\n",
       "      <td>1.0</td>\n",
       "      <td>2.0</td>\n",
       "      <td>NaN</td>\n",
       "      <td>NaN</td>\n",
       "      <td>1.0</td>\n",
       "      <td>1.0</td>\n",
       "      <td>NaN</td>\n",
       "    </tr>\n",
       "    <tr>\n",
       "      <th>108</th>\n",
       "      <td>3</td>\n",
       "      <td>1</td>\n",
       "      <td>1</td>\n",
       "      <td>1.0</td>\n",
       "      <td>67.0</td>\n",
       "      <td>1.0</td>\n",
       "      <td>2.0</td>\n",
       "      <td>3.0</td>\n",
       "      <td>NaN</td>\n",
       "      <td>NaN</td>\n",
       "      <td>...</td>\n",
       "      <td>2.0</td>\n",
       "      <td>4.0</td>\n",
       "      <td>3.0</td>\n",
       "      <td>1.0</td>\n",
       "      <td>2.0</td>\n",
       "      <td>NaN</td>\n",
       "      <td>NaN</td>\n",
       "      <td>1.0</td>\n",
       "      <td>1.0</td>\n",
       "      <td>NaN</td>\n",
       "    </tr>\n",
       "    <tr>\n",
       "      <th>139</th>\n",
       "      <td>3</td>\n",
       "      <td>1</td>\n",
       "      <td>1</td>\n",
       "      <td>1.0</td>\n",
       "      <td>67.0</td>\n",
       "      <td>1.0</td>\n",
       "      <td>1.0</td>\n",
       "      <td>3.0</td>\n",
       "      <td>NaN</td>\n",
       "      <td>NaN</td>\n",
       "      <td>...</td>\n",
       "      <td>2.0</td>\n",
       "      <td>4.0</td>\n",
       "      <td>2.0</td>\n",
       "      <td>1.0</td>\n",
       "      <td>2.0</td>\n",
       "      <td>NaN</td>\n",
       "      <td>NaN</td>\n",
       "      <td>1.0</td>\n",
       "      <td>1.0</td>\n",
       "      <td>NaN</td>\n",
       "    </tr>\n",
       "    <tr>\n",
       "      <th>162</th>\n",
       "      <td>3</td>\n",
       "      <td>1</td>\n",
       "      <td>2</td>\n",
       "      <td>1.0</td>\n",
       "      <td>43.0</td>\n",
       "      <td>1.0</td>\n",
       "      <td>2.0</td>\n",
       "      <td>3.0</td>\n",
       "      <td>NaN</td>\n",
       "      <td>NaN</td>\n",
       "      <td>...</td>\n",
       "      <td>2.0</td>\n",
       "      <td>4.0</td>\n",
       "      <td>6.0</td>\n",
       "      <td>1.0</td>\n",
       "      <td>2.0</td>\n",
       "      <td>NaN</td>\n",
       "      <td>NaN</td>\n",
       "      <td>1.0</td>\n",
       "      <td>1.0</td>\n",
       "      <td>NaN</td>\n",
       "    </tr>\n",
       "    <tr>\n",
       "      <th>206</th>\n",
       "      <td>3</td>\n",
       "      <td>1</td>\n",
       "      <td>1</td>\n",
       "      <td>1.0</td>\n",
       "      <td>22.0</td>\n",
       "      <td>1.0</td>\n",
       "      <td>3.0</td>\n",
       "      <td>1.0</td>\n",
       "      <td>NaN</td>\n",
       "      <td>NaN</td>\n",
       "      <td>...</td>\n",
       "      <td>2.0</td>\n",
       "      <td>4.0</td>\n",
       "      <td>1.0</td>\n",
       "      <td>1.0</td>\n",
       "      <td>1.0</td>\n",
       "      <td>7.0</td>\n",
       "      <td>NaN</td>\n",
       "      <td>1.0</td>\n",
       "      <td>1.0</td>\n",
       "      <td>NaN</td>\n",
       "    </tr>\n",
       "  </tbody>\n",
       "</table>\n",
       "<p>5 rows × 58 columns</p>\n",
       "</div>"
      ],
      "text/plain": [
       "     district  rural  sex  usual_residance   age  religion  social_group_code  \\\n",
       "98          3      1    1              1.0  42.0       1.0                2.0   \n",
       "108         3      1    1              1.0  67.0       1.0                2.0   \n",
       "139         3      1    1              1.0  67.0       1.0                1.0   \n",
       "162         3      1    2              1.0  43.0       1.0                2.0   \n",
       "206         3      1    1              1.0  22.0       1.0                3.0   \n",
       "\n",
       "     marital_status  currently_attending_school  \\\n",
       "98              4.0                         NaN   \n",
       "108             3.0                         NaN   \n",
       "139             3.0                         NaN   \n",
       "162             3.0                         NaN   \n",
       "206             1.0                         NaN   \n",
       "\n",
       "     reason_for_not_attending_school    ...      is_water_pump  cart  \\\n",
       "98                               NaN    ...                2.0   4.0   \n",
       "108                              NaN    ...                2.0   4.0   \n",
       "139                              NaN    ...                2.0   4.0   \n",
       "162                              NaN    ...                2.0   4.0   \n",
       "206                              NaN    ...                2.0   4.0   \n",
       "\n",
       "     land_possessed  residancial_status  iscoveredbyhealthscheme  \\\n",
       "98              3.0                 1.0                      2.0   \n",
       "108             3.0                 1.0                      2.0   \n",
       "139             2.0                 1.0                      2.0   \n",
       "162             6.0                 1.0                      2.0   \n",
       "206             1.0                 1.0                      1.0   \n",
       "\n",
       "     healthscheme_1  healthscheme_2  housestatus  householdstatus  as_binned  \n",
       "98              NaN             NaN          1.0              1.0        NaN  \n",
       "108             NaN             NaN          1.0              1.0        NaN  \n",
       "139             NaN             NaN          1.0              1.0        NaN  \n",
       "162             NaN             NaN          1.0              1.0        NaN  \n",
       "206             7.0             NaN          1.0              1.0        NaN  \n",
       "\n",
       "[5 rows x 58 columns]"
      ]
     },
     "execution_count": 20,
     "metadata": {},
     "output_type": "execute_result"
    }
   ],
   "source": [
    "dist_p.head()"
   ]
  },
  {
   "cell_type": "code",
   "execution_count": 21,
   "metadata": {
    "collapsed": true
   },
   "outputs": [
    {
     "name": "stdout",
     "output_type": "stream",
     "text": [
      "<class 'pandas.core.frame.DataFrame'>\n",
      "Int64Index: 158036 entries, 98 to 4155184\n",
      "Data columns (total 58 columns):\n",
      "district                           158036 non-null int64\n",
      "rural                              158036 non-null int64\n",
      "sex                                158036 non-null int64\n",
      "usual_residance                    149826 non-null float64\n",
      "age                                158036 non-null float64\n",
      "religion                           158036 non-null float64\n",
      "social_group_code                  158036 non-null float64\n",
      "marital_status                     158036 non-null float64\n",
      "currently_attending_school         8262 non-null float64\n",
      "reason_for_not_attending_school    1218 non-null float64\n",
      "highest_qualification              154501 non-null float64\n",
      "occupation_status                  155340 non-null float64\n",
      "disability_status                  158036 non-null float64\n",
      "injury_treatment_type              158036 non-null float64\n",
      "illness_type                       158036 non-null float64\n",
      "treatment_source                   70288 non-null float64\n",
      "symptoms_pertaining_illness        158036 non-null float64\n",
      "sought_medical_care                91939 non-null float64\n",
      "diagnosed_for                      158036 non-null float64\n",
      "diagnosis_source                   158031 non-null float64\n",
      "regular_treatment                  158031 non-null float64\n",
      "regular_treatment_source           129923 non-null float64\n",
      "chew                               142769 non-null float64\n",
      "smoke                              142769 non-null float64\n",
      "alcohol                            142769 non-null float64\n",
      "house_status                       156333 non-null float64\n",
      "house_structure                    151778 non-null float64\n",
      "owner_status                       151778 non-null float64\n",
      "drinking_water_source              151778 non-null float64\n",
      "is_water_filter                    151778 non-null float64\n",
      "water_filteration                  55899 non-null float64\n",
      "toilet_used                        151778 non-null float64\n",
      "is_toilet_shared                   56323 non-null float64\n",
      "household_have_electricity         151778 non-null float64\n",
      "lighting_source                    151778 non-null float64\n",
      "cooking_fuel                       151778 non-null float64\n",
      "kitchen_availability               151778 non-null float64\n",
      "is_radio                           151778 non-null float64\n",
      "is_television                      151778 non-null float64\n",
      "is_computer                        151778 non-null float64\n",
      "is_telephone                       151778 non-null float64\n",
      "is_washing_machine                 151778 non-null float64\n",
      "is_refrigerator                    151778 non-null float64\n",
      "is_sewing_machine                  151778 non-null float64\n",
      "is_bicycle                         151778 non-null float64\n",
      "is_scooter                         151778 non-null float64\n",
      "is_car                             151778 non-null float64\n",
      "is_tractor                         151778 non-null float64\n",
      "is_water_pump                      151778 non-null float64\n",
      "cart                               151778 non-null float64\n",
      "land_possessed                     151778 non-null float64\n",
      "residancial_status                 104021 non-null float64\n",
      "iscoveredbyhealthscheme            104021 non-null float64\n",
      "healthscheme_1                     39303 non-null float64\n",
      "healthscheme_2                     537 non-null float64\n",
      "housestatus                        104021 non-null float64\n",
      "householdstatus                    104019 non-null float64\n",
      "as_binned                          54013 non-null float64\n",
      "dtypes: float64(55), int64(3)\n",
      "memory usage: 71.1 MB\n"
     ]
    }
   ],
   "source": [
    "dist_p.info()"
   ]
  },
  {
   "cell_type": "code",
   "execution_count": 11,
   "metadata": {
    "collapsed": true
   },
   "outputs": [
    {
     "name": "stdout",
     "output_type": "stream",
     "text": [
      "Variable            Type         Data/Info\n",
      "------------------------------------------\n",
      "Activation          type         <class 'keras.layers.core.Activation'>\n",
      "Dense               type         <class 'keras.layers.core.Dense'>\n",
      "Dropout             type         <class 'keras.layers.core.Dropout'>\n",
      "SGD                 type         <class 'keras.optimizers.SGD'>\n",
      "Sequential          type         <class 'keras.models.Sequential'>\n",
      "col_to_be_removed   list         n=29\n",
      "data_path           str          data/\n",
      "dist_p              DataFrame             Unnamed: 0  dist<...>158036 rows x 61 columns]\n",
      "h5py                module       <module 'h5py' from '//an<...>kages/h5py/__init__.pyc'>\n",
      "math                module       <module 'math' from '//an<...>2.7/lib-dynload/math.so'>\n",
      "np                  module       <module 'numpy' from '//a<...>ages/numpy/__init__.pyc'>\n",
      "one_hot_df          function     <function one_hot_df at 0x11c3c9a28>\n",
      "pd                  module       <module 'pandas' from '//<...>ges/pandas/__init__.pyc'>\n",
      "plt                 module       <module 'matplotlib.pyplo<...>s/matplotlib/pyplot.pyc'>\n",
      "tf                  module       <module 'tensorflow' from<...>tensorflow/__init__.pyc'>\n",
      "to_categorical      function     <function to_categorical at 0x11c3776e0>\n"
     ]
    }
   ],
   "source": [
    "%whos"
   ]
  },
  {
   "cell_type": "code",
   "execution_count": 22,
   "metadata": {
    "collapsed": true
   },
   "outputs": [],
   "source": [
    "# Shuffling the dataset and reset index\n",
    "dist_p = dist_p.iloc[np.random.permutation(len(dist_p))]\n",
    "dist_p = dist_p.reset_index(drop=True)"
   ]
  },
  {
   "cell_type": "code",
   "execution_count": 24,
   "metadata": {
    "collapsed": false
   },
   "outputs": [
    {
     "name": "stdout",
     "output_type": "stream",
     "text": [
      "Splitting to-predict column\n"
     ]
    }
   ],
   "source": [
    "print('Splitting to-predict column')\n",
    "# Seperating 'diagnosed_for' variable for prediction\n",
    "diagnosed_col = dist_p[['diagnosed_for']]\n",
    "diagnosed_data = dist_p.drop(['diagnosed_for'], inplace=False, axis=1, errors='ignore')\n",
    "del dist_p"
   ]
  },
  {
   "cell_type": "code",
   "execution_count": 25,
   "metadata": {
    "collapsed": true
   },
   "outputs": [
    {
     "data": {
      "text/html": [
       "<div>\n",
       "<table border=\"1\" class=\"dataframe\">\n",
       "  <thead>\n",
       "    <tr style=\"text-align: right;\">\n",
       "      <th></th>\n",
       "      <th>district</th>\n",
       "      <th>rural</th>\n",
       "      <th>sex</th>\n",
       "      <th>usual_residance</th>\n",
       "      <th>age</th>\n",
       "      <th>religion</th>\n",
       "      <th>social_group_code</th>\n",
       "      <th>marital_status</th>\n",
       "      <th>currently_attending_school</th>\n",
       "      <th>reason_for_not_attending_school</th>\n",
       "      <th>...</th>\n",
       "      <th>is_water_pump</th>\n",
       "      <th>cart</th>\n",
       "      <th>land_possessed</th>\n",
       "      <th>residancial_status</th>\n",
       "      <th>iscoveredbyhealthscheme</th>\n",
       "      <th>healthscheme_1</th>\n",
       "      <th>healthscheme_2</th>\n",
       "      <th>housestatus</th>\n",
       "      <th>householdstatus</th>\n",
       "      <th>as_binned</th>\n",
       "    </tr>\n",
       "  </thead>\n",
       "  <tbody>\n",
       "    <tr>\n",
       "      <th>0</th>\n",
       "      <td>5</td>\n",
       "      <td>1</td>\n",
       "      <td>2</td>\n",
       "      <td>1.0</td>\n",
       "      <td>19.0</td>\n",
       "      <td>1.0</td>\n",
       "      <td>2.0</td>\n",
       "      <td>1.0</td>\n",
       "      <td>NaN</td>\n",
       "      <td>NaN</td>\n",
       "      <td>...</td>\n",
       "      <td>2.0</td>\n",
       "      <td>4.0</td>\n",
       "      <td>6.0</td>\n",
       "      <td>1.0</td>\n",
       "      <td>2.0</td>\n",
       "      <td>NaN</td>\n",
       "      <td>NaN</td>\n",
       "      <td>1.0</td>\n",
       "      <td>1.0</td>\n",
       "      <td>NaN</td>\n",
       "    </tr>\n",
       "    <tr>\n",
       "      <th>1</th>\n",
       "      <td>4</td>\n",
       "      <td>1</td>\n",
       "      <td>1</td>\n",
       "      <td>1.0</td>\n",
       "      <td>51.0</td>\n",
       "      <td>1.0</td>\n",
       "      <td>1.0</td>\n",
       "      <td>3.0</td>\n",
       "      <td>NaN</td>\n",
       "      <td>NaN</td>\n",
       "      <td>...</td>\n",
       "      <td>2.0</td>\n",
       "      <td>4.0</td>\n",
       "      <td>6.0</td>\n",
       "      <td>1.0</td>\n",
       "      <td>2.0</td>\n",
       "      <td>NaN</td>\n",
       "      <td>NaN</td>\n",
       "      <td>1.0</td>\n",
       "      <td>1.0</td>\n",
       "      <td>NaN</td>\n",
       "    </tr>\n",
       "    <tr>\n",
       "      <th>2</th>\n",
       "      <td>11</td>\n",
       "      <td>2</td>\n",
       "      <td>2</td>\n",
       "      <td>1.0</td>\n",
       "      <td>31.0</td>\n",
       "      <td>1.0</td>\n",
       "      <td>3.0</td>\n",
       "      <td>3.0</td>\n",
       "      <td>NaN</td>\n",
       "      <td>NaN</td>\n",
       "      <td>...</td>\n",
       "      <td>2.0</td>\n",
       "      <td>4.0</td>\n",
       "      <td>6.0</td>\n",
       "      <td>NaN</td>\n",
       "      <td>NaN</td>\n",
       "      <td>NaN</td>\n",
       "      <td>NaN</td>\n",
       "      <td>NaN</td>\n",
       "      <td>NaN</td>\n",
       "      <td>5.0</td>\n",
       "    </tr>\n",
       "    <tr>\n",
       "      <th>3</th>\n",
       "      <td>6</td>\n",
       "      <td>1</td>\n",
       "      <td>1</td>\n",
       "      <td>1.0</td>\n",
       "      <td>65.0</td>\n",
       "      <td>1.0</td>\n",
       "      <td>3.0</td>\n",
       "      <td>3.0</td>\n",
       "      <td>NaN</td>\n",
       "      <td>NaN</td>\n",
       "      <td>...</td>\n",
       "      <td>2.0</td>\n",
       "      <td>4.0</td>\n",
       "      <td>1.0</td>\n",
       "      <td>NaN</td>\n",
       "      <td>NaN</td>\n",
       "      <td>NaN</td>\n",
       "      <td>NaN</td>\n",
       "      <td>NaN</td>\n",
       "      <td>NaN</td>\n",
       "      <td>2.0</td>\n",
       "    </tr>\n",
       "    <tr>\n",
       "      <th>4</th>\n",
       "      <td>6</td>\n",
       "      <td>1</td>\n",
       "      <td>2</td>\n",
       "      <td>1.0</td>\n",
       "      <td>23.0</td>\n",
       "      <td>1.0</td>\n",
       "      <td>2.0</td>\n",
       "      <td>3.0</td>\n",
       "      <td>NaN</td>\n",
       "      <td>NaN</td>\n",
       "      <td>...</td>\n",
       "      <td>2.0</td>\n",
       "      <td>4.0</td>\n",
       "      <td>2.0</td>\n",
       "      <td>1.0</td>\n",
       "      <td>1.0</td>\n",
       "      <td>7.0</td>\n",
       "      <td>NaN</td>\n",
       "      <td>1.0</td>\n",
       "      <td>1.0</td>\n",
       "      <td>NaN</td>\n",
       "    </tr>\n",
       "  </tbody>\n",
       "</table>\n",
       "<p>5 rows × 57 columns</p>\n",
       "</div>"
      ],
      "text/plain": [
       "   district  rural  sex  usual_residance   age  religion  social_group_code  \\\n",
       "0         5      1    2              1.0  19.0       1.0                2.0   \n",
       "1         4      1    1              1.0  51.0       1.0                1.0   \n",
       "2        11      2    2              1.0  31.0       1.0                3.0   \n",
       "3         6      1    1              1.0  65.0       1.0                3.0   \n",
       "4         6      1    2              1.0  23.0       1.0                2.0   \n",
       "\n",
       "   marital_status  currently_attending_school  \\\n",
       "0             1.0                         NaN   \n",
       "1             3.0                         NaN   \n",
       "2             3.0                         NaN   \n",
       "3             3.0                         NaN   \n",
       "4             3.0                         NaN   \n",
       "\n",
       "   reason_for_not_attending_school    ...      is_water_pump  cart  \\\n",
       "0                              NaN    ...                2.0   4.0   \n",
       "1                              NaN    ...                2.0   4.0   \n",
       "2                              NaN    ...                2.0   4.0   \n",
       "3                              NaN    ...                2.0   4.0   \n",
       "4                              NaN    ...                2.0   4.0   \n",
       "\n",
       "   land_possessed  residancial_status  iscoveredbyhealthscheme  \\\n",
       "0             6.0                 1.0                      2.0   \n",
       "1             6.0                 1.0                      2.0   \n",
       "2             6.0                 NaN                      NaN   \n",
       "3             1.0                 NaN                      NaN   \n",
       "4             2.0                 1.0                      1.0   \n",
       "\n",
       "   healthscheme_1  healthscheme_2  housestatus  householdstatus  as_binned  \n",
       "0             NaN             NaN          1.0              1.0        NaN  \n",
       "1             NaN             NaN          1.0              1.0        NaN  \n",
       "2             NaN             NaN          NaN              NaN        5.0  \n",
       "3             NaN             NaN          NaN              NaN        2.0  \n",
       "4             7.0             NaN          1.0              1.0        NaN  \n",
       "\n",
       "[5 rows x 57 columns]"
      ]
     },
     "execution_count": 25,
     "metadata": {},
     "output_type": "execute_result"
    }
   ],
   "source": [
    "diagnosed_data.head()"
   ]
  },
  {
   "cell_type": "code",
   "execution_count": 26,
   "metadata": {
    "collapsed": true
   },
   "outputs": [
    {
     "name": "stdout",
     "output_type": "stream",
     "text": [
      "<class 'pandas.core.frame.DataFrame'>\n",
      "RangeIndex: 158036 entries, 0 to 158035\n",
      "Data columns (total 1 columns):\n",
      "diagnosed_for    158036 non-null float64\n",
      "dtypes: float64(1)\n",
      "memory usage: 1.2 MB\n"
     ]
    }
   ],
   "source": [
    "diagnosed_col.info()"
   ]
  },
  {
   "cell_type": "code",
   "execution_count": 27,
   "metadata": {
    "collapsed": false
   },
   "outputs": [
    {
     "name": "stdout",
     "output_type": "stream",
     "text": [
      "  \n",
      "Saving diagnosed_for column to data/22_COMB_diag_col.csv\n"
     ]
    }
   ],
   "source": [
    "print('  ')\n",
    "print('Saving diagnosed_for column to data/22_COMB_diag_col.csv')\n",
    "diagnosed_col.to_csv(data_path + '22_COMB_diag_col.csv')\n",
    "del diagnosed_col"
   ]
  },
  {
   "cell_type": "code",
   "execution_count": 29,
   "metadata": {
    "collapsed": false
   },
   "outputs": [
    {
     "data": {
      "text/plain": [
       "1494606"
      ]
     },
     "execution_count": 29,
     "metadata": {},
     "output_type": "execute_result"
    }
   ],
   "source": [
    "diagnosed_data.isnull().sum().sum()"
   ]
  },
  {
   "cell_type": "code",
   "execution_count": 40,
   "metadata": {
    "collapsed": true
   },
   "outputs": [],
   "source": [
    "#  df.fillna(df.mean())\n",
    "# ff = diagnosed_data.fillna(diagnosed_data.mean())\n",
    "ff = diagnosed_data.fillna(0)"
   ]
  },
  {
   "cell_type": "code",
   "execution_count": 41,
   "metadata": {
    "collapsed": false
   },
   "outputs": [
    {
     "data": {
      "text/plain": [
       "(158036, 57)"
      ]
     },
     "execution_count": 41,
     "metadata": {},
     "output_type": "execute_result"
    }
   ],
   "source": [
    "diagnosed_data.shape"
   ]
  },
  {
   "cell_type": "code",
   "execution_count": 42,
   "metadata": {
    "collapsed": false
   },
   "outputs": [
    {
     "data": {
      "text/plain": [
       "(158036, 57)"
      ]
     },
     "execution_count": 42,
     "metadata": {},
     "output_type": "execute_result"
    }
   ],
   "source": [
    "ff.shape"
   ]
  },
  {
   "cell_type": "code",
   "execution_count": 43,
   "metadata": {
    "collapsed": true
   },
   "outputs": [],
   "source": [
    "from sklearn.preprocessing import OneHotEncoder\n",
    "enc = OneHotEncoder()\n",
    "h = enc.fit(ff)\n",
    "k = enc.transform(ff).toarray()"
   ]
  },
  {
   "cell_type": "code",
   "execution_count": 44,
   "metadata": {
    "collapsed": false
   },
   "outputs": [
    {
     "data": {
      "text/plain": [
       "(158036, 457)"
      ]
     },
     "execution_count": 44,
     "metadata": {},
     "output_type": "execute_result"
    }
   ],
   "source": [
    "k.shape"
   ]
  },
  {
   "cell_type": "code",
   "execution_count": null,
   "metadata": {
    "collapsed": true
   },
   "outputs": [],
   "source": []
  },
  {
   "cell_type": "code",
   "execution_count": null,
   "metadata": {
    "collapsed": true
   },
   "outputs": [],
   "source": []
  },
  {
   "cell_type": "code",
   "execution_count": 39,
   "metadata": {
    "collapsed": false
   },
   "outputs": [
    {
     "data": {
      "text/plain": [
       "array([[ 0.,  0.,  0., ...,  1.,  0.,  0.],\n",
       "       [ 0.,  0.,  0., ...,  0.,  0.,  1.],\n",
       "       [ 0.,  0.,  0., ...,  0.,  0.,  0.],\n",
       "       [ 0.,  0.,  0., ...,  1.,  0.,  0.]])"
      ]
     },
     "execution_count": 39,
     "metadata": {},
     "output_type": "execute_result"
    }
   ],
   "source": [
    "k[1:5]"
   ]
  },
  {
   "cell_type": "code",
   "execution_count": null,
   "metadata": {
    "collapsed": true
   },
   "outputs": [],
   "source": []
  },
  {
   "cell_type": "code",
   "execution_count": null,
   "metadata": {
    "collapsed": true
   },
   "outputs": [],
   "source": []
  },
  {
   "cell_type": "code",
   "execution_count": 11,
   "metadata": {
    "collapsed": true
   },
   "outputs": [],
   "source": [
    "from sklearn.preprocessing import OneHotEncoder\n",
    "enc = OneHotEncoder()\n",
    "a = enc.fit(diagnosed_col)"
   ]
  },
  {
   "cell_type": "code",
   "execution_count": 13,
   "metadata": {
    "collapsed": false
   },
   "outputs": [],
   "source": [
    "a = enc.transform(diagnosed_col).toarray()"
   ]
  },
  {
   "cell_type": "code",
   "execution_count": 17,
   "metadata": {
    "collapsed": false
   },
   "outputs": [
    {
     "data": {
      "text/plain": [
       "(158036, 60)"
      ]
     },
     "execution_count": 17,
     "metadata": {},
     "output_type": "execute_result"
    }
   ],
   "source": [
    "diagnosed_data.shape"
   ]
  },
  {
   "cell_type": "code",
   "execution_count": 53,
   "metadata": {
    "collapsed": false
   },
   "outputs": [
    {
     "data": {
      "text/plain": [
       "(31607, 57)"
      ]
     },
     "execution_count": 53,
     "metadata": {},
     "output_type": "execute_result"
    }
   ],
   "source": [
    "np.array_split(diagnosed_data, 5)[1].shape"
   ]
  },
  {
   "cell_type": "code",
   "execution_count": 54,
   "metadata": {
    "collapsed": true
   },
   "outputs": [],
   "source": [
    "one = pd.DataFrame(np.array_split(diagnosed_data, 5)[0])"
   ]
  },
  {
   "cell_type": "code",
   "execution_count": 55,
   "metadata": {
    "collapsed": false
   },
   "outputs": [
    {
     "data": {
      "text/html": [
       "<div>\n",
       "<table border=\"1\" class=\"dataframe\">\n",
       "  <thead>\n",
       "    <tr style=\"text-align: right;\">\n",
       "      <th></th>\n",
       "      <th>district</th>\n",
       "      <th>rural</th>\n",
       "      <th>sex</th>\n",
       "      <th>usual_residance</th>\n",
       "      <th>age</th>\n",
       "      <th>religion</th>\n",
       "      <th>social_group_code</th>\n",
       "      <th>marital_status</th>\n",
       "      <th>currently_attending_school</th>\n",
       "      <th>reason_for_not_attending_school</th>\n",
       "      <th>...</th>\n",
       "      <th>is_water_pump</th>\n",
       "      <th>cart</th>\n",
       "      <th>land_possessed</th>\n",
       "      <th>residancial_status</th>\n",
       "      <th>iscoveredbyhealthscheme</th>\n",
       "      <th>healthscheme_1</th>\n",
       "      <th>healthscheme_2</th>\n",
       "      <th>housestatus</th>\n",
       "      <th>householdstatus</th>\n",
       "      <th>as_binned</th>\n",
       "    </tr>\n",
       "  </thead>\n",
       "  <tbody>\n",
       "    <tr>\n",
       "      <th>0</th>\n",
       "      <td>5</td>\n",
       "      <td>1</td>\n",
       "      <td>2</td>\n",
       "      <td>1.0</td>\n",
       "      <td>19.0</td>\n",
       "      <td>1.0</td>\n",
       "      <td>2.0</td>\n",
       "      <td>1.0</td>\n",
       "      <td>NaN</td>\n",
       "      <td>NaN</td>\n",
       "      <td>...</td>\n",
       "      <td>2.0</td>\n",
       "      <td>4.0</td>\n",
       "      <td>6.0</td>\n",
       "      <td>1.0</td>\n",
       "      <td>2.0</td>\n",
       "      <td>NaN</td>\n",
       "      <td>NaN</td>\n",
       "      <td>1.0</td>\n",
       "      <td>1.0</td>\n",
       "      <td>NaN</td>\n",
       "    </tr>\n",
       "    <tr>\n",
       "      <th>1</th>\n",
       "      <td>4</td>\n",
       "      <td>1</td>\n",
       "      <td>1</td>\n",
       "      <td>1.0</td>\n",
       "      <td>51.0</td>\n",
       "      <td>1.0</td>\n",
       "      <td>1.0</td>\n",
       "      <td>3.0</td>\n",
       "      <td>NaN</td>\n",
       "      <td>NaN</td>\n",
       "      <td>...</td>\n",
       "      <td>2.0</td>\n",
       "      <td>4.0</td>\n",
       "      <td>6.0</td>\n",
       "      <td>1.0</td>\n",
       "      <td>2.0</td>\n",
       "      <td>NaN</td>\n",
       "      <td>NaN</td>\n",
       "      <td>1.0</td>\n",
       "      <td>1.0</td>\n",
       "      <td>NaN</td>\n",
       "    </tr>\n",
       "    <tr>\n",
       "      <th>2</th>\n",
       "      <td>11</td>\n",
       "      <td>2</td>\n",
       "      <td>2</td>\n",
       "      <td>1.0</td>\n",
       "      <td>31.0</td>\n",
       "      <td>1.0</td>\n",
       "      <td>3.0</td>\n",
       "      <td>3.0</td>\n",
       "      <td>NaN</td>\n",
       "      <td>NaN</td>\n",
       "      <td>...</td>\n",
       "      <td>2.0</td>\n",
       "      <td>4.0</td>\n",
       "      <td>6.0</td>\n",
       "      <td>NaN</td>\n",
       "      <td>NaN</td>\n",
       "      <td>NaN</td>\n",
       "      <td>NaN</td>\n",
       "      <td>NaN</td>\n",
       "      <td>NaN</td>\n",
       "      <td>5.0</td>\n",
       "    </tr>\n",
       "    <tr>\n",
       "      <th>3</th>\n",
       "      <td>6</td>\n",
       "      <td>1</td>\n",
       "      <td>1</td>\n",
       "      <td>1.0</td>\n",
       "      <td>65.0</td>\n",
       "      <td>1.0</td>\n",
       "      <td>3.0</td>\n",
       "      <td>3.0</td>\n",
       "      <td>NaN</td>\n",
       "      <td>NaN</td>\n",
       "      <td>...</td>\n",
       "      <td>2.0</td>\n",
       "      <td>4.0</td>\n",
       "      <td>1.0</td>\n",
       "      <td>NaN</td>\n",
       "      <td>NaN</td>\n",
       "      <td>NaN</td>\n",
       "      <td>NaN</td>\n",
       "      <td>NaN</td>\n",
       "      <td>NaN</td>\n",
       "      <td>2.0</td>\n",
       "    </tr>\n",
       "    <tr>\n",
       "      <th>4</th>\n",
       "      <td>6</td>\n",
       "      <td>1</td>\n",
       "      <td>2</td>\n",
       "      <td>1.0</td>\n",
       "      <td>23.0</td>\n",
       "      <td>1.0</td>\n",
       "      <td>2.0</td>\n",
       "      <td>3.0</td>\n",
       "      <td>NaN</td>\n",
       "      <td>NaN</td>\n",
       "      <td>...</td>\n",
       "      <td>2.0</td>\n",
       "      <td>4.0</td>\n",
       "      <td>2.0</td>\n",
       "      <td>1.0</td>\n",
       "      <td>1.0</td>\n",
       "      <td>7.0</td>\n",
       "      <td>NaN</td>\n",
       "      <td>1.0</td>\n",
       "      <td>1.0</td>\n",
       "      <td>NaN</td>\n",
       "    </tr>\n",
       "  </tbody>\n",
       "</table>\n",
       "<p>5 rows × 57 columns</p>\n",
       "</div>"
      ],
      "text/plain": [
       "   district  rural  sex  usual_residance   age  religion  social_group_code  \\\n",
       "0         5      1    2              1.0  19.0       1.0                2.0   \n",
       "1         4      1    1              1.0  51.0       1.0                1.0   \n",
       "2        11      2    2              1.0  31.0       1.0                3.0   \n",
       "3         6      1    1              1.0  65.0       1.0                3.0   \n",
       "4         6      1    2              1.0  23.0       1.0                2.0   \n",
       "\n",
       "   marital_status  currently_attending_school  \\\n",
       "0             1.0                         NaN   \n",
       "1             3.0                         NaN   \n",
       "2             3.0                         NaN   \n",
       "3             3.0                         NaN   \n",
       "4             3.0                         NaN   \n",
       "\n",
       "   reason_for_not_attending_school    ...      is_water_pump  cart  \\\n",
       "0                              NaN    ...                2.0   4.0   \n",
       "1                              NaN    ...                2.0   4.0   \n",
       "2                              NaN    ...                2.0   4.0   \n",
       "3                              NaN    ...                2.0   4.0   \n",
       "4                              NaN    ...                2.0   4.0   \n",
       "\n",
       "   land_possessed  residancial_status  iscoveredbyhealthscheme  \\\n",
       "0             6.0                 1.0                      2.0   \n",
       "1             6.0                 1.0                      2.0   \n",
       "2             6.0                 NaN                      NaN   \n",
       "3             1.0                 NaN                      NaN   \n",
       "4             2.0                 1.0                      1.0   \n",
       "\n",
       "   healthscheme_1  healthscheme_2  housestatus  householdstatus  as_binned  \n",
       "0             NaN             NaN          1.0              1.0        NaN  \n",
       "1             NaN             NaN          1.0              1.0        NaN  \n",
       "2             NaN             NaN          NaN              NaN        5.0  \n",
       "3             NaN             NaN          NaN              NaN        2.0  \n",
       "4             7.0             NaN          1.0              1.0        NaN  \n",
       "\n",
       "[5 rows x 57 columns]"
      ]
     },
     "execution_count": 55,
     "metadata": {},
     "output_type": "execute_result"
    }
   ],
   "source": [
    "one.head()"
   ]
  },
  {
   "cell_type": "code",
   "execution_count": 56,
   "metadata": {
    "collapsed": true
   },
   "outputs": [],
   "source": [
    "one_hot = one_hot_df(one)"
   ]
  },
  {
   "cell_type": "code",
   "execution_count": 57,
   "metadata": {
    "collapsed": false
   },
   "outputs": [
    {
     "data": {
      "text/plain": [
       "(31608, 301)"
      ]
     },
     "execution_count": 57,
     "metadata": {},
     "output_type": "execute_result"
    }
   ],
   "source": [
    "one_hot.shape"
   ]
  },
  {
   "cell_type": "code",
   "execution_count": 58,
   "metadata": {
    "collapsed": true
   },
   "outputs": [],
   "source": [
    "two = pd.DataFrame(np.array_split(diagnosed_data, 5)[1])\n",
    "three = pd.DataFrame(np.array_split(diagnosed_data, 5)[2])\n",
    "four = pd.DataFrame(np.array_split(diagnosed_data, 5)[3])\n",
    "five = pd.DataFrame(np.array_split(diagnosed_data, 5)[4])"
   ]
  },
  {
   "cell_type": "code",
   "execution_count": 60,
   "metadata": {
    "collapsed": true
   },
   "outputs": [],
   "source": [
    "two_hot = one_hot_df(two)\n",
    "three_hot = one_hot_df(three)\n",
    "four_hot = one_hot_df(four)\n",
    "five_hot = one_hot_df(five)"
   ]
  },
  {
   "cell_type": "code",
   "execution_count": 61,
   "metadata": {
    "collapsed": false
   },
   "outputs": [
    {
     "data": {
      "text/plain": [
       "(31607, 301)"
      ]
     },
     "execution_count": 61,
     "metadata": {},
     "output_type": "execute_result"
    }
   ],
   "source": [
    "two_hot.shape"
   ]
  },
  {
   "cell_type": "code",
   "execution_count": 75,
   "metadata": {
    "collapsed": false
   },
   "outputs": [
    {
     "data": {
      "text/plain": [
       "{'healthscheme_2_4.0', 'housestatus_3.0'}"
      ]
     },
     "execution_count": 75,
     "metadata": {},
     "output_type": "execute_result"
    }
   ],
   "source": [
    "# set(three_hot).intersection(two_hot)\n",
    "set(list(three_hot)) - set(list(four_hot))"
   ]
  },
  {
   "cell_type": "code",
   "execution_count": 62,
   "metadata": {
    "collapsed": false
   },
   "outputs": [
    {
     "data": {
      "text/plain": [
       "(31607, 302)"
      ]
     },
     "execution_count": 62,
     "metadata": {},
     "output_type": "execute_result"
    }
   ],
   "source": [
    "three_hot.shape"
   ]
  },
  {
   "cell_type": "code",
   "execution_count": 63,
   "metadata": {
    "collapsed": false
   },
   "outputs": [
    {
     "data": {
      "text/plain": [
       "(31607, 300)"
      ]
     },
     "execution_count": 63,
     "metadata": {},
     "output_type": "execute_result"
    }
   ],
   "source": [
    "four_hot.shape"
   ]
  },
  {
   "cell_type": "code",
   "execution_count": 64,
   "metadata": {
    "collapsed": false
   },
   "outputs": [
    {
     "data": {
      "text/plain": [
       "(31607, 302)"
      ]
     },
     "execution_count": 64,
     "metadata": {},
     "output_type": "execute_result"
    }
   ],
   "source": [
    "five_hot.shape"
   ]
  },
  {
   "cell_type": "code",
   "execution_count": 78,
   "metadata": {
    "collapsed": false
   },
   "outputs": [],
   "source": [
    "total = list()\n",
    "total.append(one_hot)\n",
    "total.append(two_hot)\n",
    "total.append(three_hot)\n",
    "total.append(four_hot)\n",
    "total.append(five_hot)\n",
    "result = pd.concat(total)"
   ]
  },
  {
   "cell_type": "code",
   "execution_count": 79,
   "metadata": {
    "collapsed": false
   },
   "outputs": [
    {
     "data": {
      "text/plain": [
       "(158036, 302)"
      ]
     },
     "execution_count": 79,
     "metadata": {},
     "output_type": "execute_result"
    }
   ],
   "source": [
    "result.shape"
   ]
  },
  {
   "cell_type": "code",
   "execution_count": 76,
   "metadata": {
    "collapsed": false
   },
   "outputs": [
    {
     "name": "stdout",
     "output_type": "stream",
     "text": [
      "<class 'pandas.core.frame.DataFrame'>\n",
      "Int64Index: 158036 entries, 0 to 158035\n",
      "Columns: 302 entries, age to water_filteration_8.0\n",
      "dtypes: float64(3), int64(1), uint8(298)\n",
      "memory usage: 11.4 MB\n"
     ]
    }
   ],
   "source": [
    "result.info()"
   ]
  },
  {
   "cell_type": "code",
   "execution_count": null,
   "metadata": {
    "collapsed": true
   },
   "outputs": [],
   "source": []
  },
  {
   "cell_type": "code",
   "execution_count": 68,
   "metadata": {
    "collapsed": false,
    "scrolled": true
   },
   "outputs": [],
   "source": [
    "result = pd.DataFrame(result)"
   ]
  },
  {
   "cell_type": "code",
   "execution_count": 70,
   "metadata": {
    "collapsed": false
   },
   "outputs": [
    {
     "data": {
      "text/html": [
       "<div>\n",
       "<table border=\"1\" class=\"dataframe\">\n",
       "  <thead>\n",
       "    <tr style=\"text-align: right;\">\n",
       "      <th></th>\n",
       "      <th>age</th>\n",
       "      <th>alcohol_1.0</th>\n",
       "      <th>alcohol_2.0</th>\n",
       "      <th>alcohol_3.0</th>\n",
       "      <th>alcohol_4.0</th>\n",
       "      <th>as_binned_1.0</th>\n",
       "      <th>as_binned_2.0</th>\n",
       "      <th>as_binned_3.0</th>\n",
       "      <th>as_binned_4.0</th>\n",
       "      <th>as_binned_5.0</th>\n",
       "      <th>...</th>\n",
       "      <th>treatment_source_99.0</th>\n",
       "      <th>usual_residance_1.0</th>\n",
       "      <th>water_filteration_1.0</th>\n",
       "      <th>water_filteration_2.0</th>\n",
       "      <th>water_filteration_3.0</th>\n",
       "      <th>water_filteration_4.0</th>\n",
       "      <th>water_filteration_5.0</th>\n",
       "      <th>water_filteration_6.0</th>\n",
       "      <th>water_filteration_7.0</th>\n",
       "      <th>water_filteration_8.0</th>\n",
       "    </tr>\n",
       "  </thead>\n",
       "  <tbody>\n",
       "    <tr>\n",
       "      <th>0</th>\n",
       "      <td>19.0</td>\n",
       "      <td>0</td>\n",
       "      <td>0</td>\n",
       "      <td>0</td>\n",
       "      <td>1</td>\n",
       "      <td>0</td>\n",
       "      <td>0</td>\n",
       "      <td>0</td>\n",
       "      <td>0</td>\n",
       "      <td>0</td>\n",
       "      <td>...</td>\n",
       "      <td>0</td>\n",
       "      <td>1</td>\n",
       "      <td>0</td>\n",
       "      <td>0</td>\n",
       "      <td>0</td>\n",
       "      <td>0</td>\n",
       "      <td>0</td>\n",
       "      <td>0</td>\n",
       "      <td>0</td>\n",
       "      <td>0</td>\n",
       "    </tr>\n",
       "    <tr>\n",
       "      <th>1</th>\n",
       "      <td>51.0</td>\n",
       "      <td>0</td>\n",
       "      <td>1</td>\n",
       "      <td>0</td>\n",
       "      <td>0</td>\n",
       "      <td>0</td>\n",
       "      <td>0</td>\n",
       "      <td>0</td>\n",
       "      <td>0</td>\n",
       "      <td>0</td>\n",
       "      <td>...</td>\n",
       "      <td>0</td>\n",
       "      <td>1</td>\n",
       "      <td>0</td>\n",
       "      <td>0</td>\n",
       "      <td>0</td>\n",
       "      <td>0</td>\n",
       "      <td>0</td>\n",
       "      <td>0</td>\n",
       "      <td>0</td>\n",
       "      <td>0</td>\n",
       "    </tr>\n",
       "    <tr>\n",
       "      <th>2</th>\n",
       "      <td>31.0</td>\n",
       "      <td>0</td>\n",
       "      <td>0</td>\n",
       "      <td>0</td>\n",
       "      <td>1</td>\n",
       "      <td>0</td>\n",
       "      <td>0</td>\n",
       "      <td>0</td>\n",
       "      <td>0</td>\n",
       "      <td>1</td>\n",
       "      <td>...</td>\n",
       "      <td>0</td>\n",
       "      <td>1</td>\n",
       "      <td>0</td>\n",
       "      <td>0</td>\n",
       "      <td>0</td>\n",
       "      <td>1</td>\n",
       "      <td>0</td>\n",
       "      <td>0</td>\n",
       "      <td>0</td>\n",
       "      <td>0</td>\n",
       "    </tr>\n",
       "    <tr>\n",
       "      <th>3</th>\n",
       "      <td>65.0</td>\n",
       "      <td>0</td>\n",
       "      <td>1</td>\n",
       "      <td>0</td>\n",
       "      <td>0</td>\n",
       "      <td>0</td>\n",
       "      <td>1</td>\n",
       "      <td>0</td>\n",
       "      <td>0</td>\n",
       "      <td>0</td>\n",
       "      <td>...</td>\n",
       "      <td>0</td>\n",
       "      <td>1</td>\n",
       "      <td>0</td>\n",
       "      <td>0</td>\n",
       "      <td>0</td>\n",
       "      <td>0</td>\n",
       "      <td>0</td>\n",
       "      <td>0</td>\n",
       "      <td>0</td>\n",
       "      <td>0</td>\n",
       "    </tr>\n",
       "    <tr>\n",
       "      <th>4</th>\n",
       "      <td>23.0</td>\n",
       "      <td>0</td>\n",
       "      <td>0</td>\n",
       "      <td>0</td>\n",
       "      <td>1</td>\n",
       "      <td>0</td>\n",
       "      <td>0</td>\n",
       "      <td>0</td>\n",
       "      <td>0</td>\n",
       "      <td>0</td>\n",
       "      <td>...</td>\n",
       "      <td>0</td>\n",
       "      <td>1</td>\n",
       "      <td>0</td>\n",
       "      <td>0</td>\n",
       "      <td>0</td>\n",
       "      <td>0</td>\n",
       "      <td>0</td>\n",
       "      <td>0</td>\n",
       "      <td>0</td>\n",
       "      <td>0</td>\n",
       "    </tr>\n",
       "  </tbody>\n",
       "</table>\n",
       "<p>5 rows × 302 columns</p>\n",
       "</div>"
      ],
      "text/plain": [
       "    age  alcohol_1.0  alcohol_2.0  alcohol_3.0  alcohol_4.0  as_binned_1.0  \\\n",
       "0  19.0            0            0            0            1              0   \n",
       "1  51.0            0            1            0            0              0   \n",
       "2  31.0            0            0            0            1              0   \n",
       "3  65.0            0            1            0            0              0   \n",
       "4  23.0            0            0            0            1              0   \n",
       "\n",
       "   as_binned_2.0  as_binned_3.0  as_binned_4.0  as_binned_5.0  \\\n",
       "0              0              0              0              0   \n",
       "1              0              0              0              0   \n",
       "2              0              0              0              1   \n",
       "3              1              0              0              0   \n",
       "4              0              0              0              0   \n",
       "\n",
       "           ...            treatment_source_99.0  usual_residance_1.0  \\\n",
       "0          ...                                0                    1   \n",
       "1          ...                                0                    1   \n",
       "2          ...                                0                    1   \n",
       "3          ...                                0                    1   \n",
       "4          ...                                0                    1   \n",
       "\n",
       "   water_filteration_1.0  water_filteration_2.0  water_filteration_3.0  \\\n",
       "0                      0                      0                      0   \n",
       "1                      0                      0                      0   \n",
       "2                      0                      0                      0   \n",
       "3                      0                      0                      0   \n",
       "4                      0                      0                      0   \n",
       "\n",
       "   water_filteration_4.0  water_filteration_5.0  water_filteration_6.0  \\\n",
       "0                      0                      0                      0   \n",
       "1                      0                      0                      0   \n",
       "2                      1                      0                      0   \n",
       "3                      0                      0                      0   \n",
       "4                      0                      0                      0   \n",
       "\n",
       "   water_filteration_7.0  water_filteration_8.0  \n",
       "0                      0                      0  \n",
       "1                      0                      0  \n",
       "2                      0                      0  \n",
       "3                      0                      0  \n",
       "4                      0                      0  \n",
       "\n",
       "[5 rows x 302 columns]"
      ]
     },
     "execution_count": 70,
     "metadata": {},
     "output_type": "execute_result"
    }
   ],
   "source": [
    "result.head()"
   ]
  },
  {
   "cell_type": "code",
   "execution_count": 69,
   "metadata": {
    "collapsed": false
   },
   "outputs": [
    {
     "data": {
      "text/plain": [
       "126429"
      ]
     },
     "execution_count": 69,
     "metadata": {},
     "output_type": "execute_result"
    }
   ],
   "source": [
    "result.isnull().sum().sum()"
   ]
  },
  {
   "cell_type": "code",
   "execution_count": null,
   "metadata": {
    "collapsed": true
   },
   "outputs": [],
   "source": []
  },
  {
   "cell_type": "code",
   "execution_count": null,
   "metadata": {
    "collapsed": true
   },
   "outputs": [],
   "source": []
  },
  {
   "cell_type": "code",
   "execution_count": 19,
   "metadata": {
    "collapsed": true
   },
   "outputs": [],
   "source": [
    "bb = diagnosed_data.fillna(0)"
   ]
  },
  {
   "cell_type": "code",
   "execution_count": 24,
   "metadata": {
    "collapsed": true
   },
   "outputs": [
    {
     "data": {
      "text/html": [
       "<div>\n",
       "<table border=\"1\" class=\"dataframe\">\n",
       "  <thead>\n",
       "    <tr style=\"text-align: right;\">\n",
       "      <th></th>\n",
       "      <th>Unnamed: 0</th>\n",
       "      <th>district</th>\n",
       "      <th>rural</th>\n",
       "      <th>psu_id</th>\n",
       "      <th>house_no</th>\n",
       "      <th>sex</th>\n",
       "      <th>usual_residance</th>\n",
       "      <th>age</th>\n",
       "      <th>religion</th>\n",
       "      <th>social_group_code</th>\n",
       "      <th>...</th>\n",
       "      <th>is_water_pump</th>\n",
       "      <th>cart</th>\n",
       "      <th>land_possessed</th>\n",
       "      <th>residancial_status</th>\n",
       "      <th>iscoveredbyhealthscheme</th>\n",
       "      <th>healthscheme_1</th>\n",
       "      <th>healthscheme_2</th>\n",
       "      <th>housestatus</th>\n",
       "      <th>householdstatus</th>\n",
       "      <th>as_binned</th>\n",
       "    </tr>\n",
       "  </thead>\n",
       "  <tbody>\n",
       "    <tr>\n",
       "      <th>0</th>\n",
       "      <td>2214686</td>\n",
       "      <td>4</td>\n",
       "      <td>2</td>\n",
       "      <td>157502641</td>\n",
       "      <td>53</td>\n",
       "      <td>1</td>\n",
       "      <td>1.0</td>\n",
       "      <td>14.0</td>\n",
       "      <td>1.0</td>\n",
       "      <td>3.0</td>\n",
       "      <td>...</td>\n",
       "      <td>2.0</td>\n",
       "      <td>4.0</td>\n",
       "      <td>6.0</td>\n",
       "      <td>1.0</td>\n",
       "      <td>1.0</td>\n",
       "      <td>2.0</td>\n",
       "      <td>0.0</td>\n",
       "      <td>1.0</td>\n",
       "      <td>1.0</td>\n",
       "      <td>0.0</td>\n",
       "    </tr>\n",
       "    <tr>\n",
       "      <th>1</th>\n",
       "      <td>2790098</td>\n",
       "      <td>5</td>\n",
       "      <td>1</td>\n",
       "      <td>157951458</td>\n",
       "      <td>33</td>\n",
       "      <td>1</td>\n",
       "      <td>1.0</td>\n",
       "      <td>33.0</td>\n",
       "      <td>1.0</td>\n",
       "      <td>2.0</td>\n",
       "      <td>...</td>\n",
       "      <td>2.0</td>\n",
       "      <td>4.0</td>\n",
       "      <td>2.0</td>\n",
       "      <td>0.0</td>\n",
       "      <td>0.0</td>\n",
       "      <td>0.0</td>\n",
       "      <td>0.0</td>\n",
       "      <td>0.0</td>\n",
       "      <td>0.0</td>\n",
       "      <td>3.0</td>\n",
       "    </tr>\n",
       "    <tr>\n",
       "      <th>2</th>\n",
       "      <td>1644600</td>\n",
       "      <td>7</td>\n",
       "      <td>1</td>\n",
       "      <td>158410905</td>\n",
       "      <td>264</td>\n",
       "      <td>2</td>\n",
       "      <td>1.0</td>\n",
       "      <td>55.0</td>\n",
       "      <td>1.0</td>\n",
       "      <td>3.0</td>\n",
       "      <td>...</td>\n",
       "      <td>2.0</td>\n",
       "      <td>4.0</td>\n",
       "      <td>1.0</td>\n",
       "      <td>1.0</td>\n",
       "      <td>1.0</td>\n",
       "      <td>2.0</td>\n",
       "      <td>0.0</td>\n",
       "      <td>1.0</td>\n",
       "      <td>1.0</td>\n",
       "      <td>0.0</td>\n",
       "    </tr>\n",
       "    <tr>\n",
       "      <th>3</th>\n",
       "      <td>2933732</td>\n",
       "      <td>9</td>\n",
       "      <td>2</td>\n",
       "      <td>158788315</td>\n",
       "      <td>38</td>\n",
       "      <td>1</td>\n",
       "      <td>1.0</td>\n",
       "      <td>60.0</td>\n",
       "      <td>2.0</td>\n",
       "      <td>3.0</td>\n",
       "      <td>...</td>\n",
       "      <td>2.0</td>\n",
       "      <td>4.0</td>\n",
       "      <td>6.0</td>\n",
       "      <td>0.0</td>\n",
       "      <td>0.0</td>\n",
       "      <td>0.0</td>\n",
       "      <td>0.0</td>\n",
       "      <td>0.0</td>\n",
       "      <td>0.0</td>\n",
       "      <td>5.0</td>\n",
       "    </tr>\n",
       "    <tr>\n",
       "      <th>4</th>\n",
       "      <td>2254437</td>\n",
       "      <td>6</td>\n",
       "      <td>2</td>\n",
       "      <td>158275760</td>\n",
       "      <td>99</td>\n",
       "      <td>2</td>\n",
       "      <td>1.0</td>\n",
       "      <td>32.0</td>\n",
       "      <td>1.0</td>\n",
       "      <td>2.0</td>\n",
       "      <td>...</td>\n",
       "      <td>2.0</td>\n",
       "      <td>4.0</td>\n",
       "      <td>6.0</td>\n",
       "      <td>1.0</td>\n",
       "      <td>1.0</td>\n",
       "      <td>7.0</td>\n",
       "      <td>0.0</td>\n",
       "      <td>1.0</td>\n",
       "      <td>1.0</td>\n",
       "      <td>0.0</td>\n",
       "    </tr>\n",
       "  </tbody>\n",
       "</table>\n",
       "<p>5 rows × 60 columns</p>\n",
       "</div>"
      ],
      "text/plain": [
       "   Unnamed: 0  district  rural     psu_id  house_no  sex  usual_residance  \\\n",
       "0     2214686         4      2  157502641        53    1              1.0   \n",
       "1     2790098         5      1  157951458        33    1              1.0   \n",
       "2     1644600         7      1  158410905       264    2              1.0   \n",
       "3     2933732         9      2  158788315        38    1              1.0   \n",
       "4     2254437         6      2  158275760        99    2              1.0   \n",
       "\n",
       "    age  religion  social_group_code    ...      is_water_pump  cart  \\\n",
       "0  14.0       1.0                3.0    ...                2.0   4.0   \n",
       "1  33.0       1.0                2.0    ...                2.0   4.0   \n",
       "2  55.0       1.0                3.0    ...                2.0   4.0   \n",
       "3  60.0       2.0                3.0    ...                2.0   4.0   \n",
       "4  32.0       1.0                2.0    ...                2.0   4.0   \n",
       "\n",
       "   land_possessed  residancial_status  iscoveredbyhealthscheme  \\\n",
       "0             6.0                 1.0                      1.0   \n",
       "1             2.0                 0.0                      0.0   \n",
       "2             1.0                 1.0                      1.0   \n",
       "3             6.0                 0.0                      0.0   \n",
       "4             6.0                 1.0                      1.0   \n",
       "\n",
       "   healthscheme_1  healthscheme_2  housestatus  householdstatus  as_binned  \n",
       "0             2.0             0.0          1.0              1.0        0.0  \n",
       "1             0.0             0.0          0.0              0.0        3.0  \n",
       "2             2.0             0.0          1.0              1.0        0.0  \n",
       "3             0.0             0.0          0.0              0.0        5.0  \n",
       "4             7.0             0.0          1.0              1.0        0.0  \n",
       "\n",
       "[5 rows x 60 columns]"
      ]
     },
     "execution_count": 24,
     "metadata": {},
     "output_type": "execute_result"
    }
   ],
   "source": [
    "bb.head()"
   ]
  },
  {
   "cell_type": "code",
   "execution_count": null,
   "metadata": {
    "collapsed": true
   },
   "outputs": [],
   "source": [
    "cc = one_hot_df(bb)"
   ]
  },
  {
   "cell_type": "code",
   "execution_count": null,
   "metadata": {
    "collapsed": true
   },
   "outputs": [],
   "source": [
    "cc.info()"
   ]
  },
  {
   "cell_type": "code",
   "execution_count": 22,
   "metadata": {
    "collapsed": false,
    "scrolled": false
   },
   "outputs": [],
   "source": [
    "enc.fit(bb)\n",
    "b = enc.transform(bb).toarray()"
   ]
  },
  {
   "cell_type": "code",
   "execution_count": 23,
   "metadata": {
    "collapsed": false
   },
   "outputs": [
    {
     "data": {
      "text/plain": [
       "(158036, 317435)"
      ]
     },
     "execution_count": 23,
     "metadata": {},
     "output_type": "execute_result"
    }
   ],
   "source": [
    "b.shape"
   ]
  },
  {
   "cell_type": "code",
   "execution_count": null,
   "metadata": {
    "collapsed": false
   },
   "outputs": [
    {
     "name": "stdout",
     "output_type": "stream",
     "text": [
      "One Hot Encoding Data\n"
     ]
    }
   ],
   "source": [
    "print('One Hot Encoding Data')\n",
    "# One - Hot encoding for the data\n",
    "diagnosed_data = one_hot_df(diagnosed_data)"
   ]
  },
  {
   "cell_type": "code",
   "execution_count": null,
   "metadata": {
    "collapsed": true
   },
   "outputs": [],
   "source": [
    "diagnosed_data.info()"
   ]
  },
  {
   "cell_type": "code",
   "execution_count": null,
   "metadata": {
    "collapsed": true
   },
   "outputs": [],
   "source": [
    "print('Saving One-Hot Columns to data/22_COMB_diag_hotData.csv')\n",
    "diagnosed_data.to_csv(data_path + '22_COMB_diag_hotData.csv')\n",
    "del diagnosed_data\n",
    "\n",
    "print('------------------------------------------------------')\n",
    "print('    ')"
   ]
  },
  {
   "cell_type": "code",
   "execution_count": null,
   "metadata": {
    "collapsed": true
   },
   "outputs": [],
   "source": [
    "################### PART - 3 : Apply Machine Learning on the data ###################\n",
    "#####################################################################################\n",
    "\n",
    "print('PART - 3 : Applying Machine Learning on the data')\n",
    "\n",
    "diagnosed_data = pd.read_csv(data_path + '22_COMB_diag_hotData.csv', low_memory=False)\n",
    "diagnosed_col = pd.read_csv(data_path + '22_COMB_diag_col.csv', low_memory=False)\n",
    "\n",
    "assert (diagnosed_data.shape[0] == diagnosed_col.shape[0])\n",
    "split_index = int(diagnosed_data.shape[0] * 0.85)\n",
    "\n",
    "print('   ')\n",
    "print('Splitting train and test data in ratio 85:15')\n",
    "train_data = np.array(diagnosed_data.astype(float))[:split_index]\n",
    "train_label = np.array(diagnosed_col.astype(float))[:split_index][:,0]\n",
    "\n",
    "test_data = np.array(diagnosed_data.astype(float))[split_index:]\n",
    "test_label = np.array(diagnosed_col.astype(float))[split_index:][:,0]\n",
    "\n",
    "# Replace Label No 99 by 32\n",
    "# Label No 99 causes 'to_categorical' to make 100 one-hot values\n",
    "# Replacing it by 33 leads to only 33 values\n",
    "def replace_99_labes(label_data):\n",
    "\tlabel_list = list()\n",
    "\tfor i in range(len(label_data)):\n",
    "\t\tif label_data[i] == 99.0 :\n",
    "\t\t\tlabel_data[i] = 32.0\n",
    "\n",
    "\treturn label_data\n",
    "\n",
    "train_label = to_categorical(replace_99_labes(train_label).astype('int32'), nb_classes=None)\n",
    "test_label = to_categorical(replace_99_labes(test_label).astype('int32'), nb_classes=None)\n",
    "\n",
    "# Fully-Connected Neural network with 4 Hidden layers\n",
    "model = Sequential()\n",
    "# Input Layer\n",
    "model.add(Dense(1000, input_dim=1208, init='uniform'))\n",
    "model.add(Activation('relu'))\n",
    "model.add(Dropout(0.5))\n",
    "# Hidden Layer - 1\n",
    "model.add(Dense(750, init='uniform'))\n",
    "model.add(Activation('relu'))\n",
    "model.add(Dropout(0.5))\n",
    "# Hidden Layer - 2\n",
    "model.add(Dense(500, init='uniform'))\n",
    "model.add(Activation('relu'))\n",
    "model.add(Dropout(0.5))\n",
    "# Hidden Layer - 3\n",
    "model.add(Dense(250, init='uniform'))\n",
    "model.add(Activation('relu'))\n",
    "model.add(Dropout(0.5))\n",
    "# Hidden Layer - 4\n",
    "model.add(Dense(100, init='uniform'))\n",
    "model.add(Activation('relu'))\n",
    "model.add(Dropout(0.5))\n",
    "# Output Layer\n",
    "model.add(Dense(33, init='uniform'))\n",
    "model.add(Activation('softmax'))\n",
    "\n",
    "sgd = SGD(lr=0.001, decay=1e-6, momentum=0.9, nesterov=True)\n",
    "model.compile(loss='categorical_crossentropy',\n",
    "              optimizer=sgd,\n",
    "              metrics=['accuracy'])\n",
    "\n",
    "\n",
    "# model.fit(train_data, categorical_labels,\n",
    "#           nb_epoch=2000,\n",
    "#           batch_size=128)\n",
    "\n",
    "model.evaluate(test_data, to_categorical(test_label.astype('int32'), nb_classes=None))"
   ]
  },
  {
   "cell_type": "code",
   "execution_count": null,
   "metadata": {
    "collapsed": true
   },
   "outputs": [],
   "source": []
  },
  {
   "cell_type": "code",
   "execution_count": null,
   "metadata": {
    "collapsed": true
   },
   "outputs": [],
   "source": []
  },
  {
   "cell_type": "code",
   "execution_count": null,
   "metadata": {
    "collapsed": true
   },
   "outputs": [],
   "source": []
  },
  {
   "cell_type": "code",
   "execution_count": null,
   "metadata": {
    "collapsed": true
   },
   "outputs": [],
   "source": []
  },
  {
   "cell_type": "code",
   "execution_count": null,
   "metadata": {
    "collapsed": true
   },
   "outputs": [],
   "source": []
  },
  {
   "cell_type": "code",
   "execution_count": null,
   "metadata": {
    "collapsed": true
   },
   "outputs": [],
   "source": []
  },
  {
   "cell_type": "code",
   "execution_count": null,
   "metadata": {
    "collapsed": true
   },
   "outputs": [],
   "source": []
  },
  {
   "cell_type": "code",
   "execution_count": 80,
   "metadata": {
    "collapsed": true
   },
   "outputs": [],
   "source": [
    "import pandas as pd\n",
    "import numpy as np\n",
    "import h5py\n",
    "import matplotlib.pyplot as plt\n",
    "import tensorflow as tf\n",
    "import math\n",
    "\n",
    "def get_sheet_field_names(excel_workbook, sheet_name) :\n",
    "    # Start from row 3, as initial 2 rows contain no info\n",
    "    sheet = excel_workbook.parse(sheet_name, skiprows=2, na_values=['NA'])\n",
    "    # Find index of 'NOTES:' in 1st cloumn and delete all rows below it\n",
    "    notes_index = sheet.loc[sheet['Field Order'] == \"NOTES:\"].index.tolist()[0]\n",
    "    sheet = sheet.ix[1 : notes_index - 1]\n",
    "    \n",
    "    # select column 2,3 and 4 (Filed name, Description and Codes used)\n",
    "    sheet = sheet[[1,2,3]]\n",
    "    # Remove <NaN> from Field Names\n",
    "    sheet = sheet.dropna(subset=[list(sheet)[0]])\n",
    "    \n",
    "    # Selecting Non-Yellow field names\n",
    "    # Dropping <NaN> from Field Descriptions and Codes Used\n",
    "    sheet_non_yellow = sheet.dropna(subset=[list(sheet)[1], list(sheet)[2]])\n",
    "    \n",
    "    # Selecting 'None' and Non-'None' Codes used\n",
    "    sheet_code_not_none = sheet_non_yellow[sheet_non_yellow['Codes Used'] != \"None\"]\n",
    "    sheet_code_none = sheet_non_yellow[sheet_non_yellow['Codes Used'] == \"None\"]\n",
    "    \n",
    "    # Convert all 'Field Names' to list()\n",
    "    sheet_all = sheet['Field Name'].tolist()\n",
    "    sheet_non_yellow = sheet_non_yellow['Field Name'].tolist()\n",
    "    sheet_yellow = list(set(sheet_all) - set(sheet_non_yellow))\n",
    "    sheet_code_not_none = sheet_code_not_none['Field Name'].tolist()\n",
    "    sheet_code_none = sheet_code_none['Field Name'].tolist()\n",
    "    \n",
    "    # Output in form of list() of lists()\n",
    "    output = list()\n",
    "    output.append(sheet_yellow)\n",
    "    output.append(sheet_non_yellow)\n",
    "    output.append(sheet_all)\n",
    "    output.append(sheet_code_none)\n",
    "    output.append(sheet_code_not_none)\n",
    "    # output = list[sheet_yellow, sheet_non_yellow, sheet_all, sheet_code_none, sheet_code_not_none]\n",
    "    \n",
    "    return(output)\n",
    "\n",
    "def lowercase_32Char(list_):\n",
    "    list_1 = [x.lower() for x in list_]\n",
    "    list_2 = [x[0:32] for x in list_1]\n",
    "    return (list_2)\n",
    "\n",
    "def lowercase_32Char_list(field_list) :\n",
    "    # Field names in CSV files are max upto 32 characters\n",
    "    # and all small letters\n",
    "    l = len(field_list)\n",
    "    sol = list()\n",
    "    \n",
    "    for field in field_list:\n",
    "        sol.append(lowercase_32Char(field))\n",
    "    \n",
    "    return(sol)\n",
    "\n",
    "# Remove yellow fields from the data frame\n",
    "def remove_yellow_fields(data_frame, yellow_field_list) :\n",
    "    df_col_names = list(data_frame)\n",
    "    \n",
    "    drop_col = list()\n",
    "    for yellow in yellow_field_list :\n",
    "        if yellow in df_col_names :\n",
    "            drop_col.append(yellow)\n",
    "            \n",
    "    df = data_frame.drop(drop_col, axis=1)\n",
    "    \n",
    "    if 'id' in list(df) :\n",
    "        df = df.drop(['id'], axis=1)\n",
    "    \n",
    "    return df\n",
    "\n",
    "def sort_dataset_state_dist_house(data_frame) :\n",
    "    return (data_frame.sort(['state', 'district', 'house_no', 'house_hold_no'])).reset_index(drop=True)\n",
    "\n",
    "\n",
    "# AHS_struct_workbook = pd.ExcelFile(\"Data_structure_AHS.xlsx\")\n",
    "# AHS_struct_sheets_names = AHS_struct_workbook.sheet_names\n",
    "\n",
    "# comb_field_list = lowercase_32Char_list(get_sheet_field_names(AHS_struct_workbook, \"COMB\"))\n",
    "\n",
    "# data_clean = remove_yellow_fields(data, comb_field_list[0])\n",
    "# data_clean_sorted = sort_dataset_state_dist_house(data_clean)\n",
    "\n",
    "# data_clean_sorted.to_csv('22_AHS_COMB_Clean_Sorted.csv')"
   ]
  },
  {
   "cell_type": "code",
   "execution_count": 81,
   "metadata": {
    "collapsed": true
   },
   "outputs": [],
   "source": [
    "AHS_struct_workbook = pd.ExcelFile(data_path + \"Data_structure_AHS.xlsx\")\n",
    "AHS_struct_sheets_names = AHS_struct_workbook.sheet_names"
   ]
  },
  {
   "cell_type": "code",
   "execution_count": 82,
   "metadata": {
    "collapsed": false
   },
   "outputs": [
    {
     "name": "stderr",
     "output_type": "stream",
     "text": [
      "//anaconda/lib/python2.7/site-packages/IPython/core/interactiveshell.py:2717: DtypeWarning: Columns (49) have mixed types. Specify dtype option on import or set low_memory=False.\n",
      "  interactivity=interactivity, compiler=compiler, result=result)\n"
     ]
    }
   ],
   "source": [
    "comb_field_list = lowercase_32Char_list(get_sheet_field_names(AHS_struct_workbook, \"COMB\"))\n",
    "AHS_comb = pd.read_csv(data_path + \"22_AHS_COMB.csv\", sep=\"|\")"
   ]
  },
  {
   "cell_type": "code",
   "execution_count": 83,
   "metadata": {
    "collapsed": true
   },
   "outputs": [
    {
     "name": "stdout",
     "output_type": "stream",
     "text": [
      "<class 'pandas.core.frame.DataFrame'>\n",
      "RangeIndex: 4155187 entries, 0 to 4155186\n",
      "Data columns (total 99 columns):\n",
      "hh_id                              float64\n",
      "client_hh_id                       float64\n",
      "hl_id                              float64\n",
      "state                              int64\n",
      "district                           int64\n",
      "rural                              int64\n",
      "stratum_code                       int64\n",
      "psu_id                             int64\n",
      "house_no                           int64\n",
      "house_hold_no                      int64\n",
      "currently_dead_or_out_migrated     float64\n",
      "hh_serial_no                       int64\n",
      "sex                                int64\n",
      "usual_residance                    float64\n",
      "relation_to_head                   float64\n",
      "member_identity                    float64\n",
      "father_serial_no                   float64\n",
      "mother_serial_no                   float64\n",
      "date_of_birth                      float64\n",
      "month_of_birth                     float64\n",
      "year_of_birth                      float64\n",
      "age                                float64\n",
      "religion                           float64\n",
      "social_group_code                  float64\n",
      "marital_status                     float64\n",
      "date_of_marriage                   float64\n",
      "month_of_marriage                  float64\n",
      "year_of_marriage                   float64\n",
      "currently_attending_school         float64\n",
      "reason_for_not_attending_school    float64\n",
      "highest_qualification              float64\n",
      "occupation_status                  float64\n",
      "disability_status                  float64\n",
      "injury_treatment_type              float64\n",
      "illness_type                       float64\n",
      "treatment_source                   float64\n",
      "symptoms_pertaining_illness        float64\n",
      "sought_medical_care                float64\n",
      "diagnosed_for                      float64\n",
      "diagnosis_source                   float64\n",
      "regular_treatment                  float64\n",
      "regular_treatment_source           float64\n",
      "chew                               float64\n",
      "smoke                              float64\n",
      "alcohol                            float64\n",
      "status                             float64\n",
      "hh_expall_status                   float64\n",
      "client_hl_id                       float64\n",
      "serial_no                          float64\n",
      "building_no                        object\n",
      "house_status                       float64\n",
      "house_structure                    float64\n",
      "owner_status                       float64\n",
      "drinking_water_source              float64\n",
      "is_water_filter                    float64\n",
      "water_filteration                  float64\n",
      "toilet_used                        float64\n",
      "is_toilet_shared                   float64\n",
      "household_have_electricity         float64\n",
      "lighting_source                    float64\n",
      "cooking_fuel                       float64\n",
      "no_of_dwelling_rooms               float64\n",
      "kitchen_availability               float64\n",
      "is_radio                           float64\n",
      "is_television                      float64\n",
      "is_computer                        float64\n",
      "is_telephone                       float64\n",
      "is_washing_machine                 float64\n",
      "is_refrigerator                    float64\n",
      "is_sewing_machine                  float64\n",
      "is_bicycle                         float64\n",
      "is_scooter                         float64\n",
      "is_car                             float64\n",
      "is_tractor                         float64\n",
      "is_water_pump                      float64\n",
      "cart                               float64\n",
      "land_possessed                     float64\n",
      "hl_expall_status                   float64\n",
      "isdeadmigrated                     float64\n",
      "residancial_status                 float64\n",
      "iscoveredbyhealthscheme            float64\n",
      "healthscheme_1                     float64\n",
      "healthscheme_2                     float64\n",
      "housestatus                        float64\n",
      "householdstatus                    float64\n",
      "isheadchanged                      float64\n",
      "fid                                float64\n",
      "fidh                               float64\n",
      "wt                                 float64\n",
      "fidx                               float64\n",
      "as                                 float64\n",
      "as_binned                          float64\n",
      "rtelephoneno                       float64\n",
      "isnewrecord                        float64\n",
      "recordupdatedcount                 float64\n",
      "recordstatus                       float64\n",
      "schedule_id                        float64\n",
      "year                               float64\n",
      "id                                 float64\n",
      "dtypes: float64(89), int64(9), object(1)\n",
      "memory usage: 3.1+ GB\n"
     ]
    }
   ],
   "source": [
    "AHS_comb.info()"
   ]
  },
  {
   "cell_type": "code",
   "execution_count": null,
   "metadata": {
    "collapsed": true
   },
   "outputs": [],
   "source": [
    "size_threshold = 30000\n",
    "no_of_df = int(diagnosed_data.shape[0]/size_threshold)\n",
    "# List of splitted datasets\n",
    "splitted_dataset = np.array_split(diagnosed_data, no_of_df)\n",
    "df_list = list()\n",
    "for df in splitted_dataset:\n",
    "\tdf_list.append(pd.DataFrame(df))\n",
    "\n",
    "hot_df_list = list()\n",
    "for df in df_list:\n",
    "\thot_df_list.append(one_hot_df(df))\n",
    "\n",
    "diagnosed_data = pd.concat(hot_df_list)\n",
    "diagnosed_data = diagnosed_data.fillna(0)"
   ]
  },
  {
   "cell_type": "code",
   "execution_count": 84,
   "metadata": {
    "collapsed": false
   },
   "outputs": [
    {
     "data": {
      "text/plain": [
       "(4155187, 99)"
      ]
     },
     "execution_count": 84,
     "metadata": {},
     "output_type": "execute_result"
    }
   ],
   "source": [
    "AHS_comb.shape"
   ]
  },
  {
   "cell_type": "code",
   "execution_count": 85,
   "metadata": {
    "collapsed": true
   },
   "outputs": [],
   "source": [
    "splitted_dataset = np.array_split(AHS_comb, 5)\n",
    "df_list = list()\n",
    "for df in splitted_dataset:\n",
    "    df_list.append(pd.DataFrame(df))"
   ]
  },
  {
   "cell_type": "code",
   "execution_count": 86,
   "metadata": {
    "collapsed": true
   },
   "outputs": [],
   "source": [
    "comb = pd.concat(df_list)"
   ]
  },
  {
   "cell_type": "code",
   "execution_count": 87,
   "metadata": {
    "collapsed": false
   },
   "outputs": [
    {
     "data": {
      "text/plain": [
       "(4155187, 99)"
      ]
     },
     "execution_count": 87,
     "metadata": {},
     "output_type": "execute_result"
    }
   ],
   "source": [
    "comb.shape"
   ]
  },
  {
   "cell_type": "code",
   "execution_count": 88,
   "metadata": {
    "collapsed": true
   },
   "outputs": [
    {
     "name": "stdout",
     "output_type": "stream",
     "text": [
      "<class 'pandas.core.frame.DataFrame'>\n",
      "Int64Index: 4155187 entries, 0 to 4155186\n",
      "Data columns (total 99 columns):\n",
      "hh_id                              float64\n",
      "client_hh_id                       float64\n",
      "hl_id                              float64\n",
      "state                              int64\n",
      "district                           int64\n",
      "rural                              int64\n",
      "stratum_code                       int64\n",
      "psu_id                             int64\n",
      "house_no                           int64\n",
      "house_hold_no                      int64\n",
      "currently_dead_or_out_migrated     float64\n",
      "hh_serial_no                       int64\n",
      "sex                                int64\n",
      "usual_residance                    float64\n",
      "relation_to_head                   float64\n",
      "member_identity                    float64\n",
      "father_serial_no                   float64\n",
      "mother_serial_no                   float64\n",
      "date_of_birth                      float64\n",
      "month_of_birth                     float64\n",
      "year_of_birth                      float64\n",
      "age                                float64\n",
      "religion                           float64\n",
      "social_group_code                  float64\n",
      "marital_status                     float64\n",
      "date_of_marriage                   float64\n",
      "month_of_marriage                  float64\n",
      "year_of_marriage                   float64\n",
      "currently_attending_school         float64\n",
      "reason_for_not_attending_school    float64\n",
      "highest_qualification              float64\n",
      "occupation_status                  float64\n",
      "disability_status                  float64\n",
      "injury_treatment_type              float64\n",
      "illness_type                       float64\n",
      "treatment_source                   float64\n",
      "symptoms_pertaining_illness        float64\n",
      "sought_medical_care                float64\n",
      "diagnosed_for                      float64\n",
      "diagnosis_source                   float64\n",
      "regular_treatment                  float64\n",
      "regular_treatment_source           float64\n",
      "chew                               float64\n",
      "smoke                              float64\n",
      "alcohol                            float64\n",
      "status                             float64\n",
      "hh_expall_status                   float64\n",
      "client_hl_id                       float64\n",
      "serial_no                          float64\n",
      "building_no                        object\n",
      "house_status                       float64\n",
      "house_structure                    float64\n",
      "owner_status                       float64\n",
      "drinking_water_source              float64\n",
      "is_water_filter                    float64\n",
      "water_filteration                  float64\n",
      "toilet_used                        float64\n",
      "is_toilet_shared                   float64\n",
      "household_have_electricity         float64\n",
      "lighting_source                    float64\n",
      "cooking_fuel                       float64\n",
      "no_of_dwelling_rooms               float64\n",
      "kitchen_availability               float64\n",
      "is_radio                           float64\n",
      "is_television                      float64\n",
      "is_computer                        float64\n",
      "is_telephone                       float64\n",
      "is_washing_machine                 float64\n",
      "is_refrigerator                    float64\n",
      "is_sewing_machine                  float64\n",
      "is_bicycle                         float64\n",
      "is_scooter                         float64\n",
      "is_car                             float64\n",
      "is_tractor                         float64\n",
      "is_water_pump                      float64\n",
      "cart                               float64\n",
      "land_possessed                     float64\n",
      "hl_expall_status                   float64\n",
      "isdeadmigrated                     float64\n",
      "residancial_status                 float64\n",
      "iscoveredbyhealthscheme            float64\n",
      "healthscheme_1                     float64\n",
      "healthscheme_2                     float64\n",
      "housestatus                        float64\n",
      "householdstatus                    float64\n",
      "isheadchanged                      float64\n",
      "fid                                float64\n",
      "fidh                               float64\n",
      "wt                                 float64\n",
      "fidx                               float64\n",
      "as                                 float64\n",
      "as_binned                          float64\n",
      "rtelephoneno                       float64\n",
      "isnewrecord                        float64\n",
      "recordupdatedcount                 float64\n",
      "recordstatus                       float64\n",
      "schedule_id                        float64\n",
      "year                               float64\n",
      "id                                 float64\n",
      "dtypes: float64(89), int64(9), object(1)\n",
      "memory usage: 3.1+ GB\n"
     ]
    }
   ],
   "source": [
    "comb.info()"
   ]
  },
  {
   "cell_type": "code",
   "execution_count": null,
   "metadata": {
    "collapsed": true
   },
   "outputs": [],
   "source": []
  },
  {
   "cell_type": "code",
   "execution_count": null,
   "metadata": {
    "collapsed": true
   },
   "outputs": [],
   "source": []
  },
  {
   "cell_type": "code",
   "execution_count": null,
   "metadata": {
    "collapsed": true
   },
   "outputs": [],
   "source": []
  },
  {
   "cell_type": "code",
   "execution_count": null,
   "metadata": {
    "collapsed": true
   },
   "outputs": [],
   "source": []
  },
  {
   "cell_type": "code",
   "execution_count": null,
   "metadata": {
    "collapsed": true
   },
   "outputs": [],
   "source": []
  },
  {
   "cell_type": "code",
   "execution_count": null,
   "metadata": {
    "collapsed": true
   },
   "outputs": [],
   "source": []
  },
  {
   "cell_type": "code",
   "execution_count": null,
   "metadata": {
    "collapsed": true
   },
   "outputs": [],
   "source": []
  },
  {
   "cell_type": "code",
   "execution_count": null,
   "metadata": {
    "collapsed": true
   },
   "outputs": [],
   "source": []
  },
  {
   "cell_type": "code",
   "execution_count": null,
   "metadata": {
    "collapsed": true
   },
   "outputs": [],
   "source": []
  },
  {
   "cell_type": "code",
   "execution_count": null,
   "metadata": {
    "collapsed": true
   },
   "outputs": [],
   "source": []
  },
  {
   "cell_type": "code",
   "execution_count": null,
   "metadata": {
    "collapsed": true
   },
   "outputs": [],
   "source": []
  },
  {
   "cell_type": "code",
   "execution_count": null,
   "metadata": {
    "collapsed": true
   },
   "outputs": [],
   "source": []
  },
  {
   "cell_type": "code",
   "execution_count": null,
   "metadata": {
    "collapsed": true
   },
   "outputs": [],
   "source": []
  },
  {
   "cell_type": "code",
   "execution_count": null,
   "metadata": {
    "collapsed": true
   },
   "outputs": [],
   "source": []
  },
  {
   "cell_type": "code",
   "execution_count": null,
   "metadata": {
    "collapsed": true
   },
   "outputs": [],
   "source": []
  },
  {
   "cell_type": "code",
   "execution_count": null,
   "metadata": {
    "collapsed": true
   },
   "outputs": [],
   "source": []
  },
  {
   "cell_type": "code",
   "execution_count": null,
   "metadata": {
    "collapsed": true
   },
   "outputs": [],
   "source": []
  },
  {
   "cell_type": "code",
   "execution_count": null,
   "metadata": {
    "collapsed": true
   },
   "outputs": [],
   "source": []
  },
  {
   "cell_type": "code",
   "execution_count": null,
   "metadata": {
    "collapsed": true
   },
   "outputs": [],
   "source": []
  },
  {
   "cell_type": "code",
   "execution_count": null,
   "metadata": {
    "collapsed": true
   },
   "outputs": [],
   "source": []
  },
  {
   "cell_type": "code",
   "execution_count": null,
   "metadata": {
    "collapsed": true
   },
   "outputs": [],
   "source": []
  },
  {
   "cell_type": "code",
   "execution_count": 1,
   "metadata": {
    "collapsed": true
   },
   "outputs": [],
   "source": [
    "import pandas as pd\n",
    "import numpy as np\n",
    "import matplotlib.pyplot as plt\n",
    "from sklearn import linear_model, datasets"
   ]
  },
  {
   "cell_type": "code",
   "execution_count": 8,
   "metadata": {
    "collapsed": false
   },
   "outputs": [],
   "source": [
    "train_data = pd.read_csv('/Users/himanshubabal/Downloads/train_data.csv')\n",
    "train_label = pd.read_csv('/Users/himanshubabal/Downloads/train_label.csv')\n",
    "\n",
    "test_data = pd.read_csv('/Users/himanshubabal/Downloads/test_data.csv')"
   ]
  },
  {
   "cell_type": "code",
   "execution_count": 13,
   "metadata": {
    "collapsed": false
   },
   "outputs": [
    {
     "data": {
      "text/plain": [
       "(206,)"
      ]
     },
     "execution_count": 13,
     "metadata": {},
     "output_type": "execute_result"
    }
   ],
   "source": [
    "np.copy(train_label).flatten().shape"
   ]
  },
  {
   "cell_type": "code",
   "execution_count": 20,
   "metadata": {
    "collapsed": false
   },
   "outputs": [
    {
     "data": {
      "text/plain": [
       "LogisticRegression(C=100.0, class_weight=None, dual=False, fit_intercept=True,\n",
       "          intercept_scaling=1, max_iter=100, multi_class='ovr', n_jobs=1,\n",
       "          penalty='l2', random_state=None, solver='liblinear', tol=0.0001,\n",
       "          verbose=0, warm_start=False)"
      ]
     },
     "execution_count": 20,
     "metadata": {},
     "output_type": "execute_result"
    }
   ],
   "source": [
    "X = train_data[:175] \n",
    "Y = np.copy(train_label).flatten()[:175]\n",
    "\n",
    "h = .02  # step size in the mesh\n",
    "\n",
    "logreg = linear_model.LogisticRegression(C=1e2,penalty='l2')\n",
    "\n",
    "logreg.fit(X, Y)"
   ]
  },
  {
   "cell_type": "code",
   "execution_count": 21,
   "metadata": {
    "collapsed": false
   },
   "outputs": [
    {
     "data": {
      "text/plain": [
       "array([2, 2, 1, 1, 1, 2, 1, 1, 1, 1, 1, 1, 1, 1, 1, 1, 1, 1, 1, 1, 1, 1, 1,\n",
       "       1, 1, 1, 1, 1, 1, 2, 1])"
      ]
     },
     "execution_count": 21,
     "metadata": {},
     "output_type": "execute_result"
    }
   ],
   "source": [
    "logreg.predict(train_data[175:])"
   ]
  },
  {
   "cell_type": "code",
   "execution_count": 32,
   "metadata": {
    "collapsed": false
   },
   "outputs": [],
   "source": [
    "def acc(l1, l2):\n",
    "    sc = 0\n",
    "    for i in range(len(l1)):\n",
    "        if l1[i] == l2[i]:\n",
    "            sc += 1\n",
    "    s = float(sc/len(l1))\n",
    "    return s\n",
    "#     return (100.0 * np.sum(np.argmax(predictions, 2).T == labels) / predictions.shape[1] / predictions.shape[0])"
   ]
  },
  {
   "cell_type": "code",
   "execution_count": 28,
   "metadata": {
    "collapsed": true
   },
   "outputs": [
    {
     "data": {
      "text/plain": [
       "[2,\n",
       " 2,\n",
       " 1,\n",
       " 1,\n",
       " 1,\n",
       " 2,\n",
       " 1,\n",
       " 1,\n",
       " 1,\n",
       " 2,\n",
       " 1,\n",
       " 1,\n",
       " 1,\n",
       " 1,\n",
       " 1,\n",
       " 1,\n",
       " 1,\n",
       " 2,\n",
       " 2,\n",
       " 1,\n",
       " 1,\n",
       " 1,\n",
       " 2,\n",
       " 1,\n",
       " 1,\n",
       " 1,\n",
       " 1,\n",
       " 2,\n",
       " 2,\n",
       " 2,\n",
       " 1]"
      ]
     },
     "execution_count": 28,
     "metadata": {},
     "output_type": "execute_result"
    }
   ],
   "source": [
    "list(train_label[175:].values.flatten())"
   ]
  },
  {
   "cell_type": "code",
   "execution_count": 33,
   "metadata": {
    "collapsed": false
   },
   "outputs": [
    {
     "data": {
      "text/plain": [
       "0.8064516129032258"
      ]
     },
     "execution_count": 33,
     "metadata": {},
     "output_type": "execute_result"
    }
   ],
   "source": [
    "acc(logreg.predict(train_data[175:]), list(train_label[175:].values.flatten()))"
   ]
  },
  {
   "cell_type": "code",
   "execution_count": 18,
   "metadata": {
    "collapsed": false
   },
   "outputs": [
    {
     "ename": "TypeError",
     "evalue": "cannot convert the series to <class 'float'>",
     "output_type": "error",
     "traceback": [
      "\u001b[0;31m---------------------------------------------------------------------------\u001b[0m",
      "\u001b[0;31mTypeError\u001b[0m                                 Traceback (most recent call last)",
      "\u001b[0;32m<ipython-input-18-b964b4372550>\u001b[0m in \u001b[0;36m<module>\u001b[0;34m()\u001b[0m\n\u001b[1;32m      3\u001b[0m \u001b[0mx_min\u001b[0m\u001b[0;34m,\u001b[0m \u001b[0mx_max\u001b[0m \u001b[0;34m=\u001b[0m \u001b[0mX\u001b[0m\u001b[0;34m[\u001b[0m\u001b[0;34m:\u001b[0m\u001b[0;34m]\u001b[0m\u001b[0;34m.\u001b[0m\u001b[0mmin\u001b[0m\u001b[0;34m(\u001b[0m\u001b[0;34m)\u001b[0m \u001b[0;34m-\u001b[0m \u001b[0;36m.5\u001b[0m\u001b[0;34m,\u001b[0m \u001b[0mX\u001b[0m\u001b[0;34m[\u001b[0m\u001b[0;34m:\u001b[0m\u001b[0;34m]\u001b[0m\u001b[0;34m.\u001b[0m\u001b[0mmax\u001b[0m\u001b[0;34m(\u001b[0m\u001b[0;34m)\u001b[0m \u001b[0;34m+\u001b[0m \u001b[0;36m.5\u001b[0m\u001b[0;34m\u001b[0m\u001b[0m\n\u001b[1;32m      4\u001b[0m \u001b[0my_min\u001b[0m\u001b[0;34m,\u001b[0m \u001b[0my_max\u001b[0m \u001b[0;34m=\u001b[0m \u001b[0mX\u001b[0m\u001b[0;34m[\u001b[0m\u001b[0;34m:\u001b[0m\u001b[0;34m]\u001b[0m\u001b[0;34m.\u001b[0m\u001b[0mmin\u001b[0m\u001b[0;34m(\u001b[0m\u001b[0;34m)\u001b[0m \u001b[0;34m-\u001b[0m \u001b[0;36m.5\u001b[0m\u001b[0;34m,\u001b[0m \u001b[0mX\u001b[0m\u001b[0;34m[\u001b[0m\u001b[0;34m:\u001b[0m\u001b[0;34m]\u001b[0m\u001b[0;34m.\u001b[0m\u001b[0mmax\u001b[0m\u001b[0;34m(\u001b[0m\u001b[0;34m)\u001b[0m \u001b[0;34m+\u001b[0m \u001b[0;36m.5\u001b[0m\u001b[0;34m\u001b[0m\u001b[0m\n\u001b[0;32m----> 5\u001b[0;31m \u001b[0mxx\u001b[0m\u001b[0;34m,\u001b[0m \u001b[0myy\u001b[0m \u001b[0;34m=\u001b[0m \u001b[0mnp\u001b[0m\u001b[0;34m.\u001b[0m\u001b[0mmeshgrid\u001b[0m\u001b[0;34m(\u001b[0m\u001b[0mnp\u001b[0m\u001b[0;34m.\u001b[0m\u001b[0marange\u001b[0m\u001b[0;34m(\u001b[0m\u001b[0mx_min\u001b[0m\u001b[0;34m,\u001b[0m \u001b[0mx_max\u001b[0m\u001b[0;34m,\u001b[0m \u001b[0mh\u001b[0m\u001b[0;34m)\u001b[0m\u001b[0;34m,\u001b[0m \u001b[0mnp\u001b[0m\u001b[0;34m.\u001b[0m\u001b[0marange\u001b[0m\u001b[0;34m(\u001b[0m\u001b[0my_min\u001b[0m\u001b[0;34m,\u001b[0m \u001b[0my_max\u001b[0m\u001b[0;34m,\u001b[0m \u001b[0mh\u001b[0m\u001b[0;34m)\u001b[0m\u001b[0;34m)\u001b[0m\u001b[0;34m\u001b[0m\u001b[0m\n\u001b[0m\u001b[1;32m      6\u001b[0m \u001b[0mZ\u001b[0m \u001b[0;34m=\u001b[0m \u001b[0mlogreg\u001b[0m\u001b[0;34m.\u001b[0m\u001b[0mpredict\u001b[0m\u001b[0;34m(\u001b[0m\u001b[0mnp\u001b[0m\u001b[0;34m.\u001b[0m\u001b[0mc_\u001b[0m\u001b[0;34m[\u001b[0m\u001b[0mxx\u001b[0m\u001b[0;34m.\u001b[0m\u001b[0mravel\u001b[0m\u001b[0;34m(\u001b[0m\u001b[0;34m)\u001b[0m\u001b[0;34m,\u001b[0m \u001b[0myy\u001b[0m\u001b[0;34m.\u001b[0m\u001b[0mravel\u001b[0m\u001b[0;34m(\u001b[0m\u001b[0;34m)\u001b[0m\u001b[0;34m]\u001b[0m\u001b[0;34m)\u001b[0m\u001b[0;34m\u001b[0m\u001b[0m\n\u001b[1;32m      7\u001b[0m \u001b[0;34m\u001b[0m\u001b[0m\n",
      "\u001b[0;32m/Users/himanshubabal/anaconda3/lib/python3.6/site-packages/pandas/core/series.py\u001b[0m in \u001b[0;36mwrapper\u001b[0;34m(self)\u001b[0m\n\u001b[1;32m     91\u001b[0m             \u001b[0;32mreturn\u001b[0m \u001b[0mconverter\u001b[0m\u001b[0;34m(\u001b[0m\u001b[0mself\u001b[0m\u001b[0;34m.\u001b[0m\u001b[0miloc\u001b[0m\u001b[0;34m[\u001b[0m\u001b[0;36m0\u001b[0m\u001b[0;34m]\u001b[0m\u001b[0;34m)\u001b[0m\u001b[0;34m\u001b[0m\u001b[0m\n\u001b[1;32m     92\u001b[0m         raise TypeError(\"cannot convert the series to \"\n\u001b[0;32m---> 93\u001b[0;31m                         \"{0}\".format(str(converter)))\n\u001b[0m\u001b[1;32m     94\u001b[0m \u001b[0;34m\u001b[0m\u001b[0m\n\u001b[1;32m     95\u001b[0m     \u001b[0;32mreturn\u001b[0m \u001b[0mwrapper\u001b[0m\u001b[0;34m\u001b[0m\u001b[0m\n",
      "\u001b[0;31mTypeError\u001b[0m: cannot convert the series to <class 'float'>"
     ]
    }
   ],
   "source": [
    "# Plot the decision boundary. For that, we will assign a color to each\n",
    "# point in the mesh [x_min, x_max]x[y_min, y_max].\n",
    "x_min, x_max = X[:].min() - .5, X[:].max() + .5\n",
    "y_min, y_max = X[:].min() - .5, X[:].max() + .5\n",
    "xx, yy = np.meshgrid(np.arange(x_min, x_max, h), np.arange(y_min, y_max, h))\n",
    "Z = logreg.predict(np.c_[xx.ravel(), yy.ravel()])\n",
    "\n",
    "# Put the result into a color plot\n",
    "Z = Z.reshape(xx.shape)\n",
    "plt.figure(1, figsize=(4, 3))\n",
    "plt.pcolormesh(xx, yy, Z, cmap=plt.cm.Paired)\n",
    "\n",
    "# Plot also the training points\n",
    "plt.scatter(X[:, 0], X[:, 1], c=Y, edgecolors='k', cmap=plt.cm.Paired)\n",
    "plt.xlabel('Sepal length')\n",
    "plt.ylabel('Sepal width')"
   ]
  }
 ],
 "metadata": {
  "anaconda-cloud": {},
  "kernelspec": {
   "display_name": "Python [conda root]",
   "language": "python",
   "name": "conda-root-py"
  },
  "language_info": {
   "codemirror_mode": {
    "name": "ipython",
    "version": 2
   },
   "file_extension": ".py",
   "mimetype": "text/x-python",
   "name": "python",
   "nbconvert_exporter": "python",
   "pygments_lexer": "ipython2",
   "version": "2.7.12"
  }
 },
 "nbformat": 4,
 "nbformat_minor": 2
}
