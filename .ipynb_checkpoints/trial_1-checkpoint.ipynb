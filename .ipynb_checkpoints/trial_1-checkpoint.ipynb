{
 "cells": [
  {
   "cell_type": "code",
   "execution_count": 31,
   "metadata": {
    "collapsed": true
   },
   "outputs": [],
   "source": [
    "import pandas as pd\n",
    "import numpy as np\n",
    "import h5py\n",
    "import matplotlib.pyplot as plt\n",
    "import tensorflow as tf\n",
    "import math"
   ]
  },
  {
   "cell_type": "code",
   "execution_count": 64,
   "metadata": {
    "collapsed": true
   },
   "outputs": [],
   "source": [
    "# Comb data is located in '3'\n",
    "dataset_path = '/Users/himanshubabal/Documents/External_Disk_Link_WD_HDD/AHS_Data/22/3/'"
   ]
  },
  {
   "cell_type": "code",
   "execution_count": 65,
   "metadata": {
    "collapsed": true
   },
   "outputs": [],
   "source": [
    "def one_hot_df(data_frame, one_hot_colnames) :\n",
    "    colnames = list(data_frame)\n",
    "    hot_col = list()\n",
    "    \n",
    "    for hot in one_hot_colnames :\n",
    "        if hot in colnames :\n",
    "            hot_col.append(hot)\n",
    "            \n",
    "    if 'district' in hot_col :\n",
    "        hot_col.remove('district')\n",
    "    if 'state' in hot_col :\n",
    "        hot_col.remove('state')\n",
    "            \n",
    "    df = pd.get_dummies(data_frame, columns=hot_col)\n",
    "    return (df)"
   ]
  },
  {
   "cell_type": "code",
   "execution_count": 68,
   "metadata": {
    "collapsed": false
   },
   "outputs": [
    {
     "name": "stderr",
     "output_type": "stream",
     "text": [
      "/Users/himanshubabal/anaconda3/lib/python3.6/site-packages/IPython/core/interactiveshell.py:2717: DtypeWarning: Columns (41) have mixed types. Specify dtype option on import or set low_memory=False.\n",
      "  interactivity=interactivity, compiler=compiler, result=result)\n"
     ]
    }
   ],
   "source": [
    "dist = pd.read_csv('Data/3_22_8.csv')"
   ]
  },
  {
   "cell_type": "code",
   "execution_count": 69,
   "metadata": {
    "collapsed": false
   },
   "outputs": [],
   "source": [
    "dist = dist.drop(dist.columns[[0]], axis=1) "
   ]
  },
  {
   "cell_type": "code",
   "execution_count": 70,
   "metadata": {
    "collapsed": true
   },
   "outputs": [
    {
     "data": {
      "text/html": [
       "<div>\n",
       "<table border=\"1\" class=\"dataframe\">\n",
       "  <thead>\n",
       "    <tr style=\"text-align: right;\">\n",
       "      <th></th>\n",
       "      <th>state</th>\n",
       "      <th>district</th>\n",
       "      <th>rural</th>\n",
       "      <th>stratum_code</th>\n",
       "      <th>psu_id</th>\n",
       "      <th>house_no</th>\n",
       "      <th>house_hold_no</th>\n",
       "      <th>sex</th>\n",
       "      <th>usual_residance</th>\n",
       "      <th>relation_to_head</th>\n",
       "      <th>...</th>\n",
       "      <th>land_possessed</th>\n",
       "      <th>residancial_status</th>\n",
       "      <th>iscoveredbyhealthscheme</th>\n",
       "      <th>healthscheme_1</th>\n",
       "      <th>healthscheme_2</th>\n",
       "      <th>housestatus</th>\n",
       "      <th>householdstatus</th>\n",
       "      <th>isheadchanged</th>\n",
       "      <th>as_binned</th>\n",
       "      <th>year</th>\n",
       "    </tr>\n",
       "  </thead>\n",
       "  <tbody>\n",
       "    <tr>\n",
       "      <th>count</th>\n",
       "      <td>97824.0</td>\n",
       "      <td>97824.0</td>\n",
       "      <td>97824.000000</td>\n",
       "      <td>97824.000000</td>\n",
       "      <td>9.782400e+04</td>\n",
       "      <td>97824.000000</td>\n",
       "      <td>97824.000000</td>\n",
       "      <td>97824.000000</td>\n",
       "      <td>82306.000000</td>\n",
       "      <td>83280.000000</td>\n",
       "      <td>...</td>\n",
       "      <td>87153.000000</td>\n",
       "      <td>61428.000000</td>\n",
       "      <td>55641.000000</td>\n",
       "      <td>19223.000000</td>\n",
       "      <td>18.000000</td>\n",
       "      <td>70097.000000</td>\n",
       "      <td>68729.000000</td>\n",
       "      <td>54257.000000</td>\n",
       "      <td>27721.000000</td>\n",
       "      <td>97824.000000</td>\n",
       "    </tr>\n",
       "    <tr>\n",
       "      <th>mean</th>\n",
       "      <td>22.0</td>\n",
       "      <td>8.0</td>\n",
       "      <td>1.189023</td>\n",
       "      <td>1.040859</td>\n",
       "      <td>1.587218e+08</td>\n",
       "      <td>131.520220</td>\n",
       "      <td>1.492016</td>\n",
       "      <td>1.496473</td>\n",
       "      <td>1.012539</td>\n",
       "      <td>2.715718</td>\n",
       "      <td>...</td>\n",
       "      <td>3.758471</td>\n",
       "      <td>2.048626</td>\n",
       "      <td>1.672939</td>\n",
       "      <td>3.051501</td>\n",
       "      <td>2.722222</td>\n",
       "      <td>1.019230</td>\n",
       "      <td>1.601624</td>\n",
       "      <td>1.988296</td>\n",
       "      <td>3.188882</td>\n",
       "      <td>2.093576</td>\n",
       "    </tr>\n",
       "    <tr>\n",
       "      <th>std</th>\n",
       "      <td>0.0</td>\n",
       "      <td>0.0</td>\n",
       "      <td>0.391529</td>\n",
       "      <td>0.645941</td>\n",
       "      <td>2.823950e+04</td>\n",
       "      <td>106.571766</td>\n",
       "      <td>0.918000</td>\n",
       "      <td>0.499990</td>\n",
       "      <td>0.111272</td>\n",
       "      <td>1.547864</td>\n",
       "      <td>...</td>\n",
       "      <td>1.990228</td>\n",
       "      <td>2.349249</td>\n",
       "      <td>0.506893</td>\n",
       "      <td>2.013158</td>\n",
       "      <td>1.319784</td>\n",
       "      <td>0.220629</td>\n",
       "      <td>1.320137</td>\n",
       "      <td>0.107549</td>\n",
       "      <td>1.304629</td>\n",
       "      <td>0.807242</td>\n",
       "    </tr>\n",
       "    <tr>\n",
       "      <th>min</th>\n",
       "      <td>22.0</td>\n",
       "      <td>8.0</td>\n",
       "      <td>1.000000</td>\n",
       "      <td>0.000000</td>\n",
       "      <td>1.586729e+08</td>\n",
       "      <td>1.000000</td>\n",
       "      <td>1.000000</td>\n",
       "      <td>1.000000</td>\n",
       "      <td>1.000000</td>\n",
       "      <td>1.000000</td>\n",
       "      <td>...</td>\n",
       "      <td>1.000000</td>\n",
       "      <td>1.000000</td>\n",
       "      <td>1.000000</td>\n",
       "      <td>1.000000</td>\n",
       "      <td>2.000000</td>\n",
       "      <td>0.000000</td>\n",
       "      <td>1.000000</td>\n",
       "      <td>1.000000</td>\n",
       "      <td>1.000000</td>\n",
       "      <td>1.000000</td>\n",
       "    </tr>\n",
       "    <tr>\n",
       "      <th>25%</th>\n",
       "      <td>22.0</td>\n",
       "      <td>8.0</td>\n",
       "      <td>1.000000</td>\n",
       "      <td>1.000000</td>\n",
       "      <td>1.586974e+08</td>\n",
       "      <td>49.000000</td>\n",
       "      <td>1.000000</td>\n",
       "      <td>1.000000</td>\n",
       "      <td>1.000000</td>\n",
       "      <td>2.000000</td>\n",
       "      <td>...</td>\n",
       "      <td>2.000000</td>\n",
       "      <td>1.000000</td>\n",
       "      <td>1.000000</td>\n",
       "      <td>2.000000</td>\n",
       "      <td>2.000000</td>\n",
       "      <td>1.000000</td>\n",
       "      <td>1.000000</td>\n",
       "      <td>2.000000</td>\n",
       "      <td>2.000000</td>\n",
       "      <td>1.000000</td>\n",
       "    </tr>\n",
       "    <tr>\n",
       "      <th>50%</th>\n",
       "      <td>22.0</td>\n",
       "      <td>8.0</td>\n",
       "      <td>1.000000</td>\n",
       "      <td>1.000000</td>\n",
       "      <td>1.587218e+08</td>\n",
       "      <td>105.000000</td>\n",
       "      <td>1.000000</td>\n",
       "      <td>1.000000</td>\n",
       "      <td>1.000000</td>\n",
       "      <td>3.000000</td>\n",
       "      <td>...</td>\n",
       "      <td>3.000000</td>\n",
       "      <td>1.000000</td>\n",
       "      <td>2.000000</td>\n",
       "      <td>2.000000</td>\n",
       "      <td>2.000000</td>\n",
       "      <td>1.000000</td>\n",
       "      <td>1.000000</td>\n",
       "      <td>2.000000</td>\n",
       "      <td>3.000000</td>\n",
       "      <td>2.000000</td>\n",
       "    </tr>\n",
       "    <tr>\n",
       "      <th>75%</th>\n",
       "      <td>22.0</td>\n",
       "      <td>8.0</td>\n",
       "      <td>1.000000</td>\n",
       "      <td>1.000000</td>\n",
       "      <td>1.587463e+08</td>\n",
       "      <td>182.000000</td>\n",
       "      <td>2.000000</td>\n",
       "      <td>2.000000</td>\n",
       "      <td>1.000000</td>\n",
       "      <td>3.000000</td>\n",
       "      <td>...</td>\n",
       "      <td>6.000000</td>\n",
       "      <td>1.000000</td>\n",
       "      <td>2.000000</td>\n",
       "      <td>2.000000</td>\n",
       "      <td>3.000000</td>\n",
       "      <td>1.000000</td>\n",
       "      <td>1.000000</td>\n",
       "      <td>2.000000</td>\n",
       "      <td>4.000000</td>\n",
       "      <td>3.000000</td>\n",
       "    </tr>\n",
       "    <tr>\n",
       "      <th>max</th>\n",
       "      <td>22.0</td>\n",
       "      <td>8.0</td>\n",
       "      <td>2.000000</td>\n",
       "      <td>2.000000</td>\n",
       "      <td>1.587707e+08</td>\n",
       "      <td>539.000000</td>\n",
       "      <td>9.000000</td>\n",
       "      <td>2.000000</td>\n",
       "      <td>2.000000</td>\n",
       "      <td>13.000000</td>\n",
       "      <td>...</td>\n",
       "      <td>6.000000</td>\n",
       "      <td>11.000000</td>\n",
       "      <td>3.000000</td>\n",
       "      <td>7.000000</td>\n",
       "      <td>6.000000</td>\n",
       "      <td>3.000000</td>\n",
       "      <td>6.000000</td>\n",
       "      <td>2.000000</td>\n",
       "      <td>5.000000</td>\n",
       "      <td>3.000000</td>\n",
       "    </tr>\n",
       "  </tbody>\n",
       "</table>\n",
       "<p>8 rows × 76 columns</p>\n",
       "</div>"
      ],
      "text/plain": [
       "         state  district         rural  stratum_code        psu_id  \\\n",
       "count  97824.0   97824.0  97824.000000  97824.000000  9.782400e+04   \n",
       "mean      22.0       8.0      1.189023      1.040859  1.587218e+08   \n",
       "std        0.0       0.0      0.391529      0.645941  2.823950e+04   \n",
       "min       22.0       8.0      1.000000      0.000000  1.586729e+08   \n",
       "25%       22.0       8.0      1.000000      1.000000  1.586974e+08   \n",
       "50%       22.0       8.0      1.000000      1.000000  1.587218e+08   \n",
       "75%       22.0       8.0      1.000000      1.000000  1.587463e+08   \n",
       "max       22.0       8.0      2.000000      2.000000  1.587707e+08   \n",
       "\n",
       "           house_no  house_hold_no           sex  usual_residance  \\\n",
       "count  97824.000000   97824.000000  97824.000000     82306.000000   \n",
       "mean     131.520220       1.492016      1.496473         1.012539   \n",
       "std      106.571766       0.918000      0.499990         0.111272   \n",
       "min        1.000000       1.000000      1.000000         1.000000   \n",
       "25%       49.000000       1.000000      1.000000         1.000000   \n",
       "50%      105.000000       1.000000      1.000000         1.000000   \n",
       "75%      182.000000       2.000000      2.000000         1.000000   \n",
       "max      539.000000       9.000000      2.000000         2.000000   \n",
       "\n",
       "       relation_to_head      ...       land_possessed  residancial_status  \\\n",
       "count      83280.000000      ...         87153.000000        61428.000000   \n",
       "mean           2.715718      ...             3.758471            2.048626   \n",
       "std            1.547864      ...             1.990228            2.349249   \n",
       "min            1.000000      ...             1.000000            1.000000   \n",
       "25%            2.000000      ...             2.000000            1.000000   \n",
       "50%            3.000000      ...             3.000000            1.000000   \n",
       "75%            3.000000      ...             6.000000            1.000000   \n",
       "max           13.000000      ...             6.000000           11.000000   \n",
       "\n",
       "       iscoveredbyhealthscheme  healthscheme_1  healthscheme_2   housestatus  \\\n",
       "count             55641.000000    19223.000000       18.000000  70097.000000   \n",
       "mean                  1.672939        3.051501        2.722222      1.019230   \n",
       "std                   0.506893        2.013158        1.319784      0.220629   \n",
       "min                   1.000000        1.000000        2.000000      0.000000   \n",
       "25%                   1.000000        2.000000        2.000000      1.000000   \n",
       "50%                   2.000000        2.000000        2.000000      1.000000   \n",
       "75%                   2.000000        2.000000        3.000000      1.000000   \n",
       "max                   3.000000        7.000000        6.000000      3.000000   \n",
       "\n",
       "       householdstatus  isheadchanged     as_binned          year  \n",
       "count     68729.000000   54257.000000  27721.000000  97824.000000  \n",
       "mean          1.601624       1.988296      3.188882      2.093576  \n",
       "std           1.320137       0.107549      1.304629      0.807242  \n",
       "min           1.000000       1.000000      1.000000      1.000000  \n",
       "25%           1.000000       2.000000      2.000000      1.000000  \n",
       "50%           1.000000       2.000000      3.000000      2.000000  \n",
       "75%           1.000000       2.000000      4.000000      3.000000  \n",
       "max           6.000000       2.000000      5.000000      3.000000  \n",
       "\n",
       "[8 rows x 76 columns]"
      ]
     },
     "execution_count": 70,
     "metadata": {},
     "output_type": "execute_result"
    }
   ],
   "source": [
    "dist.describe()"
   ]
  },
  {
   "cell_type": "code",
   "execution_count": 71,
   "metadata": {
    "collapsed": true
   },
   "outputs": [],
   "source": [
    "col_to_be_removed = [\n",
    "    'state',\n",
    "#     'district',\n",
    "    'house_no',\n",
    "    'house_hold_no',\n",
    "    'member_identity',\n",
    "    'father_serial_no',\n",
    "    'mother_serial_no',\n",
    "    'date_of_birth',\n",
    "    'month_of_birth',\n",
    "    'year_of_birth',\n",
    "    'date_of_marriage',\n",
    "    'month_of_marriage',\n",
    "    'year_of_marriage',\n",
    "    'building_no',\n",
    "    'no_of_dwelling_rooms',\n",
    "    'rural_1',\n",
    "    'rural_2',\n",
    "    'stratum_code',\n",
    "    'relation_to_head',\n",
    "    'member_identity',\n",
    "    'father_serial_no',\n",
    "    'mother_serial_no',\n",
    "    'date_of_birth',\n",
    "    'month_of_birth',\n",
    "    'year_of_birth',\n",
    "    'date_of_marriage',\n",
    "    'month_of_marriage',\n",
    "    'year_of_marriage',\n",
    "    'isheadchanged',\n",
    "    'year'\n",
    "]"
   ]
  },
  {
   "cell_type": "code",
   "execution_count": 72,
   "metadata": {
    "collapsed": true
   },
   "outputs": [],
   "source": [
    "dist_n = dist.drop(col_to_be_removed,axis=1,errors='ignore')"
   ]
  },
  {
   "cell_type": "code",
   "execution_count": 73,
   "metadata": {
    "collapsed": true
   },
   "outputs": [],
   "source": [
    "dist_psu = dist_n[['psu_id']]\n",
    "dist_n.drop(['psu_id'],inplace=True,axis=1,errors='ignore')"
   ]
  },
  {
   "cell_type": "code",
   "execution_count": 74,
   "metadata": {
    "collapsed": false,
    "scrolled": true
   },
   "outputs": [],
   "source": [
    "dist_p = dist_n[np.isfinite(dist_n['diagnosed_for'])]"
   ]
  },
  {
   "cell_type": "code",
   "execution_count": 76,
   "metadata": {
    "collapsed": false
   },
   "outputs": [
    {
     "data": {
      "text/plain": [
       "(82830, 58)"
      ]
     },
     "execution_count": 76,
     "metadata": {},
     "output_type": "execute_result"
    }
   ],
   "source": [
    "dist_p.shape"
   ]
  },
  {
   "cell_type": "code",
   "execution_count": 78,
   "metadata": {
    "collapsed": false
   },
   "outputs": [],
   "source": [
    "del dist_n"
   ]
  },
  {
   "cell_type": "code",
   "execution_count": 79,
   "metadata": {
    "collapsed": false
   },
   "outputs": [],
   "source": [
    "diagnosed_for_df = dist_p[['diagnosed_for']]\n",
    "dist_p.drop(['diagnosed_for'],inplace=True,axis=1,errors='ignore')"
   ]
  },
  {
   "cell_type": "code",
   "execution_count": 80,
   "metadata": {
    "collapsed": true
   },
   "outputs": [
    {
     "data": {
      "text/html": [
       "<div>\n",
       "<table border=\"1\" class=\"dataframe\">\n",
       "  <thead>\n",
       "    <tr style=\"text-align: right;\">\n",
       "      <th></th>\n",
       "      <th>diagnosed_for</th>\n",
       "    </tr>\n",
       "  </thead>\n",
       "  <tbody>\n",
       "    <tr>\n",
       "      <th>0</th>\n",
       "      <td>0.0</td>\n",
       "    </tr>\n",
       "    <tr>\n",
       "      <th>1</th>\n",
       "      <td>0.0</td>\n",
       "    </tr>\n",
       "    <tr>\n",
       "      <th>2</th>\n",
       "      <td>0.0</td>\n",
       "    </tr>\n",
       "    <tr>\n",
       "      <th>3</th>\n",
       "      <td>0.0</td>\n",
       "    </tr>\n",
       "    <tr>\n",
       "      <th>7</th>\n",
       "      <td>0.0</td>\n",
       "    </tr>\n",
       "    <tr>\n",
       "      <th>8</th>\n",
       "      <td>0.0</td>\n",
       "    </tr>\n",
       "    <tr>\n",
       "      <th>9</th>\n",
       "      <td>0.0</td>\n",
       "    </tr>\n",
       "    <tr>\n",
       "      <th>10</th>\n",
       "      <td>0.0</td>\n",
       "    </tr>\n",
       "    <tr>\n",
       "      <th>11</th>\n",
       "      <td>0.0</td>\n",
       "    </tr>\n",
       "    <tr>\n",
       "      <th>12</th>\n",
       "      <td>0.0</td>\n",
       "    </tr>\n",
       "    <tr>\n",
       "      <th>13</th>\n",
       "      <td>0.0</td>\n",
       "    </tr>\n",
       "    <tr>\n",
       "      <th>14</th>\n",
       "      <td>0.0</td>\n",
       "    </tr>\n",
       "    <tr>\n",
       "      <th>15</th>\n",
       "      <td>0.0</td>\n",
       "    </tr>\n",
       "    <tr>\n",
       "      <th>16</th>\n",
       "      <td>0.0</td>\n",
       "    </tr>\n",
       "    <tr>\n",
       "      <th>17</th>\n",
       "      <td>0.0</td>\n",
       "    </tr>\n",
       "    <tr>\n",
       "      <th>18</th>\n",
       "      <td>0.0</td>\n",
       "    </tr>\n",
       "    <tr>\n",
       "      <th>19</th>\n",
       "      <td>0.0</td>\n",
       "    </tr>\n",
       "    <tr>\n",
       "      <th>20</th>\n",
       "      <td>0.0</td>\n",
       "    </tr>\n",
       "    <tr>\n",
       "      <th>23</th>\n",
       "      <td>0.0</td>\n",
       "    </tr>\n",
       "    <tr>\n",
       "      <th>29</th>\n",
       "      <td>0.0</td>\n",
       "    </tr>\n",
       "    <tr>\n",
       "      <th>30</th>\n",
       "      <td>0.0</td>\n",
       "    </tr>\n",
       "    <tr>\n",
       "      <th>31</th>\n",
       "      <td>0.0</td>\n",
       "    </tr>\n",
       "    <tr>\n",
       "      <th>32</th>\n",
       "      <td>0.0</td>\n",
       "    </tr>\n",
       "    <tr>\n",
       "      <th>33</th>\n",
       "      <td>0.0</td>\n",
       "    </tr>\n",
       "    <tr>\n",
       "      <th>35</th>\n",
       "      <td>0.0</td>\n",
       "    </tr>\n",
       "    <tr>\n",
       "      <th>36</th>\n",
       "      <td>0.0</td>\n",
       "    </tr>\n",
       "    <tr>\n",
       "      <th>37</th>\n",
       "      <td>0.0</td>\n",
       "    </tr>\n",
       "    <tr>\n",
       "      <th>38</th>\n",
       "      <td>0.0</td>\n",
       "    </tr>\n",
       "    <tr>\n",
       "      <th>42</th>\n",
       "      <td>0.0</td>\n",
       "    </tr>\n",
       "    <tr>\n",
       "      <th>43</th>\n",
       "      <td>0.0</td>\n",
       "    </tr>\n",
       "    <tr>\n",
       "      <th>...</th>\n",
       "      <td>...</td>\n",
       "    </tr>\n",
       "    <tr>\n",
       "      <th>97788</th>\n",
       "      <td>0.0</td>\n",
       "    </tr>\n",
       "    <tr>\n",
       "      <th>97789</th>\n",
       "      <td>0.0</td>\n",
       "    </tr>\n",
       "    <tr>\n",
       "      <th>97790</th>\n",
       "      <td>0.0</td>\n",
       "    </tr>\n",
       "    <tr>\n",
       "      <th>97791</th>\n",
       "      <td>0.0</td>\n",
       "    </tr>\n",
       "    <tr>\n",
       "      <th>97792</th>\n",
       "      <td>0.0</td>\n",
       "    </tr>\n",
       "    <tr>\n",
       "      <th>97794</th>\n",
       "      <td>0.0</td>\n",
       "    </tr>\n",
       "    <tr>\n",
       "      <th>97795</th>\n",
       "      <td>0.0</td>\n",
       "    </tr>\n",
       "    <tr>\n",
       "      <th>97796</th>\n",
       "      <td>0.0</td>\n",
       "    </tr>\n",
       "    <tr>\n",
       "      <th>97797</th>\n",
       "      <td>0.0</td>\n",
       "    </tr>\n",
       "    <tr>\n",
       "      <th>97798</th>\n",
       "      <td>0.0</td>\n",
       "    </tr>\n",
       "    <tr>\n",
       "      <th>97800</th>\n",
       "      <td>0.0</td>\n",
       "    </tr>\n",
       "    <tr>\n",
       "      <th>97801</th>\n",
       "      <td>0.0</td>\n",
       "    </tr>\n",
       "    <tr>\n",
       "      <th>97802</th>\n",
       "      <td>0.0</td>\n",
       "    </tr>\n",
       "    <tr>\n",
       "      <th>97805</th>\n",
       "      <td>0.0</td>\n",
       "    </tr>\n",
       "    <tr>\n",
       "      <th>97806</th>\n",
       "      <td>0.0</td>\n",
       "    </tr>\n",
       "    <tr>\n",
       "      <th>97808</th>\n",
       "      <td>0.0</td>\n",
       "    </tr>\n",
       "    <tr>\n",
       "      <th>97809</th>\n",
       "      <td>0.0</td>\n",
       "    </tr>\n",
       "    <tr>\n",
       "      <th>97810</th>\n",
       "      <td>0.0</td>\n",
       "    </tr>\n",
       "    <tr>\n",
       "      <th>97811</th>\n",
       "      <td>0.0</td>\n",
       "    </tr>\n",
       "    <tr>\n",
       "      <th>97812</th>\n",
       "      <td>0.0</td>\n",
       "    </tr>\n",
       "    <tr>\n",
       "      <th>97813</th>\n",
       "      <td>0.0</td>\n",
       "    </tr>\n",
       "    <tr>\n",
       "      <th>97814</th>\n",
       "      <td>0.0</td>\n",
       "    </tr>\n",
       "    <tr>\n",
       "      <th>97816</th>\n",
       "      <td>0.0</td>\n",
       "    </tr>\n",
       "    <tr>\n",
       "      <th>97817</th>\n",
       "      <td>0.0</td>\n",
       "    </tr>\n",
       "    <tr>\n",
       "      <th>97818</th>\n",
       "      <td>0.0</td>\n",
       "    </tr>\n",
       "    <tr>\n",
       "      <th>97819</th>\n",
       "      <td>0.0</td>\n",
       "    </tr>\n",
       "    <tr>\n",
       "      <th>97820</th>\n",
       "      <td>0.0</td>\n",
       "    </tr>\n",
       "    <tr>\n",
       "      <th>97821</th>\n",
       "      <td>0.0</td>\n",
       "    </tr>\n",
       "    <tr>\n",
       "      <th>97822</th>\n",
       "      <td>0.0</td>\n",
       "    </tr>\n",
       "    <tr>\n",
       "      <th>97823</th>\n",
       "      <td>0.0</td>\n",
       "    </tr>\n",
       "  </tbody>\n",
       "</table>\n",
       "<p>82830 rows × 1 columns</p>\n",
       "</div>"
      ],
      "text/plain": [
       "       diagnosed_for\n",
       "0                0.0\n",
       "1                0.0\n",
       "2                0.0\n",
       "3                0.0\n",
       "7                0.0\n",
       "8                0.0\n",
       "9                0.0\n",
       "10               0.0\n",
       "11               0.0\n",
       "12               0.0\n",
       "13               0.0\n",
       "14               0.0\n",
       "15               0.0\n",
       "16               0.0\n",
       "17               0.0\n",
       "18               0.0\n",
       "19               0.0\n",
       "20               0.0\n",
       "23               0.0\n",
       "29               0.0\n",
       "30               0.0\n",
       "31               0.0\n",
       "32               0.0\n",
       "33               0.0\n",
       "35               0.0\n",
       "36               0.0\n",
       "37               0.0\n",
       "38               0.0\n",
       "42               0.0\n",
       "43               0.0\n",
       "...              ...\n",
       "97788            0.0\n",
       "97789            0.0\n",
       "97790            0.0\n",
       "97791            0.0\n",
       "97792            0.0\n",
       "97794            0.0\n",
       "97795            0.0\n",
       "97796            0.0\n",
       "97797            0.0\n",
       "97798            0.0\n",
       "97800            0.0\n",
       "97801            0.0\n",
       "97802            0.0\n",
       "97805            0.0\n",
       "97806            0.0\n",
       "97808            0.0\n",
       "97809            0.0\n",
       "97810            0.0\n",
       "97811            0.0\n",
       "97812            0.0\n",
       "97813            0.0\n",
       "97814            0.0\n",
       "97816            0.0\n",
       "97817            0.0\n",
       "97818            0.0\n",
       "97819            0.0\n",
       "97820            0.0\n",
       "97821            0.0\n",
       "97822            0.0\n",
       "97823            0.0\n",
       "\n",
       "[82830 rows x 1 columns]"
      ]
     },
     "execution_count": 80,
     "metadata": {},
     "output_type": "execute_result"
    }
   ],
   "source": [
    "diagnosed_for_df"
   ]
  },
  {
   "cell_type": "code",
   "execution_count": 81,
   "metadata": {
    "collapsed": true
   },
   "outputs": [],
   "source": [
    "not_oneHot_col = ['district','age']\n",
    "one_hot_col_list = [x for x in list(dist_p) if x not in not_oneHot_col]"
   ]
  },
  {
   "cell_type": "code",
   "execution_count": 82,
   "metadata": {
    "collapsed": true
   },
   "outputs": [
    {
     "data": {
      "text/plain": [
       "['rural',\n",
       " 'sex',\n",
       " 'usual_residance',\n",
       " 'religion',\n",
       " 'social_group_code',\n",
       " 'marital_status',\n",
       " 'currently_attending_school',\n",
       " 'reason_for_not_attending_school',\n",
       " 'highest_qualification',\n",
       " 'occupation_status',\n",
       " 'disability_status',\n",
       " 'injury_treatment_type',\n",
       " 'illness_type',\n",
       " 'treatment_source',\n",
       " 'symptoms_pertaining_illness',\n",
       " 'sought_medical_care',\n",
       " 'diagnosis_source',\n",
       " 'regular_treatment',\n",
       " 'regular_treatment_source',\n",
       " 'chew',\n",
       " 'smoke',\n",
       " 'alcohol',\n",
       " 'house_status',\n",
       " 'house_structure',\n",
       " 'owner_status',\n",
       " 'drinking_water_source',\n",
       " 'is_water_filter',\n",
       " 'water_filteration',\n",
       " 'toilet_used',\n",
       " 'is_toilet_shared',\n",
       " 'household_have_electricity',\n",
       " 'lighting_source',\n",
       " 'cooking_fuel',\n",
       " 'kitchen_availability',\n",
       " 'is_radio',\n",
       " 'is_television',\n",
       " 'is_computer',\n",
       " 'is_telephone',\n",
       " 'is_washing_machine',\n",
       " 'is_refrigerator',\n",
       " 'is_sewing_machine',\n",
       " 'is_bicycle',\n",
       " 'is_scooter',\n",
       " 'is_car',\n",
       " 'is_tractor',\n",
       " 'is_water_pump',\n",
       " 'cart',\n",
       " 'land_possessed',\n",
       " 'residancial_status',\n",
       " 'iscoveredbyhealthscheme',\n",
       " 'healthscheme_1',\n",
       " 'healthscheme_2',\n",
       " 'housestatus',\n",
       " 'householdstatus',\n",
       " 'as_binned']"
      ]
     },
     "execution_count": 82,
     "metadata": {},
     "output_type": "execute_result"
    }
   ],
   "source": [
    "one_hot_col_list"
   ]
  },
  {
   "cell_type": "code",
   "execution_count": 84,
   "metadata": {
    "collapsed": false
   },
   "outputs": [],
   "source": [
    "dist_hot = one_hot_df(dist_p, one_hot_col_list)"
   ]
  },
  {
   "cell_type": "code",
   "execution_count": 85,
   "metadata": {
    "collapsed": true
   },
   "outputs": [
    {
     "data": {
      "text/html": [
       "<div>\n",
       "<table border=\"1\" class=\"dataframe\">\n",
       "  <thead>\n",
       "    <tr style=\"text-align: right;\">\n",
       "      <th></th>\n",
       "      <th>district</th>\n",
       "      <th>rural</th>\n",
       "      <th>sex</th>\n",
       "      <th>usual_residance</th>\n",
       "      <th>age</th>\n",
       "      <th>religion</th>\n",
       "      <th>social_group_code</th>\n",
       "      <th>marital_status</th>\n",
       "      <th>currently_attending_school</th>\n",
       "      <th>reason_for_not_attending_school</th>\n",
       "      <th>...</th>\n",
       "      <th>is_water_pump</th>\n",
       "      <th>cart</th>\n",
       "      <th>land_possessed</th>\n",
       "      <th>residancial_status</th>\n",
       "      <th>iscoveredbyhealthscheme</th>\n",
       "      <th>healthscheme_1</th>\n",
       "      <th>healthscheme_2</th>\n",
       "      <th>housestatus</th>\n",
       "      <th>householdstatus</th>\n",
       "      <th>as_binned</th>\n",
       "    </tr>\n",
       "  </thead>\n",
       "  <tbody>\n",
       "    <tr>\n",
       "      <th>0</th>\n",
       "      <td>8</td>\n",
       "      <td>1</td>\n",
       "      <td>1</td>\n",
       "      <td>1.0</td>\n",
       "      <td>42.0</td>\n",
       "      <td>1.0</td>\n",
       "      <td>3.0</td>\n",
       "      <td>3.0</td>\n",
       "      <td>NaN</td>\n",
       "      <td>NaN</td>\n",
       "      <td>...</td>\n",
       "      <td>2.0</td>\n",
       "      <td>4.0</td>\n",
       "      <td>1.0</td>\n",
       "      <td>1.0</td>\n",
       "      <td>1.0</td>\n",
       "      <td>2.0</td>\n",
       "      <td>NaN</td>\n",
       "      <td>1.0</td>\n",
       "      <td>1.0</td>\n",
       "      <td>NaN</td>\n",
       "    </tr>\n",
       "    <tr>\n",
       "      <th>1</th>\n",
       "      <td>8</td>\n",
       "      <td>1</td>\n",
       "      <td>2</td>\n",
       "      <td>1.0</td>\n",
       "      <td>38.0</td>\n",
       "      <td>1.0</td>\n",
       "      <td>3.0</td>\n",
       "      <td>3.0</td>\n",
       "      <td>NaN</td>\n",
       "      <td>NaN</td>\n",
       "      <td>...</td>\n",
       "      <td>2.0</td>\n",
       "      <td>4.0</td>\n",
       "      <td>1.0</td>\n",
       "      <td>1.0</td>\n",
       "      <td>1.0</td>\n",
       "      <td>2.0</td>\n",
       "      <td>NaN</td>\n",
       "      <td>1.0</td>\n",
       "      <td>1.0</td>\n",
       "      <td>NaN</td>\n",
       "    </tr>\n",
       "    <tr>\n",
       "      <th>2</th>\n",
       "      <td>8</td>\n",
       "      <td>1</td>\n",
       "      <td>2</td>\n",
       "      <td>1.0</td>\n",
       "      <td>12.0</td>\n",
       "      <td>1.0</td>\n",
       "      <td>3.0</td>\n",
       "      <td>1.0</td>\n",
       "      <td>1.0</td>\n",
       "      <td>NaN</td>\n",
       "      <td>...</td>\n",
       "      <td>2.0</td>\n",
       "      <td>4.0</td>\n",
       "      <td>1.0</td>\n",
       "      <td>1.0</td>\n",
       "      <td>1.0</td>\n",
       "      <td>2.0</td>\n",
       "      <td>NaN</td>\n",
       "      <td>1.0</td>\n",
       "      <td>1.0</td>\n",
       "      <td>NaN</td>\n",
       "    </tr>\n",
       "    <tr>\n",
       "      <th>3</th>\n",
       "      <td>8</td>\n",
       "      <td>1</td>\n",
       "      <td>1</td>\n",
       "      <td>1.0</td>\n",
       "      <td>10.0</td>\n",
       "      <td>1.0</td>\n",
       "      <td>3.0</td>\n",
       "      <td>1.0</td>\n",
       "      <td>1.0</td>\n",
       "      <td>NaN</td>\n",
       "      <td>...</td>\n",
       "      <td>2.0</td>\n",
       "      <td>4.0</td>\n",
       "      <td>1.0</td>\n",
       "      <td>1.0</td>\n",
       "      <td>2.0</td>\n",
       "      <td>NaN</td>\n",
       "      <td>NaN</td>\n",
       "      <td>1.0</td>\n",
       "      <td>1.0</td>\n",
       "      <td>NaN</td>\n",
       "    </tr>\n",
       "    <tr>\n",
       "      <th>7</th>\n",
       "      <td>8</td>\n",
       "      <td>1</td>\n",
       "      <td>1</td>\n",
       "      <td>NaN</td>\n",
       "      <td>1.0</td>\n",
       "      <td>1.0</td>\n",
       "      <td>3.0</td>\n",
       "      <td>1.0</td>\n",
       "      <td>NaN</td>\n",
       "      <td>NaN</td>\n",
       "      <td>...</td>\n",
       "      <td>2.0</td>\n",
       "      <td>1.0</td>\n",
       "      <td>6.0</td>\n",
       "      <td>1.0</td>\n",
       "      <td>2.0</td>\n",
       "      <td>NaN</td>\n",
       "      <td>NaN</td>\n",
       "      <td>1.0</td>\n",
       "      <td>1.0</td>\n",
       "      <td>NaN</td>\n",
       "    </tr>\n",
       "  </tbody>\n",
       "</table>\n",
       "<p>5 rows × 57 columns</p>\n",
       "</div>"
      ],
      "text/plain": [
       "   district  rural  sex  usual_residance   age  religion  social_group_code  \\\n",
       "0         8      1    1              1.0  42.0       1.0                3.0   \n",
       "1         8      1    2              1.0  38.0       1.0                3.0   \n",
       "2         8      1    2              1.0  12.0       1.0                3.0   \n",
       "3         8      1    1              1.0  10.0       1.0                3.0   \n",
       "7         8      1    1              NaN   1.0       1.0                3.0   \n",
       "\n",
       "   marital_status  currently_attending_school  \\\n",
       "0             3.0                         NaN   \n",
       "1             3.0                         NaN   \n",
       "2             1.0                         1.0   \n",
       "3             1.0                         1.0   \n",
       "7             1.0                         NaN   \n",
       "\n",
       "   reason_for_not_attending_school    ...      is_water_pump  cart  \\\n",
       "0                              NaN    ...                2.0   4.0   \n",
       "1                              NaN    ...                2.0   4.0   \n",
       "2                              NaN    ...                2.0   4.0   \n",
       "3                              NaN    ...                2.0   4.0   \n",
       "7                              NaN    ...                2.0   1.0   \n",
       "\n",
       "   land_possessed  residancial_status  iscoveredbyhealthscheme  \\\n",
       "0             1.0                 1.0                      1.0   \n",
       "1             1.0                 1.0                      1.0   \n",
       "2             1.0                 1.0                      1.0   \n",
       "3             1.0                 1.0                      2.0   \n",
       "7             6.0                 1.0                      2.0   \n",
       "\n",
       "   healthscheme_1  healthscheme_2  housestatus  householdstatus  as_binned  \n",
       "0             2.0             NaN          1.0              1.0        NaN  \n",
       "1             2.0             NaN          1.0              1.0        NaN  \n",
       "2             2.0             NaN          1.0              1.0        NaN  \n",
       "3             NaN             NaN          1.0              1.0        NaN  \n",
       "7             NaN             NaN          1.0              1.0        NaN  \n",
       "\n",
       "[5 rows x 57 columns]"
      ]
     },
     "execution_count": 85,
     "metadata": {},
     "output_type": "execute_result"
    }
   ],
   "source": [
    "dist_p.head()"
   ]
  },
  {
   "cell_type": "code",
   "execution_count": 86,
   "metadata": {
    "collapsed": true
   },
   "outputs": [
    {
     "data": {
      "text/html": [
       "<div>\n",
       "<table border=\"1\" class=\"dataframe\">\n",
       "  <thead>\n",
       "    <tr style=\"text-align: right;\">\n",
       "      <th></th>\n",
       "      <th>district</th>\n",
       "      <th>age</th>\n",
       "      <th>rural_1</th>\n",
       "      <th>rural_2</th>\n",
       "      <th>sex_1</th>\n",
       "      <th>sex_2</th>\n",
       "      <th>usual_residance_1.0</th>\n",
       "      <th>religion_1.0</th>\n",
       "      <th>religion_2.0</th>\n",
       "      <th>religion_3.0</th>\n",
       "      <th>...</th>\n",
       "      <th>householdstatus_2.0</th>\n",
       "      <th>householdstatus_3.0</th>\n",
       "      <th>householdstatus_4.0</th>\n",
       "      <th>householdstatus_5.0</th>\n",
       "      <th>householdstatus_6.0</th>\n",
       "      <th>as_binned_1.0</th>\n",
       "      <th>as_binned_2.0</th>\n",
       "      <th>as_binned_3.0</th>\n",
       "      <th>as_binned_4.0</th>\n",
       "      <th>as_binned_5.0</th>\n",
       "    </tr>\n",
       "  </thead>\n",
       "  <tbody>\n",
       "    <tr>\n",
       "      <th>0</th>\n",
       "      <td>8</td>\n",
       "      <td>42.0</td>\n",
       "      <td>1</td>\n",
       "      <td>0</td>\n",
       "      <td>1</td>\n",
       "      <td>0</td>\n",
       "      <td>1</td>\n",
       "      <td>1</td>\n",
       "      <td>0</td>\n",
       "      <td>0</td>\n",
       "      <td>...</td>\n",
       "      <td>0</td>\n",
       "      <td>0</td>\n",
       "      <td>0</td>\n",
       "      <td>0</td>\n",
       "      <td>0</td>\n",
       "      <td>0</td>\n",
       "      <td>0</td>\n",
       "      <td>0</td>\n",
       "      <td>0</td>\n",
       "      <td>0</td>\n",
       "    </tr>\n",
       "    <tr>\n",
       "      <th>1</th>\n",
       "      <td>8</td>\n",
       "      <td>38.0</td>\n",
       "      <td>1</td>\n",
       "      <td>0</td>\n",
       "      <td>0</td>\n",
       "      <td>1</td>\n",
       "      <td>1</td>\n",
       "      <td>1</td>\n",
       "      <td>0</td>\n",
       "      <td>0</td>\n",
       "      <td>...</td>\n",
       "      <td>0</td>\n",
       "      <td>0</td>\n",
       "      <td>0</td>\n",
       "      <td>0</td>\n",
       "      <td>0</td>\n",
       "      <td>0</td>\n",
       "      <td>0</td>\n",
       "      <td>0</td>\n",
       "      <td>0</td>\n",
       "      <td>0</td>\n",
       "    </tr>\n",
       "    <tr>\n",
       "      <th>2</th>\n",
       "      <td>8</td>\n",
       "      <td>12.0</td>\n",
       "      <td>1</td>\n",
       "      <td>0</td>\n",
       "      <td>0</td>\n",
       "      <td>1</td>\n",
       "      <td>1</td>\n",
       "      <td>1</td>\n",
       "      <td>0</td>\n",
       "      <td>0</td>\n",
       "      <td>...</td>\n",
       "      <td>0</td>\n",
       "      <td>0</td>\n",
       "      <td>0</td>\n",
       "      <td>0</td>\n",
       "      <td>0</td>\n",
       "      <td>0</td>\n",
       "      <td>0</td>\n",
       "      <td>0</td>\n",
       "      <td>0</td>\n",
       "      <td>0</td>\n",
       "    </tr>\n",
       "    <tr>\n",
       "      <th>3</th>\n",
       "      <td>8</td>\n",
       "      <td>10.0</td>\n",
       "      <td>1</td>\n",
       "      <td>0</td>\n",
       "      <td>1</td>\n",
       "      <td>0</td>\n",
       "      <td>1</td>\n",
       "      <td>1</td>\n",
       "      <td>0</td>\n",
       "      <td>0</td>\n",
       "      <td>...</td>\n",
       "      <td>0</td>\n",
       "      <td>0</td>\n",
       "      <td>0</td>\n",
       "      <td>0</td>\n",
       "      <td>0</td>\n",
       "      <td>0</td>\n",
       "      <td>0</td>\n",
       "      <td>0</td>\n",
       "      <td>0</td>\n",
       "      <td>0</td>\n",
       "    </tr>\n",
       "    <tr>\n",
       "      <th>7</th>\n",
       "      <td>8</td>\n",
       "      <td>1.0</td>\n",
       "      <td>1</td>\n",
       "      <td>0</td>\n",
       "      <td>1</td>\n",
       "      <td>0</td>\n",
       "      <td>0</td>\n",
       "      <td>1</td>\n",
       "      <td>0</td>\n",
       "      <td>0</td>\n",
       "      <td>...</td>\n",
       "      <td>0</td>\n",
       "      <td>0</td>\n",
       "      <td>0</td>\n",
       "      <td>0</td>\n",
       "      <td>0</td>\n",
       "      <td>0</td>\n",
       "      <td>0</td>\n",
       "      <td>0</td>\n",
       "      <td>0</td>\n",
       "      <td>0</td>\n",
       "    </tr>\n",
       "  </tbody>\n",
       "</table>\n",
       "<p>5 rows × 297 columns</p>\n",
       "</div>"
      ],
      "text/plain": [
       "   district   age  rural_1  rural_2  sex_1  sex_2  usual_residance_1.0  \\\n",
       "0         8  42.0        1        0      1      0                    1   \n",
       "1         8  38.0        1        0      0      1                    1   \n",
       "2         8  12.0        1        0      0      1                    1   \n",
       "3         8  10.0        1        0      1      0                    1   \n",
       "7         8   1.0        1        0      1      0                    0   \n",
       "\n",
       "   religion_1.0  religion_2.0  religion_3.0      ...        \\\n",
       "0             1             0             0      ...         \n",
       "1             1             0             0      ...         \n",
       "2             1             0             0      ...         \n",
       "3             1             0             0      ...         \n",
       "7             1             0             0      ...         \n",
       "\n",
       "   householdstatus_2.0  householdstatus_3.0  householdstatus_4.0  \\\n",
       "0                    0                    0                    0   \n",
       "1                    0                    0                    0   \n",
       "2                    0                    0                    0   \n",
       "3                    0                    0                    0   \n",
       "7                    0                    0                    0   \n",
       "\n",
       "   householdstatus_5.0  householdstatus_6.0  as_binned_1.0  as_binned_2.0  \\\n",
       "0                    0                    0              0              0   \n",
       "1                    0                    0              0              0   \n",
       "2                    0                    0              0              0   \n",
       "3                    0                    0              0              0   \n",
       "7                    0                    0              0              0   \n",
       "\n",
       "   as_binned_3.0  as_binned_4.0  as_binned_5.0  \n",
       "0              0              0              0  \n",
       "1              0              0              0  \n",
       "2              0              0              0  \n",
       "3              0              0              0  \n",
       "7              0              0              0  \n",
       "\n",
       "[5 rows x 297 columns]"
      ]
     },
     "execution_count": 86,
     "metadata": {},
     "output_type": "execute_result"
    }
   ],
   "source": [
    "dist_hot.head()"
   ]
  },
  {
   "cell_type": "code",
   "execution_count": 20,
   "metadata": {
    "collapsed": false
   },
   "outputs": [
    {
     "data": {
      "text/plain": [
       "306"
      ]
     },
     "execution_count": 20,
     "metadata": {},
     "output_type": "execute_result"
    }
   ],
   "source": [
    "dist_hot.shape[1]"
   ]
  },
  {
   "cell_type": "code",
   "execution_count": null,
   "metadata": {
    "collapsed": true
   },
   "outputs": [],
   "source": []
  },
  {
   "cell_type": "code",
   "execution_count": 119,
   "metadata": {
    "collapsed": true
   },
   "outputs": [],
   "source": [
    "f = [0,0,0,0,0,1,1,1,1,4,4,4,4,4,6]"
   ]
  },
  {
   "cell_type": "code",
   "execution_count": 120,
   "metadata": {
    "collapsed": false
   },
   "outputs": [],
   "source": [
    "g = np.arange(15)"
   ]
  },
  {
   "cell_type": "code",
   "execution_count": 121,
   "metadata": {
    "collapsed": false
   },
   "outputs": [
    {
     "data": {
      "text/plain": [
       "array([ 0,  1,  2,  3,  4,  5,  6,  7,  8,  9, 10, 11, 12, 13, 14])"
      ]
     },
     "execution_count": 121,
     "metadata": {},
     "output_type": "execute_result"
    }
   ],
   "source": [
    "g"
   ]
  },
  {
   "cell_type": "code",
   "execution_count": 122,
   "metadata": {
    "collapsed": true
   },
   "outputs": [],
   "source": [
    "for i in range(len(f)):\n",
    "    x = f[i]\n",
    "    g[i] = x + 1"
   ]
  },
  {
   "cell_type": "code",
   "execution_count": 124,
   "metadata": {
    "collapsed": true
   },
   "outputs": [],
   "source": [
    "def increase_by_one(np_array):\n",
    "    l = len(np_array)\n",
    "    new = np.arange(l)\n",
    "    \n",
    "    for i in range(l) :\n",
    "        x = np_array[i]\n",
    "        new[i] = x + 1\n",
    "    return new"
   ]
  },
  {
   "cell_type": "code",
   "execution_count": 125,
   "metadata": {
    "collapsed": false
   },
   "outputs": [],
   "source": [
    "g = increase_by_one(f)"
   ]
  },
  {
   "cell_type": "code",
   "execution_count": 126,
   "metadata": {
    "collapsed": false
   },
   "outputs": [
    {
     "data": {
      "text/plain": [
       "array([1, 1, 1, 1, 1, 2, 2, 2, 2, 5, 5, 5, 5, 5, 7])"
      ]
     },
     "execution_count": 126,
     "metadata": {},
     "output_type": "execute_result"
    }
   ],
   "source": [
    "g"
   ]
  },
  {
   "cell_type": "code",
   "execution_count": 128,
   "metadata": {
    "collapsed": false,
    "scrolled": true
   },
   "outputs": [],
   "source": [
    "k = increase_by_one(np.array(diagnosed_for_df))"
   ]
  },
  {
   "cell_type": "code",
   "execution_count": 129,
   "metadata": {
    "collapsed": false
   },
   "outputs": [
    {
     "data": {
      "text/plain": [
       "(82830,)"
      ]
     },
     "execution_count": 129,
     "metadata": {},
     "output_type": "execute_result"
    }
   ],
   "source": [
    "k.shape"
   ]
  },
  {
   "cell_type": "code",
   "execution_count": 131,
   "metadata": {
    "collapsed": false
   },
   "outputs": [
    {
     "data": {
      "text/plain": [
       "array([1, 1, 1, ..., 1, 1, 1])"
      ]
     },
     "execution_count": 131,
     "metadata": {},
     "output_type": "execute_result"
    }
   ],
   "source": [
    "k"
   ]
  },
  {
   "cell_type": "code",
   "execution_count": 132,
   "metadata": {
    "collapsed": false
   },
   "outputs": [
    {
     "data": {
      "text/plain": [
       "array([[ 0.],\n",
       "       [ 0.],\n",
       "       [ 0.],\n",
       "       ..., \n",
       "       [ 0.],\n",
       "       [ 0.],\n",
       "       [ 0.]])"
      ]
     },
     "execution_count": 132,
     "metadata": {},
     "output_type": "execute_result"
    }
   ],
   "source": [
    "np.array(diagnosed_for_df)"
   ]
  },
  {
   "cell_type": "code",
   "execution_count": 34,
   "metadata": {
    "collapsed": true
   },
   "outputs": [],
   "source": [
    "f = np.copy(diagnosed_for_df)"
   ]
  },
  {
   "cell_type": "code",
   "execution_count": 35,
   "metadata": {
    "collapsed": true
   },
   "outputs": [],
   "source": [
    "g = f.flatten()"
   ]
  },
  {
   "cell_type": "code",
   "execution_count": 36,
   "metadata": {
    "collapsed": false
   },
   "outputs": [
    {
     "data": {
      "text/plain": [
       "(97824,)"
      ]
     },
     "execution_count": 36,
     "metadata": {},
     "output_type": "execute_result"
    }
   ],
   "source": [
    "g.shape"
   ]
  },
  {
   "cell_type": "code",
   "execution_count": 18,
   "metadata": {
    "collapsed": true
   },
   "outputs": [],
   "source": [
    "hdf_file = 'data/3_22_8_train.hdf5'\n",
    "hdf = h5py.File(hdf_file, 'w')\n",
    "\n",
    "with hdf as hf:\n",
    "    hf.create_dataset(\"train\",  data=dist_hot)\n",
    "    hf.create_dataset(\"label\",  data=diagnosed_for_df)\n",
    "    hf.create_dataset(\"psu\",  data=dist_psu)"
   ]
  },
  {
   "cell_type": "code",
   "execution_count": null,
   "metadata": {
    "collapsed": true
   },
   "outputs": [],
   "source": []
  },
  {
   "cell_type": "code",
   "execution_count": 47,
   "metadata": {
    "collapsed": false
   },
   "outputs": [
    {
     "name": "stdout",
     "output_type": "stream",
     "text": [
      "(97824, 306) (97824, 1)\n"
     ]
    }
   ],
   "source": [
    "print(dist_hot.shape, diagnosed_for_df.shape)"
   ]
  },
  {
   "cell_type": "code",
   "execution_count": 27,
   "metadata": {
    "collapsed": true
   },
   "outputs": [],
   "source": [
    "def acc(predictions, labels):\n",
    "    return (100.0 * np.sum(np.argmax(predictions, 2).T == labels) / predictions.shape[1] / predictions.shape[0])"
   ]
  },
  {
   "cell_type": "code",
   "execution_count": 28,
   "metadata": {
    "collapsed": true
   },
   "outputs": [],
   "source": [
    "def mean(numbers):\n",
    "    return float(sum(numbers)) / max(len(numbers), 1)"
   ]
  },
  {
   "cell_type": "code",
   "execution_count": null,
   "metadata": {
    "collapsed": true
   },
   "outputs": [],
   "source": []
  },
  {
   "cell_type": "code",
   "execution_count": 153,
   "metadata": {
    "collapsed": false
   },
   "outputs": [
    {
     "name": "stdout",
     "output_type": "stream",
     "text": [
      "X Shape : (?, 297)\n",
      "Y_ Shape : (?,)\n",
      "   \n",
      "W1 Shape : (297, 500)\n",
      "B1 Shape : (500,)\n",
      "W2 Shape : (500, 600)\n",
      "B2 Shape : (600,)\n",
      "W3 Shape : (600, 400)\n",
      "B3 Shape : (400,)\n",
      "W4 Shape : (400, 200)\n",
      "B4 Shape : (200,)\n",
      "W5 Shape : (200, 50)\n",
      "B5 Shape : (50,)\n",
      "W6 Shape : (50, 1)\n",
      "B6 Shape : (1,)\n",
      "   \n",
      "Y1 Shape : (?, 500)\n",
      "Y2 Shape : (?, 600)\n",
      "Y3 Shape : (?, 400)\n",
      "Y4 Shape : (?, 200)\n",
      "Y5 Shape : (?, 50)\n",
      "   \n",
      "Y_logit Shape : (?, 1)\n",
      "Y Shape : (?, 1)\n"
     ]
    }
   ],
   "source": [
    "graph_svhn = tf.Graph()\n",
    "\n",
    "with graph_svhn.as_default():\n",
    "    WIDTH = dist_hot.shape[1]\n",
    "\n",
    "    X = tf.placeholder(tf.float32, [None, WIDTH])\n",
    "#     Y_ = tf.placeholder(tf.int32, [None, 1])\n",
    "    Y_ = tf.placeholder(tf.float32, [None])\n",
    "    \n",
    "    print('X Shape :', X.get_shape())\n",
    "    print('Y_ Shape :', Y_.get_shape())\n",
    "    print('   ')\n",
    "    \n",
    "    # Learning Rate - alpha\n",
    "    alpha = tf.placeholder(tf.float32)\n",
    "    \n",
    "    # Dropout Probablity\n",
    "    pkeep = tf.placeholder(tf.float32)\n",
    "    \n",
    "    # 6 Layers and their no of neurons\n",
    "    K = 500     # First Layer with 500 Neurons\n",
    "    L = 600     # Second Conv Layer with depth 24\n",
    "    M = 400     # Third Conv layer with depth 36\n",
    "    N = 200     # Fourth Fully Connected layer with 300 neurons\n",
    "    P = 50      # Fifth Fully Connected layer with 200 neurons\n",
    "    # Last one will be softmax layer with 10 output channels\n",
    "    \n",
    "    W1 = tf.Variable(tf.truncated_normal([WIDTH, K], stddev=0.1), name=\"W1\") \n",
    "    B1 = tf.Variable(tf.constant(0.1, tf.float32, [K]), name=\"B1\")\n",
    "    \n",
    "    W2 = tf.Variable(tf.truncated_normal([K, L], stddev=0.1), name=\"W2\")\n",
    "    B2 = tf.Variable(tf.constant(0.1, tf.float32, [L]), name=\"B2\")\n",
    "    \n",
    "    W3 = tf.Variable(tf.truncated_normal([L, M], stddev=0.1), name=\"W2\")\n",
    "    B3 = tf.Variable(tf.constant(0.1, tf.float32, [M]), name=\"B2\")\n",
    "    \n",
    "    W4 = tf.Variable(tf.truncated_normal([M, N], stddev=0.1), name=\"W2\")\n",
    "    B4 = tf.Variable(tf.constant(0.1, tf.float32, [N]), name=\"B2\")\n",
    "    \n",
    "    W5 = tf.Variable(tf.truncated_normal([N, P], stddev=0.1), name=\"W2\")\n",
    "    B5 = tf.Variable(tf.constant(0.1, tf.float32, [P]), name=\"B2\")\n",
    "    \n",
    "    W6 = tf.Variable(tf.truncated_normal([P, 1], stddev=0.1), name=\"W2\")\n",
    "    B6 = tf.Variable(tf.constant(0.1, tf.float32, [1]), name=\"B2\")\n",
    "    \n",
    "    print('W1 Shape :', W1.get_shape())\n",
    "    print('B1 Shape :', B1.get_shape())\n",
    "    print('W2 Shape :', W2.get_shape())\n",
    "    print('B2 Shape :', B2.get_shape())\n",
    "    print('W3 Shape :', W3.get_shape())\n",
    "    print('B3 Shape :', B3.get_shape())\n",
    "    print('W4 Shape :', W4.get_shape())\n",
    "    print('B4 Shape :', B4.get_shape())\n",
    "    print('W5 Shape :', W5.get_shape())\n",
    "    print('B5 Shape :', B5.get_shape())\n",
    "    print('W6 Shape :', W6.get_shape())\n",
    "    print('B6 Shape :', B6.get_shape())\n",
    "    print('   ')\n",
    "    \n",
    "    Y1 = tf.nn.relu(tf.matmul(X, W1) + B1)\n",
    "    Y2 = tf.nn.relu(tf.matmul(Y1, W2) + B2)\n",
    "    Y3 = tf.nn.relu(tf.matmul(Y2, W3) + B3)\n",
    "    Y4 = tf.nn.relu(tf.matmul(Y3, W4) + B4)\n",
    "    Y5 = tf.nn.relu(tf.matmul(Y4, W5) + B5)\n",
    "    # Y_F = tf.nn.dropout(Y5, pkeep)\n",
    "    \n",
    "    print('Y1 Shape :', Y1.get_shape())\n",
    "    print('Y2 Shape :', Y2.get_shape())\n",
    "    print('Y3 Shape :', Y3.get_shape())\n",
    "    print('Y4 Shape :', Y4.get_shape())\n",
    "    print('Y5 Shape :', Y5.get_shape())\n",
    "    print('   ')\n",
    "    \n",
    "    Y_logit = tf.matmul(Y5, W6) + B6\n",
    "    \n",
    "    Y = tf.tanh(Y_logit)\n",
    "    \n",
    "    print('Y_logit Shape :', Y_logit.get_shape())\n",
    "    print('Y Shape :', Y.get_shape())\n",
    "    \n",
    "#     cross_entropy = tf.reduce_mean(tf.nn.softmax_cross_entropy_with_logits(Y_logit, Y_))\n",
    "    cross_entropy = -tf.reduce_sum(Y_ * tf.log(Y_logit))\n",
    "    \n",
    "#     p\n",
    "    \n",
    "    train_prediction = tf.pack([Y,Y_logit])\n",
    "#     logit = 0\n",
    "#     train_prediction = tf.pack(Y)\n",
    "#     logit = tf.pack(Y_logit)\n",
    "\n",
    "    correct_prediction = tf.equal(tf.argmax(Y_logit,1), tf.argmax(Y_,1))\n",
    "    accuracy = tf.reduce_mean(tf.cast(correct_prediction, tf.float32))\n",
    "    \n",
    "    train_step = tf.train.AdamOptimizer(alpha).minimize(cross_entropy)\n",
    "    \n",
    "    W_s = tf.pack([tf.reduce_max(tf.abs(W1)),tf.reduce_max(tf.abs(W2)),tf.reduce_max(tf.abs(W3))\\\n",
    "                   ,tf.reduce_max(tf.abs(W4)),tf.reduce_max(tf.abs(W5)),tf.reduce_max(tf.abs(W6))])\n",
    "    b_s = tf.pack([tf.reduce_max(tf.abs(B1)),tf.reduce_max(tf.abs(B2)),tf.reduce_max(tf.abs(B3))\\\n",
    "                   ,tf.reduce_max(tf.abs(B4)),tf.reduce_max(tf.abs(B5)),tf.reduce_max(tf.abs(B6))])\n",
    "    \n",
    "    model_saver = tf.train.Saver()"
   ]
  },
  {
   "cell_type": "code",
   "execution_count": null,
   "metadata": {
    "collapsed": false,
    "scrolled": false
   },
   "outputs": [
    {
     "name": "stdout",
     "output_type": "stream",
     "text": [
      "(82830,)\n",
      "train :  (82830, 297)   test :  (82830,)\n",
      "Initialized\n",
      "(2, 128, 1)\n",
      "(128,)\n",
      "Loss at step 0: nan\n",
      "W : [ 0.19999914  0.19999708  0.19999969  0.19999772  0.1997866   0.19038302]\n",
      "B : [ 0.1  0.1  0.1  0.1  0.1  0.1]\n",
      "=======\n",
      "    \n",
      "(2, 128, 1)\n",
      "(128,)\n",
      "Loss at step 500: nan\n",
      "W : [ 0.50964737  0.57315683  0.53344107  0.46886757  0.46765342  0.35242102]\n",
      "B : [ 0.40967757  0.33779141  0.3160747   0.25930828  0.11929893  0.09494262]\n",
      "=======\n",
      "    \n",
      "(2, 128, 1)\n",
      "(128,)\n",
      "Loss at step 0: nan\n",
      "W : [ 0.57186347  0.64227384  0.59542829  0.57807344  0.52810013  0.39583063]\n",
      "B : [ 0.46527427  0.38792074  0.34818152  0.26921275  0.11930171  0.09494262]\n",
      "=======\n",
      "    \n"
     ]
    }
   ],
   "source": [
    "train_data = dist_hot.astype(float)\n",
    "# label_data = np.copy(diagnosed_for_df).flatten()\n",
    "label_data = increase_by_one(np.array(diagnosed_for_df)).astype(float)\n",
    "print(label_data.shape)\n",
    "\n",
    "print('train : ', train_data.shape, '  test : ', label_data.shape)\n",
    "\n",
    "batch_size = 128\n",
    "num_steps = int(label_data.shape[0] / batch_size)\n",
    "num_epochs = 25\n",
    "\n",
    "\n",
    "with tf.Session(graph=graph_svhn) as session:\n",
    "    tf.global_variables_initializer().run()\n",
    "    print('Initialized')\n",
    "      \n",
    "    for epoch in range(num_epochs):\n",
    "        for step in range(num_steps - 1):\n",
    "            max_learning_rate = 0.0005\n",
    "            min_learning_rate = 0.0001\n",
    "\n",
    "            decay_speed = 5000.0\n",
    "            learning_rate = min_learning_rate + (max_learning_rate - min_learning_rate) * math.exp(-step/decay_speed)\n",
    "\n",
    "            batch_data = train_data[step*batch_size:(step + 1)*batch_size]\n",
    "            batch_labels = label_data[step*batch_size:(step + 1)*batch_size]\n",
    "\n",
    "            feed_dict = {X : batch_data, Y_ : batch_labels, pkeep : 0.80, alpha : learning_rate}\n",
    "            _, l, train_pred, W, b  = session.run([train_step, cross_entropy, train_prediction, W_s, b_s], feed_dict=feed_dict)\n",
    "#             ac = accuracy.eval(feed_dict=feed_dict)\n",
    "#             print('accc :',ac)\n",
    "# #             accuracy = float(acc(train_pred, batch_labels))\n",
    "            \n",
    "            if step % 500 == 0:\n",
    "                print(train_pred.shape)\n",
    "#                 print('prediction :',train_pred)\n",
    "#                 print('Actual :', batch_labels)\n",
    "#                 print('Logit :', logit)\n",
    "                print(batch_labels.shape)\n",
    "\n",
    "                print('Loss at step %d: %f' % (step, l))\n",
    "    #             print('Minibatch accuracy: %.1f%%' % acc(train_pred, batch_labels))\n",
    "                print('W :', W)\n",
    "                print('B :', b)\n",
    "                print('=======')\n",
    "                print('    ')\n",
    "            \n",
    "            \n",
    "    print('Training Complete on MNIST Data')\n",
    "    \n",
    "    save_path = model_saver.save(session, \"models/try_1.ckpt\")\n",
    "    print(\"Model saved in file: %s\" % save_path)"
   ]
  },
  {
   "cell_type": "code",
   "execution_count": null,
   "metadata": {
    "collapsed": true
   },
   "outputs": [],
   "source": []
  },
  {
   "cell_type": "code",
   "execution_count": null,
   "metadata": {
    "collapsed": true
   },
   "outputs": [],
   "source": []
  }
 ],
 "metadata": {
  "kernelspec": {
   "display_name": "Python 3",
   "language": "python",
   "name": "python3"
  },
  "language_info": {
   "codemirror_mode": {
    "name": "ipython",
    "version": 3
   },
   "file_extension": ".py",
   "mimetype": "text/x-python",
   "name": "python",
   "nbconvert_exporter": "python",
   "pygments_lexer": "ipython3",
   "version": "3.6.0"
  }
 },
 "nbformat": 4,
 "nbformat_minor": 2
}
